{
  "nbformat": 4,
  "nbformat_minor": 0,
  "metadata": {
    "colab": {
      "name": "canopyVizScratch.ipynb",
      "provenance": [],
      "collapsed_sections": [
        "KiaLUyySS0FS",
        "kT541tvsTGSW",
        "eDjMAFk4ikOT"
      ],
      "authorship_tag": "ABX9TyNIV+yuq0NQRe4KRjg75B/w",
      "include_colab_link": true
    },
    "kernelspec": {
      "name": "python3",
      "display_name": "Python 3"
    }
  },
  "cells": [
    {
      "cell_type": "markdown",
      "metadata": {
        "id": "view-in-github",
        "colab_type": "text"
      },
      "source": [
        "<a href=\"https://colab.research.google.com/github/rselent/project-canopy-ds/blob/master/notebooks/canopyDashboardVizTest.ipynb\" target=\"_parent\"><img src=\"https://colab.research.google.com/assets/colab-badge.svg\" alt=\"Open In Colab\"/></a>"
      ]
    },
    {
      "cell_type": "code",
      "metadata": {
        "id": "-8rslVCzdtqk"
      },
      "source": [
        "import pandas as pd\n",
        "\n",
        "github_link = 'https://raw.githubusercontent.com/Lambda-School-Labs/project-canopy-ds/master/data/clean_data/'\n",
        "\n",
        "ass = pd.read_csv( (github_link + \"assessments.csv\"), low_memory= False)\n",
        "common = pd.read_csv( (github_link + \"common_names.csv\"), low_memory= False)\n",
        "tax = pd.read_csv( (github_link + \"taxonomy.csv\"), low_memory= False)\n",
        "cons = pd.read_csv( (github_link + \"conservation_needed.csv\"), low_memory= False)\n",
        "countries = pd.read_csv( (github_link + \"countries.csv\"), low_memory= False)\n",
        "habitats = pd.read_csv( (github_link + \"habitats.csv\"), low_memory= False)\n",
        "research = pd.read_csv( (github_link + \"research_needed.csv\"), low_memory= False)\n",
        "threats = pd.read_csv( (github_link + \"threats.csv\"), low_memory= False)\n",
        "trade = pd.read_csv( (github_link + \"usetrade.csv\"), low_memory= False)\n",
        "cites_listings = pd.read_csv( github_link + 'cites_listings.csv')"
      ],
      "execution_count": null,
      "outputs": []
    },
    {
      "cell_type": "code",
      "metadata": {
        "id": "7hQ0RmiPdtoE",
        "outputId": "c0bca092-3275-4c01-d082-5a32421181dd",
        "colab": {
          "base_uri": "https://localhost:8080/",
          "height": 74
        }
      },
      "source": [
        "import numpy as np\n",
        "import seaborn as sns\n",
        "import matplotlib.pyplot as plt\n",
        "import plotly.express as px\n",
        "import plotly.graph_objects as go"
      ],
      "execution_count": null,
      "outputs": [
        {
          "output_type": "stream",
          "text": [
            "/usr/local/lib/python3.6/dist-packages/statsmodels/tools/_testing.py:19: FutureWarning: pandas.util.testing is deprecated. Use the functions in the public API at pandas.testing instead.\n",
            "  import pandas.util.testing as tm\n"
          ],
          "name": "stderr"
        }
      ]
    },
    {
      "cell_type": "markdown",
      "metadata": {
        "id": "AgvgjCTmzDVM"
      },
      "source": [
        "## Is one taxonomic rank (class) more threatened than another, in the aggregate? "
      ]
    },
    {
      "cell_type": "markdown",
      "metadata": {
        "id": "KiaLUyySS0FS"
      },
      "source": [
        "### Workwork:"
      ]
    },
    {
      "cell_type": "code",
      "metadata": {
        "id": "bX7fqhnedtmW",
        "outputId": "ff5614ee-44a8-454f-cd8b-efc2cb9a245a",
        "colab": {
          "base_uri": "https://localhost:8080/",
          "height": 403
        }
      },
      "source": [
        "tax.className.value_counts()"
      ],
      "execution_count": null,
      "outputs": [
        {
          "output_type": "execute_result",
          "data": {
            "text/plain": [
              "MAGNOLIOPSIDA     1622\n",
              "ACTINOPTERYGII    1299\n",
              "AVES              1088\n",
              "INSECTA            702\n",
              "LILIOPSIDA         606\n",
              "MAMMALIA           481\n",
              "AMPHIBIA           363\n",
              "GASTROPODA         182\n",
              "REPTILIA            72\n",
              "MALACOSTRACA        72\n",
              "BIVALVIA            61\n",
              "POLYPODIOPSIDA      45\n",
              "ARACHNIDA            8\n",
              "LYCOPODIOPSIDA       5\n",
              "PINOPSIDA            4\n",
              "CHONDRICHTHYES       3\n",
              "CYCADOPSIDA          3\n",
              "SARCOPTERYGII        3\n",
              "GNETOPSIDA           2\n",
              "MAXILLOPODA          1\n",
              "Name: className, dtype: int64"
            ]
          },
          "metadata": {
            "tags": []
          },
          "execution_count": 5
        }
      ]
    },
    {
      "cell_type": "code",
      "metadata": {
        "id": "n4EDRZp6jBKl",
        "outputId": "a44fdb6d-10a9-4594-aa9a-5133f074e47c",
        "colab": {
          "base_uri": "https://localhost:8080/",
          "height": 311
        }
      },
      "source": [
        "tax[ ass.redlistCategory.isin( [\"Vulnerable\", \"Endangered\", \"Critically Endangered\"])].className.value_counts()"
      ],
      "execution_count": null,
      "outputs": [
        {
          "output_type": "execute_result",
          "data": {
            "text/plain": [
              "MAGNOLIOPSIDA     523\n",
              "ACTINOPTERYGII    148\n",
              "LILIOPSIDA        126\n",
              "MAMMALIA           73\n",
              "AMPHIBIA           72\n",
              "AVES               59\n",
              "GASTROPODA         47\n",
              "INSECTA            18\n",
              "REPTILIA           16\n",
              "BIVALVIA            8\n",
              "MALACOSTRACA        6\n",
              "POLYPODIOPSIDA      3\n",
              "CHONDRICHTHYES      3\n",
              "CYCADOPSIDA         1\n",
              "MAXILLOPODA         1\n",
              "Name: className, dtype: int64"
            ]
          },
          "metadata": {
            "tags": []
          },
          "execution_count": 7
        }
      ]
    },
    {
      "cell_type": "code",
      "metadata": {
        "id": "hvxFW7J6ov0d"
      },
      "source": [
        "df_aggThreat = pd.merge( ass, tax, on= \"scientificName\", how= \"inner\", validate= \"one_to_one\")"
      ],
      "execution_count": null,
      "outputs": []
    },
    {
      "cell_type": "code",
      "metadata": {
        "id": "yrDqYD2-ss9k",
        "outputId": "4fb3e916-6da8-419c-812d-63a4828a3c08",
        "colab": {
          "base_uri": "https://localhost:8080/",
          "height": 35
        }
      },
      "source": [
        "df_aggThreat_cats = df_aggThreat[ df_aggThreat.redlistCategory.isin( [\"Vulnerable\", \"Endangered\", \"Critically Endangered\"])]\n",
        "\n",
        "df_aggThreat_cats.shape"
      ],
      "execution_count": null,
      "outputs": [
        {
          "output_type": "execute_result",
          "data": {
            "text/plain": [
              "(1104, 37)"
            ]
          },
          "metadata": {
            "tags": []
          },
          "execution_count": 4
        }
      ]
    },
    {
      "cell_type": "code",
      "metadata": {
        "id": "udxVg94sK5ET"
      },
      "source": [
        "df_aggThreat_VU_ = df_aggThreat[ df_aggThreat.redlistCategory.isin( [\"Vulnerable\"])]\n",
        "df_aggThreat_VU = df_aggThreat_VU_[ df_aggThreat_VU_.className.isin( ['MAMMALIA', 'AMPHIBIA', 'AVES', 'REPTILIA'])]\n",
        "\n",
        "df_aggThreat_EN_ = df_aggThreat[ df_aggThreat.redlistCategory.isin( [\"Endangered\"])]\n",
        "df_aggThreat_EN = df_aggThreat_EN_[ df_aggThreat_EN_.className.isin( ['MAMMALIA', 'AMPHIBIA', 'AVES', 'REPTILIA'])]\n",
        "\n",
        "df_aggThreat_CR_ = df_aggThreat[ df_aggThreat.redlistCategory.isin( [\"Critically Endangered\"])]\n",
        "df_aggThreat_CR = df_aggThreat_CR_[ df_aggThreat_CR_.className.isin( ['MAMMALIA', 'AMPHIBIA', 'AVES', 'REPTILIA'])]"
      ],
      "execution_count": null,
      "outputs": []
    },
    {
      "cell_type": "code",
      "metadata": {
        "id": "KtttObyCK48X"
      },
      "source": [
        ""
      ],
      "execution_count": null,
      "outputs": []
    },
    {
      "cell_type": "code",
      "metadata": {
        "id": "0KuF8mD4DySj",
        "outputId": "9ec3efe1-bcc2-48cc-afac-73a704972983",
        "colab": {
          "base_uri": "https://localhost:8080/",
          "height": 109
        }
      },
      "source": [
        "df_aggThreat_VU.className.value_counts()"
      ],
      "execution_count": null,
      "outputs": [
        {
          "output_type": "execute_result",
          "data": {
            "text/plain": [
              "MAMMALIA    37\n",
              "AVES        36\n",
              "AMPHIBIA    18\n",
              "REPTILIA     8\n",
              "Name: className, dtype: int64"
            ]
          },
          "metadata": {
            "tags": []
          },
          "execution_count": 121
        }
      ]
    },
    {
      "cell_type": "code",
      "metadata": {
        "id": "X6diH9VxUb5w",
        "outputId": "4c4aa318-21be-4036-a2b2-d315098e1b54",
        "colab": {
          "base_uri": "https://localhost:8080/",
          "height": 109
        }
      },
      "source": [
        "df_aggThreat_EN.className.value_counts()"
      ],
      "execution_count": null,
      "outputs": [
        {
          "output_type": "execute_result",
          "data": {
            "text/plain": [
              "AMPHIBIA    34\n",
              "MAMMALIA    28\n",
              "AVES        19\n",
              "REPTILIA     3\n",
              "Name: className, dtype: int64"
            ]
          },
          "metadata": {
            "tags": []
          },
          "execution_count": 123
        }
      ]
    },
    {
      "cell_type": "code",
      "metadata": {
        "id": "deA4MBKYUbp3",
        "outputId": "1358f150-af81-4eb3-ec36-97e562972e4a",
        "colab": {
          "base_uri": "https://localhost:8080/",
          "height": 109
        }
      },
      "source": [
        "df_aggThreat_CR.className.value_counts()"
      ],
      "execution_count": null,
      "outputs": [
        {
          "output_type": "execute_result",
          "data": {
            "text/plain": [
              "AMPHIBIA    20\n",
              "MAMMALIA     8\n",
              "REPTILIA     5\n",
              "AVES         4\n",
              "Name: className, dtype: int64"
            ]
          },
          "metadata": {
            "tags": []
          },
          "execution_count": 124
        }
      ]
    },
    {
      "cell_type": "code",
      "metadata": {
        "id": "EpKTY1n1OHL3",
        "outputId": "00086357-2af1-42d7-9c7a-f7ad396ef973",
        "colab": {
          "base_uri": "https://localhost:8080/",
          "height": 90
        }
      },
      "source": [
        "aggThreat_plot.redlistCategory.value_counts()"
      ],
      "execution_count": null,
      "outputs": [
        {
          "output_type": "execute_result",
          "data": {
            "text/plain": [
              "Vulnerable               99\n",
              "Endangered               84\n",
              "Critically Endangered    37\n",
              "Name: redlistCategory, dtype: int64"
            ]
          },
          "metadata": {
            "tags": []
          },
          "execution_count": 111
        }
      ]
    },
    {
      "cell_type": "markdown",
      "metadata": {
        "id": "6nC2j6yySurJ"
      },
      "source": [
        "### Results:"
      ]
    },
    {
      "cell_type": "code",
      "metadata": {
        "id": "twH8stsWjiYP",
        "outputId": "be14e67e-eb8f-4187-ae84-236929842a9b",
        "colab": {
          "base_uri": "https://localhost:8080/",
          "height": 657
        }
      },
      "source": [
        "aggThreat_plot = df_aggThreat_cats[ df_aggThreat_cats.className.isin( ['MAMMALIA', 'AMPHIBIA', 'AVES', 'REPTILIA'])]\n",
        "\n",
        "f = sns.catplot( x= 'className',  hue= 'redlistCategory', data= aggThreat_plot,\n",
        "                 height= 9, legend_out= True, kind= 'count', \n",
        "                 row_order= (['MAMMALIA', 'AMPHIBIA', 'AVES', 'REPTILIA']));"
      ],
      "execution_count": null,
      "outputs": [
        {
          "output_type": "display_data",
          "data": {
            "image/png": "[encoded data removed]",
            "text/plain": [
              "<Figure size 791.375x648 with 1 Axes>"
            ]
          },
          "metadata": {
            "tags": []
          }
        }
      ]
    },
    {
      "cell_type": "code",
      "metadata": {
        "id": "WUX-9Aqw5EH5",
        "outputId": "b1225201-8f45-46fa-e6e1-a11afa316ee6",
        "colab": {
          "base_uri": "https://localhost:8080/",
          "height": 542
        }
      },
      "source": [
        "classes = ['MAMMALIA', 'AMPHIBIA', 'AVES', 'REPTILIA']\n",
        "\n",
        "fig = go.Figure( data= [\n",
        "    go.Bar( name= 'Vulnerable', x= classes, y= df_aggThreat_VU.className.value_counts()),\n",
        "    go.Bar( name= 'Endangered', x= classes, y= df_aggThreat_EN.className.value_counts()),\n",
        "    go.Bar( name= 'Critically Endangered', x= classes, y= df_aggThreat_CR.className.value_counts())\n",
        "])\n",
        "\n",
        "fig.update_layout( barmode= 'stack')\n",
        "fig.show()              ### WARNING: order of data isn't static (value_counts)\n",
        "                        ### numbers are right, just in wrong categories\n",
        "                        ### e.g., 2/3 of AMPHIBIA #s are in MAMMALIA"
      ],
      "execution_count": null,
      "outputs": [
        {
          "output_type": "display_data",
          "data": {
            "text/html": [
              "<html>\n",
              "<head><meta charset=\"utf-8\" /></head>\n",
              "<body>\n",
              "    <div>\n",
              "            <script src=\"https://cdnjs.cloudflare.com/ajax/libs/mathjax/2.7.5/MathJax.js?config=TeX-AMS-MML_SVG\"></script><script type=\"text/javascript\">if (window.MathJax) {MathJax.Hub.Config({SVG: {font: \"STIX-Web\"}});}</script>\n",
              "                <script type=\"text/javascript\">window.PlotlyConfig = {MathJaxConfig: 'local'};</script>\n",
              "        <script src=\"https://cdn.plot.ly/plotly-latest.min.js\"></script>    \n",
              "            <div id=\"8fd0d2f6-5f95-4aae-a351-903d09b8ef51\" class=\"plotly-graph-div\" style=\"height:525px; width:100%;\"></div>\n",
              "            <script type=\"text/javascript\">\n",
              "                \n",
              "                    window.PLOTLYENV=window.PLOTLYENV || {};\n",
              "                    \n",
              "                if (document.getElementById(\"8fd0d2f6-5f95-4aae-a351-903d09b8ef51\")) {\n",
              "                    Plotly.newPlot(\n",
              "                        '8fd0d2f6-5f95-4aae-a351-903d09b8ef51',\n",
              "                        [{\"name\": \"Vulnerable\", \"type\": \"bar\", \"x\": [\"MAMMALIA\", \"AMPHIBIA\", \"AVES\", \"REPTILIA\"], \"y\": [37, 36, 18, 8]}, {\"name\": \"Endangered\", \"type\": \"bar\", \"x\": [\"MAMMALIA\", \"AMPHIBIA\", \"AVES\", \"REPTILIA\"], \"y\": [34, 28, 19, 3]}, {\"name\": \"Critically Endangered\", \"type\": \"bar\", \"x\": [\"MAMMALIA\", \"AMPHIBIA\", \"AVES\", \"REPTILIA\"], \"y\": [20, 8, 5, 4]}],\n",
              "                        {\"barmode\": \"stack\", \"template\": {\"data\": {\"bar\": [{\"error_x\": {\"color\": \"#2a3f5f\"}, \"error_y\": {\"color\": \"#2a3f5f\"}, \"marker\": {\"line\": {\"color\": \"#E5ECF6\", \"width\": 0.5}}, \"type\": \"bar\"}], \"barpolar\": [{\"marker\": {\"line\": {\"color\": \"#E5ECF6\", \"width\": 0.5}}, \"type\": \"barpolar\"}], \"carpet\": [{\"aaxis\": {\"endlinecolor\": \"#2a3f5f\", \"gridcolor\": \"white\", \"linecolor\": \"white\", \"minorgridcolor\": \"white\", \"startlinecolor\": \"#2a3f5f\"}, \"baxis\": {\"endlinecolor\": \"#2a3f5f\", \"gridcolor\": \"white\", \"linecolor\": \"white\", \"minorgridcolor\": \"white\", \"startlinecolor\": \"#2a3f5f\"}, \"type\": \"carpet\"}], \"choropleth\": [{\"colorbar\": {\"outlinewidth\": 0, \"ticks\": \"\"}, \"type\": \"choropleth\"}], \"contour\": [{\"colorbar\": {\"outlinewidth\": 0, \"ticks\": \"\"}, \"colorscale\": [[0.0, \"#0d0887\"], [0.1111111111111111, \"#46039f\"], [0.2222222222222222, \"#7201a8\"], [0.3333333333333333, \"#9c179e\"], [0.4444444444444444, \"#bd3786\"], [0.5555555555555556, \"#d8576b\"], [0.6666666666666666, \"#ed7953\"], [0.7777777777777778, \"#fb9f3a\"], [0.8888888888888888, \"#fdca26\"], [1.0, \"#f0f921\"]], \"type\": \"contour\"}], \"contourcarpet\": [{\"colorbar\": {\"outlinewidth\": 0, \"ticks\": \"\"}, \"type\": \"contourcarpet\"}], \"heatmap\": [{\"colorbar\": {\"outlinewidth\": 0, \"ticks\": \"\"}, \"colorscale\": [[0.0, \"#0d0887\"], [0.1111111111111111, \"#46039f\"], [0.2222222222222222, \"#7201a8\"], [0.3333333333333333, \"#9c179e\"], [0.4444444444444444, \"#bd3786\"], [0.5555555555555556, \"#d8576b\"], [0.6666666666666666, \"#ed7953\"], [0.7777777777777778, \"#fb9f3a\"], [0.8888888888888888, \"#fdca26\"], [1.0, \"#f0f921\"]], \"type\": \"heatmap\"}], \"heatmapgl\": [{\"colorbar\": {\"outlinewidth\": 0, \"ticks\": \"\"}, \"colorscale\": [[0.0, \"#0d0887\"], [0.1111111111111111, \"#46039f\"], [0.2222222222222222, \"#7201a8\"], [0.3333333333333333, \"#9c179e\"], [0.4444444444444444, \"#bd3786\"], [0.5555555555555556, \"#d8576b\"], [0.6666666666666666, \"#ed7953\"], [0.7777777777777778, \"#fb9f3a\"], [0.8888888888888888, \"#fdca26\"], [1.0, \"#f0f921\"]], \"type\": \"heatmapgl\"}], \"histogram\": [{\"marker\": {\"colorbar\": {\"outlinewidth\": 0, \"ticks\": \"\"}}, \"type\": \"histogram\"}], \"histogram2d\": [{\"colorbar\": {\"outlinewidth\": 0, \"ticks\": \"\"}, \"colorscale\": [[0.0, \"#0d0887\"], [0.1111111111111111, \"#46039f\"], [0.2222222222222222, \"#7201a8\"], [0.3333333333333333, \"#9c179e\"], [0.4444444444444444, \"#bd3786\"], [0.5555555555555556, \"#d8576b\"], [0.6666666666666666, \"#ed7953\"], [0.7777777777777778, \"#fb9f3a\"], [0.8888888888888888, \"#fdca26\"], [1.0, \"#f0f921\"]], \"type\": \"histogram2d\"}], \"histogram2dcontour\": [{\"colorbar\": {\"outlinewidth\": 0, \"ticks\": \"\"}, \"colorscale\": [[0.0, \"#0d0887\"], [0.1111111111111111, \"#46039f\"], [0.2222222222222222, \"#7201a8\"], [0.3333333333333333, \"#9c179e\"], [0.4444444444444444, \"#bd3786\"], [0.5555555555555556, \"#d8576b\"], [0.6666666666666666, \"#ed7953\"], [0.7777777777777778, \"#fb9f3a\"], [0.8888888888888888, \"#fdca26\"], [1.0, \"#f0f921\"]], \"type\": \"histogram2dcontour\"}], \"mesh3d\": [{\"colorbar\": {\"outlinewidth\": 0, \"ticks\": \"\"}, \"type\": \"mesh3d\"}], \"parcoords\": [{\"line\": {\"colorbar\": {\"outlinewidth\": 0, \"ticks\": \"\"}}, \"type\": \"parcoords\"}], \"pie\": [{\"automargin\": true, \"type\": \"pie\"}], \"scatter\": [{\"marker\": {\"colorbar\": {\"outlinewidth\": 0, \"ticks\": \"\"}}, \"type\": \"scatter\"}], \"scatter3d\": [{\"line\": {\"colorbar\": {\"outlinewidth\": 0, \"ticks\": \"\"}}, \"marker\": {\"colorbar\": {\"outlinewidth\": 0, \"ticks\": \"\"}}, \"type\": \"scatter3d\"}], \"scattercarpet\": [{\"marker\": {\"colorbar\": {\"outlinewidth\": 0, \"ticks\": \"\"}}, \"type\": \"scattercarpet\"}], \"scattergeo\": [{\"marker\": {\"colorbar\": {\"outlinewidth\": 0, \"ticks\": \"\"}}, \"type\": \"scattergeo\"}], \"scattergl\": [{\"marker\": {\"colorbar\": {\"outlinewidth\": 0, \"ticks\": \"\"}}, \"type\": \"scattergl\"}], \"scattermapbox\": [{\"marker\": {\"colorbar\": {\"outlinewidth\": 0, \"ticks\": \"\"}}, \"type\": \"scattermapbox\"}], \"scatterpolar\": [{\"marker\": {\"colorbar\": {\"outlinewidth\": 0, \"ticks\": \"\"}}, \"type\": \"scatterpolar\"}], \"scatterpolargl\": [{\"marker\": {\"colorbar\": {\"outlinewidth\": 0, \"ticks\": \"\"}}, \"type\": \"scatterpolargl\"}], \"scatterternary\": [{\"marker\": {\"colorbar\": {\"outlinewidth\": 0, \"ticks\": \"\"}}, \"type\": \"scatterternary\"}], \"surface\": [{\"colorbar\": {\"outlinewidth\": 0, \"ticks\": \"\"}, \"colorscale\": [[0.0, \"#0d0887\"], [0.1111111111111111, \"#46039f\"], [0.2222222222222222, \"#7201a8\"], [0.3333333333333333, \"#9c179e\"], [0.4444444444444444, \"#bd3786\"], [0.5555555555555556, \"#d8576b\"], [0.6666666666666666, \"#ed7953\"], [0.7777777777777778, \"#fb9f3a\"], [0.8888888888888888, \"#fdca26\"], [1.0, \"#f0f921\"]], \"type\": \"surface\"}], \"table\": [{\"cells\": {\"fill\": {\"color\": \"#EBF0F8\"}, \"line\": {\"color\": \"white\"}}, \"header\": {\"fill\": {\"color\": \"#C8D4E3\"}, \"line\": {\"color\": \"white\"}}, \"type\": \"table\"}]}, \"layout\": {\"annotationdefaults\": {\"arrowcolor\": \"#2a3f5f\", \"arrowhead\": 0, \"arrowwidth\": 1}, \"coloraxis\": {\"colorbar\": {\"outlinewidth\": 0, \"ticks\": \"\"}}, \"colorscale\": {\"diverging\": [[0, \"#8e0152\"], [0.1, \"#c51b7d\"], [0.2, \"#de77ae\"], [0.3, \"#f1b6da\"], [0.4, \"#fde0ef\"], [0.5, \"#f7f7f7\"], [0.6, \"#e6f5d0\"], [0.7, \"#b8e186\"], [0.8, \"#7fbc41\"], [0.9, \"#4d9221\"], [1, \"#276419\"]], \"sequential\": [[0.0, \"#0d0887\"], [0.1111111111111111, \"#46039f\"], [0.2222222222222222, \"#7201a8\"], [0.3333333333333333, \"#9c179e\"], [0.4444444444444444, \"#bd3786\"], [0.5555555555555556, \"#d8576b\"], [0.6666666666666666, \"#ed7953\"], [0.7777777777777778, \"#fb9f3a\"], [0.8888888888888888, \"#fdca26\"], [1.0, \"#f0f921\"]], \"sequentialminus\": [[0.0, \"#0d0887\"], [0.1111111111111111, \"#46039f\"], [0.2222222222222222, \"#7201a8\"], [0.3333333333333333, \"#9c179e\"], [0.4444444444444444, \"#bd3786\"], [0.5555555555555556, \"#d8576b\"], [0.6666666666666666, \"#ed7953\"], [0.7777777777777778, \"#fb9f3a\"], [0.8888888888888888, \"#fdca26\"], [1.0, \"#f0f921\"]]}, \"colorway\": [\"#636efa\", \"#EF553B\", \"#00cc96\", \"#ab63fa\", \"#FFA15A\", \"#19d3f3\", \"#FF6692\", \"#B6E880\", \"#FF97FF\", \"#FECB52\"], \"font\": {\"color\": \"#2a3f5f\"}, \"geo\": {\"bgcolor\": \"white\", \"lakecolor\": \"white\", \"landcolor\": \"#E5ECF6\", \"showlakes\": true, \"showland\": true, \"subunitcolor\": \"white\"}, \"hoverlabel\": {\"align\": \"left\"}, \"hovermode\": \"closest\", \"mapbox\": {\"style\": \"light\"}, \"paper_bgcolor\": \"white\", \"plot_bgcolor\": \"#E5ECF6\", \"polar\": {\"angularaxis\": {\"gridcolor\": \"white\", \"linecolor\": \"white\", \"ticks\": \"\"}, \"bgcolor\": \"#E5ECF6\", \"radialaxis\": {\"gridcolor\": \"white\", \"linecolor\": \"white\", \"ticks\": \"\"}}, \"scene\": {\"xaxis\": {\"backgroundcolor\": \"#E5ECF6\", \"gridcolor\": \"white\", \"gridwidth\": 2, \"linecolor\": \"white\", \"showbackground\": true, \"ticks\": \"\", \"zerolinecolor\": \"white\"}, \"yaxis\": {\"backgroundcolor\": \"#E5ECF6\", \"gridcolor\": \"white\", \"gridwidth\": 2, \"linecolor\": \"white\", \"showbackground\": true, \"ticks\": \"\", \"zerolinecolor\": \"white\"}, \"zaxis\": {\"backgroundcolor\": \"#E5ECF6\", \"gridcolor\": \"white\", \"gridwidth\": 2, \"linecolor\": \"white\", \"showbackground\": true, \"ticks\": \"\", \"zerolinecolor\": \"white\"}}, \"shapedefaults\": {\"line\": {\"color\": \"#2a3f5f\"}}, \"ternary\": {\"aaxis\": {\"gridcolor\": \"white\", \"linecolor\": \"white\", \"ticks\": \"\"}, \"baxis\": {\"gridcolor\": \"white\", \"linecolor\": \"white\", \"ticks\": \"\"}, \"bgcolor\": \"#E5ECF6\", \"caxis\": {\"gridcolor\": \"white\", \"linecolor\": \"white\", \"ticks\": \"\"}}, \"title\": {\"x\": 0.05}, \"xaxis\": {\"automargin\": true, \"gridcolor\": \"white\", \"linecolor\": \"white\", \"ticks\": \"\", \"title\": {\"standoff\": 15}, \"zerolinecolor\": \"white\", \"zerolinewidth\": 2}, \"yaxis\": {\"automargin\": true, \"gridcolor\": \"white\", \"linecolor\": \"white\", \"ticks\": \"\", \"title\": {\"standoff\": 15}, \"zerolinecolor\": \"white\", \"zerolinewidth\": 2}}}},\n",
              "                        {\"responsive\": true}\n",
              "                    ).then(function(){\n",
              "                            \n",
              "var gd = document.getElementById('8fd0d2f6-5f95-4aae-a351-903d09b8ef51');\n",
              "var x = new MutationObserver(function (mutations, observer) {{\n",
              "        var display = window.getComputedStyle(gd).display;\n",
              "        if (!display || display === 'none') {{\n",
              "            console.log([gd, 'removed!']);\n",
              "            Plotly.purge(gd);\n",
              "            observer.disconnect();\n",
              "        }}\n",
              "}});\n",
              "\n",
              "// Listen for the removal of the full notebook cells\n",
              "var notebookContainer = gd.closest('#notebook-container');\n",
              "if (notebookContainer) {{\n",
              "    x.observe(notebookContainer, {childList: true});\n",
              "}}\n",
              "\n",
              "// Listen for the clearing of the current output cell\n",
              "var outputEl = gd.closest('.output');\n",
              "if (outputEl) {{\n",
              "    x.observe(outputEl, {childList: true});\n",
              "}}\n",
              "\n",
              "                        })\n",
              "                };\n",
              "                \n",
              "            </script>\n",
              "        </div>\n",
              "</body>\n",
              "</html>"
            ]
          },
          "metadata": {
            "tags": []
          }
        }
      ]
    },
    {
      "cell_type": "markdown",
      "metadata": {
        "id": "MZ6jM47czFs9"
      },
      "source": [
        "## What are the (most?) threatened species / classes?"
      ]
    },
    {
      "cell_type": "markdown",
      "metadata": {
        "id": "kT541tvsTGSW"
      },
      "source": [
        "### Workwork:"
      ]
    },
    {
      "cell_type": "code",
      "metadata": {
        "id": "Rp5HbiLGdtif"
      },
      "source": [
        "# establish relevant taxonomic ranks\n",
        "classes = [\"MAMMALIA\", \"AMPHIBIA\", \"AVES\", \"REPTILIA\"]\n",
        "status = [\"Vulnerable\", \"Endangered\", \"Critically Endangered\"]"
      ],
      "execution_count": null,
      "outputs": []
    },
    {
      "cell_type": "code",
      "metadata": {
        "id": "TAVDdFXQmrmr",
        "outputId": "defeb94d-be08-4c6e-bd32-6abab3e1f74f",
        "colab": {
          "base_uri": "https://localhost:8080/",
          "height": 146
        }
      },
      "source": [
        "# Most threatened classes\n",
        "thr_class_count = df_aggThreat_cats[ df_aggThreat_cats.className.isin( \n",
        "    ['MAMMALIA', 'AMPHIBIA', 'AVES', 'REPTILIA', 'MAGNOLIOPSIDA', 'ACTINOPTERYGII'])].className.value_counts()\n",
        "thr_class_count"
      ],
      "execution_count": null,
      "outputs": [
        {
          "output_type": "execute_result",
          "data": {
            "text/plain": [
              "MAGNOLIOPSIDA     523\n",
              "ACTINOPTERYGII    148\n",
              "MAMMALIA           73\n",
              "AMPHIBIA           72\n",
              "AVES               59\n",
              "REPTILIA           16\n",
              "Name: className, dtype: int64"
            ]
          },
          "metadata": {
            "tags": []
          },
          "execution_count": 10
        }
      ]
    },
    {
      "cell_type": "code",
      "metadata": {
        "id": "_xQkmYeeSKgb",
        "outputId": "3b74c0b6-92b8-40bb-a7b2-f9398a22b760",
        "colab": {
          "base_uri": "https://localhost:8080/",
          "height": 35
        }
      },
      "source": [
        "thr_class_count.sum()"
      ],
      "execution_count": null,
      "outputs": [
        {
          "output_type": "execute_result",
          "data": {
            "text/plain": [
              "891"
            ]
          },
          "metadata": {
            "tags": []
          },
          "execution_count": 348
        }
      ]
    },
    {
      "cell_type": "code",
      "metadata": {
        "id": "zuoNNCFQnMAO"
      },
      "source": [
        "thr_species_list = threats.groupby( threats.scientificName).count().sort_values( by= ['assessmentId'], ascending= False)\n",
        "# thr_species_list.head(10)\n",
        "\n",
        "topTen = ['Trichechus senegalensis',\n",
        "          'Loxodonta africana',\n",
        "          'Aldrovanda vesiculosa',\n",
        "          'Limosa limosa',\n",
        "          'Hydrictis maculicollis',\n",
        "          'Mecistops cataphractus',\n",
        "          'Gorilla beringei',\n",
        "          'Cercopithecus cephus',\n",
        "          'Panthera pardus',\n",
        "          'Bucorvus leadbeateri',\n",
        "          'Lycaon pictus',\n",
        "          'Calidris ferruginea',\n",
        "          'Bugeranus carunculatus',\n",
        "          'Balaeniceps rex',\n",
        "          'Coffea arabica',\n",
        "          'Aythya ferina',\n",
        "          'Aonyx capensis',\n",
        "          'Neophron percnopterus',\n",
        "          'Mormyrus kannume',\n",
        "          'Pan troglodytes'\n",
        "]\n",
        "\n",
        "thr_species_count = threats.scientificName.value_counts()[:20]"
      ],
      "execution_count": null,
      "outputs": []
    },
    {
      "cell_type": "code",
      "metadata": {
        "id": "vOubot05_xS7",
        "outputId": "766679d6-2642-4cff-e5a3-f952e5345052",
        "colab": {
          "base_uri": "https://localhost:8080/",
          "height": 403
        }
      },
      "source": [
        "thr_species_count"
      ],
      "execution_count": null,
      "outputs": [
        {
          "output_type": "execute_result",
          "data": {
            "text/plain": [
              "Trichechus senegalensis    35\n",
              "Loxodonta africana         21\n",
              "Aldrovanda vesiculosa      21\n",
              "Limosa limosa              21\n",
              "Hydrictis maculicollis     20\n",
              "Mecistops cataphractus     20\n",
              "Gorilla beringei           20\n",
              "Cercopithecus cephus       19\n",
              "Panthera pardus            19\n",
              "Bucorvus leadbeateri       18\n",
              "Lycaon pictus              18\n",
              "Calidris ferruginea        17\n",
              "Bugeranus carunculatus     17\n",
              "Balaeniceps rex            16\n",
              "Coffea arabica             15\n",
              "Aythya ferina              15\n",
              "Aonyx capensis             15\n",
              "Neophron percnopterus      15\n",
              "Mormyrus kannume           15\n",
              "Pan troglodytes            15\n",
              "Name: scientificName, dtype: int64"
            ]
          },
          "metadata": {
            "tags": []
          },
          "execution_count": 280
        }
      ]
    },
    {
      "cell_type": "code",
      "metadata": {
        "id": "70SfEqPOoT9_"
      },
      "source": [
        "df_commNames_ = pd.merge( ass, common, on= \"scientificName\", how= \"left\", validate= \"one_to_many\")"
      ],
      "execution_count": null,
      "outputs": []
    },
    {
      "cell_type": "code",
      "metadata": {
        "id": "3hnW6C75pw8G"
      },
      "source": [
        "df_commNames = df_commNames_[ df_commNames_.language_y.isin( [\"English\"])]"
      ],
      "execution_count": null,
      "outputs": []
    },
    {
      "cell_type": "code",
      "metadata": {
        "id": "OXzFHagKpw4o"
      },
      "source": [
        "df_commNames = df_commNames[ df_commNames.scientificName.isin( topTen)].copy()"
      ],
      "execution_count": null,
      "outputs": []
    },
    {
      "cell_type": "code",
      "metadata": {
        "id": "bZ1PHILGAv04"
      },
      "source": [
        "topTenTax = tax[ tax.scientificName.isin( topTen)]"
      ],
      "execution_count": null,
      "outputs": []
    },
    {
      "cell_type": "code",
      "metadata": {
        "id": "KWGl2bJBHhET"
      },
      "source": [
        "list( topTen)\n",
        "\n",
        "### SUNBURST DATA\n",
        "\n",
        "sunData = dict( names = ['Total<br>Threats', 'MAMMALIA', 'MAGNOLIOPSIDA', 'REPTILIA', 'AVES', 'ACTINOPTERYGII',\n",
        "                         'Trichechus<br>senegalensis', 'Loxodonta<br>africana', 'Aldrovanda<br>vesiculosa', 'Limosa<br>limosa', 'Hydrictis<br>maculicollis', \n",
        "                         'Mecistops<br>cataphractus', 'Gorilla<br>beringei', 'Cercopithecus<br>cephus', 'Panthera<br>pardus', 'Bucorvus<br>leadbeateri', \n",
        "                         'Lycaon<br>pictus', 'Calidris<br>ferruginea', 'Bugeranus<br>carunculatus', 'Balaeniceps<br>rex', 'Coffea<br>arabica', \n",
        "                         'Aythya<br>ferina', 'Aonyx<br>capensis', 'Neophron<br>percnopterus', 'Mormyrus<br>kannume', 'Pan<br>troglodytes'\n",
        "                ],\n",
        "                parents = ['', 'Total<br>Threats', 'Total<br>Threats', 'Total<br>Threats', 'Total<br>Threats', 'Total<br>Threats',\n",
        "                            'MAGNOLIOPSIDA', 'REPTILIA', 'MAMMALIA', 'MAMMALIA', 'MAMMALIA', \n",
        "                            'MAGNOLIOPSIDA', 'MAMMALIA', 'MAMMALIA', 'ACTINOPTERYGII', 'AVES', \n",
        "                            'MAMMALIA', 'AVES', 'AVES', 'MAMMALIA', 'MAMMALIA', \n",
        "                            'AVES', 'AVES', 'AVES', 'AVES', 'MAMMALIA'\n",
        "                ],\n",
        "                values = [891, 73, 523, 16, 59, 148, \n",
        "                        35, 21, 21, 21, 20, 20, 20, 19, 19, 18,\n",
        "                        18, 17, 17, 16, 15, 15, 15, 15, 15, 15\n",
        "                ],\n",
        "                #species = list( topTen),\n",
        "                #classes = list( topTenTax.className),\n",
        "                #threats = list( thr_species_count.values)\n",
        ")"
      ],
      "execution_count": null,
      "outputs": []
    },
    {
      "cell_type": "markdown",
      "metadata": {
        "id": "oU2ux4wITG2Q"
      },
      "source": [
        "### Results:"
      ]
    },
    {
      "cell_type": "code",
      "metadata": {
        "id": "x86aGT-JTqC_"
      },
      "source": [
        "# strip [NYI]\n",
        "\n",
        "sns.catplot( x= classes, y= list( thr_class_count), #data= aggThreat_plot, \n",
        "             height= 9, legend_out= True, kind= 'strip', \n",
        "             row_order= (['MAMMALIA', 'AMPHIBIA', 'AVES', 'REPTILIA'])\n",
        ");"
      ],
      "execution_count": null,
      "outputs": []
    },
    {
      "cell_type": "code",
      "metadata": {
        "id": "8OpmbT8b-RWn",
        "outputId": "4cbf3a74-6de8-4669-e0dd-415020932ff9",
        "colab": {
          "base_uri": "https://localhost:8080/",
          "height": 542
        }
      },
      "source": [
        "# sunburst\n",
        "\n",
        "fig = px.sunburst( data_frame= data,\n",
        "                   names= 'names',\n",
        "                   parents= 'parents',\n",
        "                   values= 'values',\n",
        "                   title= 'Most Threatened Species by Class',                   \n",
        ")\n",
        "fig.show()\n",
        "            ### NOTE: this is only a subsection of the top 20 species, ranked by \n",
        "            ###       aggregate number of threats affecting them.\n",
        "            ###       Class MAGNOLIOPSIDA, also, does not belong... it's in our data,\n",
        "            ###       but it's plants. \n",
        "            ###       It's there simply because getting rid of it for this \n",
        "            ###       proof of concept would have been more trouble than it's worth"
      ],
      "execution_count": null,
      "outputs": [
        {
          "output_type": "display_data",
          "data": {
            "text/html": [
              "<html>\n",
              "<head><meta charset=\"utf-8\" /></head>\n",
              "<body>\n",
              "    <div>\n",
              "            <script src=\"https://cdnjs.cloudflare.com/ajax/libs/mathjax/2.7.5/MathJax.js?config=TeX-AMS-MML_SVG\"></script><script type=\"text/javascript\">if (window.MathJax) {MathJax.Hub.Config({SVG: {font: \"STIX-Web\"}});}</script>\n",
              "                <script type=\"text/javascript\">window.PlotlyConfig = {MathJaxConfig: 'local'};</script>\n",
              "        <script src=\"https://cdn.plot.ly/plotly-latest.min.js\"></script>    \n",
              "            <div id=\"c8b365ac-0a12-4c09-98fd-990d8b28b235\" class=\"plotly-graph-div\" style=\"height:525px; width:100%;\"></div>\n",
              "            <script type=\"text/javascript\">\n",
              "                \n",
              "                    window.PLOTLYENV=window.PLOTLYENV || {};\n",
              "                    \n",
              "                if (document.getElementById(\"c8b365ac-0a12-4c09-98fd-990d8b28b235\")) {\n",
              "                    Plotly.newPlot(\n",
              "                        'c8b365ac-0a12-4c09-98fd-990d8b28b235',\n",
              "                        [{\"domain\": {\"x\": [0.0, 1.0], \"y\": [0.0, 1.0]}, \"hoverlabel\": {\"namelength\": 0}, \"hovertemplate\": \"label=%{label}<br>value=%{value}<br>parent=%{parent}\", \"labels\": [\"Total<br>Threats\", \"MAMMALIA\", \"MAGNOLIOPSIDA\", \"REPTILIA\", \"AVES\", \"ACTINOPTERYGII\", \"Trichechus<br>senegalensis\", \"Loxodonta<br>africana\", \"Aldrovanda<br>vesiculosa\", \"Limosa<br>limosa\", \"Hydrictis<br>maculicollis\", \"Mecistops<br>cataphractus\", \"Gorilla<br>beringei\", \"Cercopithecus<br>cephus\", \"Panthera<br>pardus\", \"Bucorvus<br>leadbeateri\", \"Lycaon<br>pictus\", \"Calidris<br>ferruginea\", \"Bugeranus<br>carunculatus\", \"Balaeniceps<br>rex\", \"Coffea<br>arabica\", \"Aythya<br>ferina\", \"Aonyx<br>capensis\", \"Neophron<br>percnopterus\", \"Mormyrus<br>kannume\", \"Pan<br>troglodytes\"], \"name\": \"\", \"parents\": [\"\", \"Total<br>Threats\", \"Total<br>Threats\", \"Total<br>Threats\", \"Total<br>Threats\", \"Total<br>Threats\", \"MAGNOLIOPSIDA\", \"REPTILIA\", \"MAMMALIA\", \"MAMMALIA\", \"MAMMALIA\", \"MAGNOLIOPSIDA\", \"MAMMALIA\", \"MAMMALIA\", \"ACTINOPTERYGII\", \"AVES\", \"MAMMALIA\", \"AVES\", \"AVES\", \"MAMMALIA\", \"MAMMALIA\", \"AVES\", \"AVES\", \"AVES\", \"AVES\", \"MAMMALIA\"], \"type\": \"sunburst\", \"values\": [891, 73, 523, 16, 59, 148, 35, 21, 21, 21, 20, 20, 20, 19, 19, 18, 18, 17, 17, 16, 15, 15, 15, 15, 15, 15]}],\n",
              "                        {\"legend\": {\"tracegroupgap\": 0}, \"template\": {\"data\": {\"bar\": [{\"error_x\": {\"color\": \"#2a3f5f\"}, \"error_y\": {\"color\": \"#2a3f5f\"}, \"marker\": {\"line\": {\"color\": \"#E5ECF6\", \"width\": 0.5}}, \"type\": \"bar\"}], \"barpolar\": [{\"marker\": {\"line\": {\"color\": \"#E5ECF6\", \"width\": 0.5}}, \"type\": \"barpolar\"}], \"carpet\": [{\"aaxis\": {\"endlinecolor\": \"#2a3f5f\", \"gridcolor\": \"white\", \"linecolor\": \"white\", \"minorgridcolor\": \"white\", \"startlinecolor\": \"#2a3f5f\"}, \"baxis\": {\"endlinecolor\": \"#2a3f5f\", \"gridcolor\": \"white\", \"linecolor\": \"white\", \"minorgridcolor\": \"white\", \"startlinecolor\": \"#2a3f5f\"}, \"type\": \"carpet\"}], \"choropleth\": [{\"colorbar\": {\"outlinewidth\": 0, \"ticks\": \"\"}, \"type\": \"choropleth\"}], \"contour\": [{\"colorbar\": {\"outlinewidth\": 0, \"ticks\": \"\"}, \"colorscale\": [[0.0, \"#0d0887\"], [0.1111111111111111, \"#46039f\"], [0.2222222222222222, \"#7201a8\"], [0.3333333333333333, \"#9c179e\"], [0.4444444444444444, \"#bd3786\"], [0.5555555555555556, \"#d8576b\"], [0.6666666666666666, \"#ed7953\"], [0.7777777777777778, \"#fb9f3a\"], [0.8888888888888888, \"#fdca26\"], [1.0, \"#f0f921\"]], \"type\": \"contour\"}], \"contourcarpet\": [{\"colorbar\": {\"outlinewidth\": 0, \"ticks\": \"\"}, \"type\": \"contourcarpet\"}], \"heatmap\": [{\"colorbar\": {\"outlinewidth\": 0, \"ticks\": \"\"}, \"colorscale\": [[0.0, \"#0d0887\"], [0.1111111111111111, \"#46039f\"], [0.2222222222222222, \"#7201a8\"], [0.3333333333333333, \"#9c179e\"], [0.4444444444444444, \"#bd3786\"], [0.5555555555555556, \"#d8576b\"], [0.6666666666666666, \"#ed7953\"], [0.7777777777777778, \"#fb9f3a\"], [0.8888888888888888, \"#fdca26\"], [1.0, \"#f0f921\"]], \"type\": \"heatmap\"}], \"heatmapgl\": [{\"colorbar\": {\"outlinewidth\": 0, \"ticks\": \"\"}, \"colorscale\": [[0.0, \"#0d0887\"], [0.1111111111111111, \"#46039f\"], [0.2222222222222222, \"#7201a8\"], [0.3333333333333333, \"#9c179e\"], [0.4444444444444444, \"#bd3786\"], [0.5555555555555556, \"#d8576b\"], [0.6666666666666666, \"#ed7953\"], [0.7777777777777778, \"#fb9f3a\"], [0.8888888888888888, \"#fdca26\"], [1.0, \"#f0f921\"]], \"type\": \"heatmapgl\"}], \"histogram\": [{\"marker\": {\"colorbar\": {\"outlinewidth\": 0, \"ticks\": \"\"}}, \"type\": \"histogram\"}], \"histogram2d\": [{\"colorbar\": {\"outlinewidth\": 0, \"ticks\": \"\"}, \"colorscale\": [[0.0, \"#0d0887\"], [0.1111111111111111, \"#46039f\"], [0.2222222222222222, \"#7201a8\"], [0.3333333333333333, \"#9c179e\"], [0.4444444444444444, \"#bd3786\"], [0.5555555555555556, \"#d8576b\"], [0.6666666666666666, \"#ed7953\"], [0.7777777777777778, \"#fb9f3a\"], [0.8888888888888888, \"#fdca26\"], [1.0, \"#f0f921\"]], \"type\": \"histogram2d\"}], \"histogram2dcontour\": [{\"colorbar\": {\"outlinewidth\": 0, \"ticks\": \"\"}, \"colorscale\": [[0.0, \"#0d0887\"], [0.1111111111111111, \"#46039f\"], [0.2222222222222222, \"#7201a8\"], [0.3333333333333333, \"#9c179e\"], [0.4444444444444444, \"#bd3786\"], [0.5555555555555556, \"#d8576b\"], [0.6666666666666666, \"#ed7953\"], [0.7777777777777778, \"#fb9f3a\"], [0.8888888888888888, \"#fdca26\"], [1.0, \"#f0f921\"]], \"type\": \"histogram2dcontour\"}], \"mesh3d\": [{\"colorbar\": {\"outlinewidth\": 0, \"ticks\": \"\"}, \"type\": \"mesh3d\"}], \"parcoords\": [{\"line\": {\"colorbar\": {\"outlinewidth\": 0, \"ticks\": \"\"}}, \"type\": \"parcoords\"}], \"pie\": [{\"automargin\": true, \"type\": \"pie\"}], \"scatter\": [{\"marker\": {\"colorbar\": {\"outlinewidth\": 0, \"ticks\": \"\"}}, \"type\": \"scatter\"}], \"scatter3d\": [{\"line\": {\"colorbar\": {\"outlinewidth\": 0, \"ticks\": \"\"}}, \"marker\": {\"colorbar\": {\"outlinewidth\": 0, \"ticks\": \"\"}}, \"type\": \"scatter3d\"}], \"scattercarpet\": [{\"marker\": {\"colorbar\": {\"outlinewidth\": 0, \"ticks\": \"\"}}, \"type\": \"scattercarpet\"}], \"scattergeo\": [{\"marker\": {\"colorbar\": {\"outlinewidth\": 0, \"ticks\": \"\"}}, \"type\": \"scattergeo\"}], \"scattergl\": [{\"marker\": {\"colorbar\": {\"outlinewidth\": 0, \"ticks\": \"\"}}, \"type\": \"scattergl\"}], \"scattermapbox\": [{\"marker\": {\"colorbar\": {\"outlinewidth\": 0, \"ticks\": \"\"}}, \"type\": \"scattermapbox\"}], \"scatterpolar\": [{\"marker\": {\"colorbar\": {\"outlinewidth\": 0, \"ticks\": \"\"}}, \"type\": \"scatterpolar\"}], \"scatterpolargl\": [{\"marker\": {\"colorbar\": {\"outlinewidth\": 0, \"ticks\": \"\"}}, \"type\": \"scatterpolargl\"}], \"scatterternary\": [{\"marker\": {\"colorbar\": {\"outlinewidth\": 0, \"ticks\": \"\"}}, \"type\": \"scatterternary\"}], \"surface\": [{\"colorbar\": {\"outlinewidth\": 0, \"ticks\": \"\"}, \"colorscale\": [[0.0, \"#0d0887\"], [0.1111111111111111, \"#46039f\"], [0.2222222222222222, \"#7201a8\"], [0.3333333333333333, \"#9c179e\"], [0.4444444444444444, \"#bd3786\"], [0.5555555555555556, \"#d8576b\"], [0.6666666666666666, \"#ed7953\"], [0.7777777777777778, \"#fb9f3a\"], [0.8888888888888888, \"#fdca26\"], [1.0, \"#f0f921\"]], \"type\": \"surface\"}], \"table\": [{\"cells\": {\"fill\": {\"color\": \"#EBF0F8\"}, \"line\": {\"color\": \"white\"}}, \"header\": {\"fill\": {\"color\": \"#C8D4E3\"}, \"line\": {\"color\": \"white\"}}, \"type\": \"table\"}]}, \"layout\": {\"annotationdefaults\": {\"arrowcolor\": \"#2a3f5f\", \"arrowhead\": 0, \"arrowwidth\": 1}, \"coloraxis\": {\"colorbar\": {\"outlinewidth\": 0, \"ticks\": \"\"}}, \"colorscale\": {\"diverging\": [[0, \"#8e0152\"], [0.1, \"#c51b7d\"], [0.2, \"#de77ae\"], [0.3, \"#f1b6da\"], [0.4, \"#fde0ef\"], [0.5, \"#f7f7f7\"], [0.6, \"#e6f5d0\"], [0.7, \"#b8e186\"], [0.8, \"#7fbc41\"], [0.9, \"#4d9221\"], [1, \"#276419\"]], \"sequential\": [[0.0, \"#0d0887\"], [0.1111111111111111, \"#46039f\"], [0.2222222222222222, \"#7201a8\"], [0.3333333333333333, \"#9c179e\"], [0.4444444444444444, \"#bd3786\"], [0.5555555555555556, \"#d8576b\"], [0.6666666666666666, \"#ed7953\"], [0.7777777777777778, \"#fb9f3a\"], [0.8888888888888888, \"#fdca26\"], [1.0, \"#f0f921\"]], \"sequentialminus\": [[0.0, \"#0d0887\"], [0.1111111111111111, \"#46039f\"], [0.2222222222222222, \"#7201a8\"], [0.3333333333333333, \"#9c179e\"], [0.4444444444444444, \"#bd3786\"], [0.5555555555555556, \"#d8576b\"], [0.6666666666666666, \"#ed7953\"], [0.7777777777777778, \"#fb9f3a\"], [0.8888888888888888, \"#fdca26\"], [1.0, \"#f0f921\"]]}, \"colorway\": [\"#636efa\", \"#EF553B\", \"#00cc96\", \"#ab63fa\", \"#FFA15A\", \"#19d3f3\", \"#FF6692\", \"#B6E880\", \"#FF97FF\", \"#FECB52\"], \"font\": {\"color\": \"#2a3f5f\"}, \"geo\": {\"bgcolor\": \"white\", \"lakecolor\": \"white\", \"landcolor\": \"#E5ECF6\", \"showlakes\": true, \"showland\": true, \"subunitcolor\": \"white\"}, \"hoverlabel\": {\"align\": \"left\"}, \"hovermode\": \"closest\", \"mapbox\": {\"style\": \"light\"}, \"paper_bgcolor\": \"white\", \"plot_bgcolor\": \"#E5ECF6\", \"polar\": {\"angularaxis\": {\"gridcolor\": \"white\", \"linecolor\": \"white\", \"ticks\": \"\"}, \"bgcolor\": \"#E5ECF6\", \"radialaxis\": {\"gridcolor\": \"white\", \"linecolor\": \"white\", \"ticks\": \"\"}}, \"scene\": {\"xaxis\": {\"backgroundcolor\": \"#E5ECF6\", \"gridcolor\": \"white\", \"gridwidth\": 2, \"linecolor\": \"white\", \"showbackground\": true, \"ticks\": \"\", \"zerolinecolor\": \"white\"}, \"yaxis\": {\"backgroundcolor\": \"#E5ECF6\", \"gridcolor\": \"white\", \"gridwidth\": 2, \"linecolor\": \"white\", \"showbackground\": true, \"ticks\": \"\", \"zerolinecolor\": \"white\"}, \"zaxis\": {\"backgroundcolor\": \"#E5ECF6\", \"gridcolor\": \"white\", \"gridwidth\": 2, \"linecolor\": \"white\", \"showbackground\": true, \"ticks\": \"\", \"zerolinecolor\": \"white\"}}, \"shapedefaults\": {\"line\": {\"color\": \"#2a3f5f\"}}, \"ternary\": {\"aaxis\": {\"gridcolor\": \"white\", \"linecolor\": \"white\", \"ticks\": \"\"}, \"baxis\": {\"gridcolor\": \"white\", \"linecolor\": \"white\", \"ticks\": \"\"}, \"bgcolor\": \"#E5ECF6\", \"caxis\": {\"gridcolor\": \"white\", \"linecolor\": \"white\", \"ticks\": \"\"}}, \"title\": {\"x\": 0.05}, \"xaxis\": {\"automargin\": true, \"gridcolor\": \"white\", \"linecolor\": \"white\", \"ticks\": \"\", \"title\": {\"standoff\": 15}, \"zerolinecolor\": \"white\", \"zerolinewidth\": 2}, \"yaxis\": {\"automargin\": true, \"gridcolor\": \"white\", \"linecolor\": \"white\", \"ticks\": \"\", \"title\": {\"standoff\": 15}, \"zerolinecolor\": \"white\", \"zerolinewidth\": 2}}}, \"title\": {\"text\": \"Most Threatened Species by Class\"}},\n",
              "                        {\"responsive\": true}\n",
              "                    ).then(function(){\n",
              "                            \n",
              "var gd = document.getElementById('c8b365ac-0a12-4c09-98fd-990d8b28b235');\n",
              "var x = new MutationObserver(function (mutations, observer) {{\n",
              "        var display = window.getComputedStyle(gd).display;\n",
              "        if (!display || display === 'none') {{\n",
              "            console.log([gd, 'removed!']);\n",
              "            Plotly.purge(gd);\n",
              "            observer.disconnect();\n",
              "        }}\n",
              "}});\n",
              "\n",
              "// Listen for the removal of the full notebook cells\n",
              "var notebookContainer = gd.closest('#notebook-container');\n",
              "if (notebookContainer) {{\n",
              "    x.observe(notebookContainer, {childList: true});\n",
              "}}\n",
              "\n",
              "// Listen for the clearing of the current output cell\n",
              "var outputEl = gd.closest('.output');\n",
              "if (outputEl) {{\n",
              "    x.observe(outputEl, {childList: true});\n",
              "}}\n",
              "\n",
              "                        })\n",
              "                };\n",
              "                \n",
              "            </script>\n",
              "        </div>\n",
              "</body>\n",
              "</html>"
            ]
          },
          "metadata": {
            "tags": []
          }
        }
      ]
    },
    {
      "cell_type": "markdown",
      "metadata": {
        "id": "2rV5EN0pzI7S"
      },
      "source": [
        "## What are the 'hotspot habitats' of threatened species? What are the biodiversity hotspots?"
      ]
    },
    {
      "cell_type": "markdown",
      "metadata": {
        "id": "N6fVwkA4TOlz"
      },
      "source": [
        "### Workwork:"
      ]
    },
    {
      "cell_type": "code",
      "metadata": {
        "id": "C5Lsh1cCTOJL"
      },
      "source": [
        "df_habitatAss = pd.merge( ass, habitats, on= \"scientificName\", how= \"left\", validate= \"one_to_many\")\n",
        "\n",
        "df_hotspots_thr = df_habitatAss[ df_habitatAss.redlistCategory.isin( [\"Vulnerable\", \"Endangered\", \"Critically Endangered\"])]"
      ],
      "execution_count": null,
      "outputs": []
    },
    {
      "cell_type": "code",
      "metadata": {
        "id": "9xo8xlFUYvDT",
        "outputId": "43f4c4b7-04bb-4983-cb44-a85fcd0afb89",
        "colab": {
          "base_uri": "https://localhost:8080/",
          "height": 311
        }
      },
      "source": [
        "# hotspot habitats of THREATENED SPECIES\n",
        "df_hotspots_thr.name.value_counts()"
      ],
      "execution_count": null,
      "outputs": [
        {
          "output_type": "execute_result",
          "data": {
            "text/plain": [
              "Forest - Subtropical / Tropical Moist Lowland                                         531\n",
              "Forest - Subtropical / Tropical Moist Montane                                         351\n",
              "Wetlands (inland) - Permanent Rivers / Streams / Creeks (includes waterfalls)         290\n",
              "Wetlands (inland) - Seasonal / Intermittent / Irregular Rivers / Streams / Creeks     101\n",
              "Wetlands (inland) - Permanent Freshwater Lakes (over 8ha)                              88\n",
              "Wetlands (inland) - Bogs, Marshes, Swamps, Fens, Peatlands                             86\n",
              "Wetlands (inland) - Permanent Freshwater Marshes / Pools (under 8ha)                   83\n",
              "Wetlands (inland) - Seasonal / Intermittent Freshwater Marshes / Pools (under 8ha)     79\n",
              "Forest - Subtropical / Tropical Dry                                                    76\n",
              "Forest - Subtropical / Tropical Swamp                                                  52\n",
              "Artificial / Terrestrial - Subtropical / Tropical Heavily Degraded Former Forest       32\n",
              "Wetlands (inland) - Seasonal / Intermittent Freshwater Lakes (over 8ha)                23\n",
              "Forest - Subtropical / Tropical Mangrove Vegetation Above High Tide Level              18\n",
              "Wetlands (inland) - Freshwater Springs and Oases                                       11\n",
              "Wetlands (inland) - Shrub Dominated Wetlands                                            7\n",
              "Name: name, dtype: int64"
            ]
          },
          "metadata": {
            "tags": []
          },
          "execution_count": 397
        }
      ]
    },
    {
      "cell_type": "code",
      "metadata": {
        "id": "Kgmw3MjzZYEb",
        "outputId": "72498712-ef79-42f2-d3d5-4605bdbe6239",
        "colab": {
          "base_uri": "https://localhost:8080/",
          "height": 311
        }
      },
      "source": [
        "# hotspot habitats for general BIODIVERSITY\n",
        "habitats.code.value_counts()"
      ],
      "execution_count": null,
      "outputs": [
        {
          "output_type": "execute_result",
          "data": {
            "text/plain": [
              "1.6     3117\n",
              "5.1     2611\n",
              "5.7     1510\n",
              "5.8     1397\n",
              "5.5     1291\n",
              "5.2     1243\n",
              "1.9     1242\n",
              "5.4     1238\n",
              "1.5      764\n",
              "5.6      626\n",
              "14.6     396\n",
              "1.8      365\n",
              "1.7      192\n",
              "5.3      169\n",
              "5.9      156\n",
              "Name: code, dtype: int64"
            ]
          },
          "metadata": {
            "tags": []
          },
          "execution_count": 424
        }
      ]
    },
    {
      "cell_type": "markdown",
      "metadata": {
        "id": "b_6QKRYMTN7n"
      },
      "source": [
        "### Results:"
      ]
    },
    {
      "cell_type": "code",
      "metadata": {
        "id": "SQOr82PEdtfp",
        "outputId": "bb0d0579-f2c1-4780-cfce-366a5ece9434",
        "colab": {
          "base_uri": "https://localhost:8080/",
          "height": 585
        }
      },
      "source": [
        "# beeswarm is unavailable, please leave a message after th---\n",
        "\n",
        "# ok, swarm plot instead:\n",
        "\n",
        "\n",
        "sns.catplot( y= 'name', data= df_hotspots_thr,\n",
        "             height= 8, aspect= 2, kind= 'swarm');\n",
        "\n"
      ],
      "execution_count": null,
      "outputs": [
        {
          "output_type": "display_data",
          "data": {
            "image/png": "[encoded data removed]",
            "text/plain": [
              "<Figure size 1152x576 with 1 Axes>"
            ]
          },
          "metadata": {
            "tags": []
          }
        }
      ]
    },
    {
      "cell_type": "code",
      "metadata": {
        "id": "Oaj4vVRGcng7",
        "outputId": "8304c5f0-8a97-4ae7-bf62-eb1122c37c88",
        "colab": {
          "base_uri": "https://localhost:8080/",
          "height": 675
        }
      },
      "source": [
        "# heatmap?\n",
        "\n",
        "sns.jointplot(x= habitats.code, y= habitats.code, kind= \"kde\", xlim= 6, ylim= 6, height= 9, );\n",
        "habitats.code.shape"
      ],
      "execution_count": null,
      "outputs": [
        {
          "output_type": "execute_result",
          "data": {
            "text/plain": [
              "(16317,)"
            ]
          },
          "metadata": {
            "tags": []
          },
          "execution_count": 431
        },
        {
          "output_type": "display_data",
          "data": {
            "image/png": "[encoded data removed]",
            "text/plain": [
              "<Figure size 648x648 with 3 Axes>"
            ]
          },
          "metadata": {
            "tags": []
          }
        }
      ]
    },
    {
      "cell_type": "code",
      "metadata": {
        "id": "mhfU9VrkjPqQ"
      },
      "source": [
        "# heatmaps are relatively useless for codes, but the kde on top seems interesting...\n",
        "\n",
        "# break up habitats into 3 main clusters (forest, wetlands, artificial), and that\n",
        "# would theoretically show a more nuanced view of how 'hotspot-able' each habitat (code)\n",
        "# is in relation to other similar habitats"
      ],
      "execution_count": null,
      "outputs": []
    },
    {
      "cell_type": "markdown",
      "metadata": {
        "id": "G_pFFzzpzNw_"
      },
      "source": [
        "## What are the human activities most responsible for biodiversity loss?"
      ]
    },
    {
      "cell_type": "markdown",
      "metadata": {
        "id": "O6Qs4wwNTVuP"
      },
      "source": [
        "### Workwork:"
      ]
    },
    {
      "cell_type": "code",
      "metadata": {
        "id": "dUMFrDeFlvKN",
        "outputId": "5a1f32db-5010-4c6d-ec18-9a237f9cbf5a",
        "colab": {
          "base_uri": "https://localhost:8080/",
          "height": 182
        }
      },
      "source": [
        "threats.code.value_counts().values"
      ],
      "execution_count": null,
      "outputs": [
        {
          "output_type": "execute_result",
          "data": {
            "text/plain": [
              "array([1164,  816,  540,  480,  474,  462,  434,  377,  372,  303,  289,\n",
              "        285,  277,  248,  239,  220,  206,  199,  157,  143,  127,  120,\n",
              "        119,  118,  114,  114,  109,  100,   88,   82,   77,   75,   75,\n",
              "         74,   73,   72,   71,   71,   67,   65,   63,   59,   56,   55,\n",
              "         53,   51,   51,   51,   50,   48,   48,   46,   38,   38,   32,\n",
              "         32,   29,   28,   26,   25,   22,   22,   22,   22,   21,   20,\n",
              "         20,   19,   18,   17,   10,    9,    8,    7,    7,    7,    6,\n",
              "          6,    6,    6,    5,    5,    5,    4,    2,    1,    1,    1,\n",
              "          1,    1,    1,    1,    1,    1])"
            ]
          },
          "metadata": {
            "tags": []
          },
          "execution_count": 17
        }
      ]
    },
    {
      "cell_type": "code",
      "metadata": {
        "id": "zBwM2hcHTVgG",
        "outputId": "fcdc2eb5-9235-43ab-8f76-c43ddb08ea7a",
        "colab": {
          "base_uri": "https://localhost:8080/",
          "height": 35
        }
      },
      "source": [
        "type( threats.iloc[24].code)"
      ],
      "execution_count": null,
      "outputs": [
        {
          "output_type": "execute_result",
          "data": {
            "text/plain": [
              "str"
            ]
          },
          "metadata": {
            "tags": []
          },
          "execution_count": 443
        }
      ]
    },
    {
      "cell_type": "code",
      "metadata": {
        "id": "9ZHZQOvYmDRa",
        "outputId": "391858fa-b3d4-43e4-c5ec-f9bb2454502a",
        "colab": {
          "base_uri": "https://localhost:8080/",
          "height": 35
        }
      },
      "source": [
        "len( threats.name.unique()), len( threats.name.value_counts())"
      ],
      "execution_count": null,
      "outputs": [
        {
          "output_type": "execute_result",
          "data": {
            "text/plain": [
              "(72, 72)"
            ]
          },
          "metadata": {
            "tags": []
          },
          "execution_count": 28
        }
      ]
    },
    {
      "cell_type": "markdown",
      "metadata": {
        "id": "QChyexd1TVPk"
      },
      "source": [
        "### Results:"
      ]
    },
    {
      "cell_type": "code",
      "metadata": {
        "id": "eCnt5t4LdpMQ"
      },
      "source": [
        "# bubble?\n",
        "\n",
        "fig = px.scatter( threats.query( \"year==2007\"), x= \"gdpPercap\", y= \"lifeExp\",\n",
        "\t         size= \"pop\", color= \"continent\",\n",
        "                 hover_name= \"country\", log_x= True, size_max= 60)\n",
        "fig.show()"
      ],
      "execution_count": null,
      "outputs": []
    },
    {
      "cell_type": "code",
      "metadata": {
        "id": "elCiSUzNiosk",
        "outputId": "e23b2b34-05f9-4728-d9b6-fbc1c92f6910",
        "colab": {
          "base_uri": "https://localhost:8080/",
          "height": 542
        }
      },
      "source": [
        "# mmm, pie...\n",
        "\n",
        "fig = px.pie( threats, values= threats.name.value_counts().values, names= threats.name.unique(), title= \"I'm a little pie chart, flat and round\")\n",
        "\n",
        "fig.show()"
      ],
      "execution_count": null,
      "outputs": [
        {
          "output_type": "display_data",
          "data": {
            "text/html": [
              "<html>\n",
              "<head><meta charset=\"utf-8\" /></head>\n",
              "<body>\n",
              "    <div>\n",
              "            <script src=\"https://cdnjs.cloudflare.com/ajax/libs/mathjax/2.7.5/MathJax.js?config=TeX-AMS-MML_SVG\"></script><script type=\"text/javascript\">if (window.MathJax) {MathJax.Hub.Config({SVG: {font: \"STIX-Web\"}});}</script>\n",
              "                <script type=\"text/javascript\">window.PlotlyConfig = {MathJaxConfig: 'local'};</script>\n",
              "        <script src=\"https://cdn.plot.ly/plotly-latest.min.js\"></script>    \n",
              "            <div id=\"b849afd1-987e-4a90-be2b-04f9463c8a5d\" class=\"plotly-graph-div\" style=\"height:525px; width:100%;\"></div>\n",
              "            <script type=\"text/javascript\">\n",
              "                \n",
              "                    window.PLOTLYENV=window.PLOTLYENV || {};\n",
              "                    \n",
              "                if (document.getElementById(\"b849afd1-987e-4a90-be2b-04f9463c8a5d\")) {\n",
              "                    Plotly.newPlot(\n",
              "                        'b849afd1-987e-4a90-be2b-04f9463c8a5d',\n",
              "                        [{\"domain\": {\"x\": [0.0, 1.0], \"y\": [0.0, 1.0]}, \"hoverlabel\": {\"namelength\": 0}, \"hovertemplate\": \"label=%{label}<br>value=%{value}\", \"labels\": [\"Motivation Unknown/Unrecorded\", \"Scale Unknown/Unrecorded\", \"Unintentional effects (species is not the target)\", \"Agro-industry farming\", \"Roads & railroads\", \"Tourism & recreation areas\", \"Problematic native species/diseases\", \"Intentional use: (subsistence/small scale) [harvest]\", \"Type Unknown/Unrecorded\", \"Housing & urban areas\", \"Abstraction of surface water (unknown use)\", \"Abstraction of surface water (agricultural use)\", \"Abstraction of surface water (commercial use)\", \"Abstraction of surface water (domestic use)\", \"Agro-industry grazing, ranching or farming\", \"Herbicides and pesticides\", \"Soil erosion, sedimentation\", \"Nutrient loads\", \"Commercial & industrial areas\", \"Run-off\", \"Sewage\", \"Other ecosystem modifications\", \"Seepage from mining\", \"Mining & quarrying\", \"Intentional use: (large scale) [harvest]\", \"Small-holder farming\", \"Unintentional effects: (subsistence/small scale) [harvest]\", \"Shifting agriculture\", \"Intentional use (species is the target)\", \"Nomadic grazing\", \"Small-holder grazing, ranching or farming\", \"Persecution/control\", \"Unintentional effects: (large scale) [harvest]\", \"Other threat\", \"Other impacts\", \"Oil spills\", \"Unspecified species\", \"War, civil unrest & military exercises\", \"Small-holder plantations\", \"Increase in fire frequency/intensity\", \"Oil & gas drilling\", \"Avalanches/landslides\", \"Dams (size unknown)\", \"Large dams\", \"Recreational activities\", \"Work & other activities\", \"Habitat shifting & alteration\", \"Agro-industry plantations\", \"Small dams\", \"Supression in fire frequency/intensity\", \"Named species\", \"Droughts\", \"Temperature extremes\", \"Diseases of unknown cause\", \"Volcanoes\", \"Abstraction of ground water (unknown use)\", \"Trend Unknown/Unrecorded\", \"Abstraction of ground water (agricultural use)\", \"Subsistence/artisinal aquaculture\", \"Shipping lanes\", \"Abstraction of ground water (commercial use)\", \"Utility & service lines\", \"Thermal pollution\", \"Garbage & solid waste\", \"Storms & flooding\", \"Earthquakes/tsunamis\", \"Renewable energy\", \"Abstraction of ground water (domestic use)\", \"Noise pollution\", \"Industrial aquaculture\", \"Flight paths\", \"Light pollution\"], \"legendgroup\": \"\", \"name\": \"\", \"showlegend\": true, \"type\": \"pie\", \"values\": [1164, 986, 970, 540, 483, 480, 474, 462, 437, 434, 423, 276, 239, 220, 220, 176, 174, 143, 120, 118, 114, 114, 109, 100, 92, 88, 82, 78, 75, 75, 74, 73, 72, 71, 70, 65, 63, 59, 51, 51, 50, 48, 48, 46, 38, 38, 32, 32, 29, 22, 22, 20, 20, 19, 18, 17, 10, 9, 7, 7, 6, 6, 5, 5, 4, 1, 1, 1, 1, 1, 1, 1]}],\n",
              "                        {\"legend\": {\"tracegroupgap\": 0}, \"template\": {\"data\": {\"bar\": [{\"error_x\": {\"color\": \"#2a3f5f\"}, \"error_y\": {\"color\": \"#2a3f5f\"}, \"marker\": {\"line\": {\"color\": \"#E5ECF6\", \"width\": 0.5}}, \"type\": \"bar\"}], \"barpolar\": [{\"marker\": {\"line\": {\"color\": \"#E5ECF6\", \"width\": 0.5}}, \"type\": \"barpolar\"}], \"carpet\": [{\"aaxis\": {\"endlinecolor\": \"#2a3f5f\", \"gridcolor\": \"white\", \"linecolor\": \"white\", \"minorgridcolor\": \"white\", \"startlinecolor\": \"#2a3f5f\"}, \"baxis\": {\"endlinecolor\": \"#2a3f5f\", \"gridcolor\": \"white\", \"linecolor\": \"white\", \"minorgridcolor\": \"white\", \"startlinecolor\": \"#2a3f5f\"}, \"type\": \"carpet\"}], \"choropleth\": [{\"colorbar\": {\"outlinewidth\": 0, \"ticks\": \"\"}, \"type\": \"choropleth\"}], \"contour\": [{\"colorbar\": {\"outlinewidth\": 0, \"ticks\": \"\"}, \"colorscale\": [[0.0, \"#0d0887\"], [0.1111111111111111, \"#46039f\"], [0.2222222222222222, \"#7201a8\"], [0.3333333333333333, \"#9c179e\"], [0.4444444444444444, \"#bd3786\"], [0.5555555555555556, \"#d8576b\"], [0.6666666666666666, \"#ed7953\"], [0.7777777777777778, \"#fb9f3a\"], [0.8888888888888888, \"#fdca26\"], [1.0, \"#f0f921\"]], \"type\": \"contour\"}], \"contourcarpet\": [{\"colorbar\": {\"outlinewidth\": 0, \"ticks\": \"\"}, \"type\": \"contourcarpet\"}], \"heatmap\": [{\"colorbar\": {\"outlinewidth\": 0, \"ticks\": \"\"}, \"colorscale\": [[0.0, \"#0d0887\"], [0.1111111111111111, \"#46039f\"], [0.2222222222222222, \"#7201a8\"], [0.3333333333333333, \"#9c179e\"], [0.4444444444444444, \"#bd3786\"], [0.5555555555555556, \"#d8576b\"], [0.6666666666666666, \"#ed7953\"], [0.7777777777777778, \"#fb9f3a\"], [0.8888888888888888, \"#fdca26\"], [1.0, \"#f0f921\"]], \"type\": \"heatmap\"}], \"heatmapgl\": [{\"colorbar\": {\"outlinewidth\": 0, \"ticks\": \"\"}, \"colorscale\": [[0.0, \"#0d0887\"], [0.1111111111111111, \"#46039f\"], [0.2222222222222222, \"#7201a8\"], [0.3333333333333333, \"#9c179e\"], [0.4444444444444444, \"#bd3786\"], [0.5555555555555556, \"#d8576b\"], [0.6666666666666666, \"#ed7953\"], [0.7777777777777778, \"#fb9f3a\"], [0.8888888888888888, \"#fdca26\"], [1.0, \"#f0f921\"]], \"type\": \"heatmapgl\"}], \"histogram\": [{\"marker\": {\"colorbar\": {\"outlinewidth\": 0, \"ticks\": \"\"}}, \"type\": \"histogram\"}], \"histogram2d\": [{\"colorbar\": {\"outlinewidth\": 0, \"ticks\": \"\"}, \"colorscale\": [[0.0, \"#0d0887\"], [0.1111111111111111, \"#46039f\"], [0.2222222222222222, \"#7201a8\"], [0.3333333333333333, \"#9c179e\"], [0.4444444444444444, \"#bd3786\"], [0.5555555555555556, \"#d8576b\"], [0.6666666666666666, \"#ed7953\"], [0.7777777777777778, \"#fb9f3a\"], [0.8888888888888888, \"#fdca26\"], [1.0, \"#f0f921\"]], \"type\": \"histogram2d\"}], \"histogram2dcontour\": [{\"colorbar\": {\"outlinewidth\": 0, \"ticks\": \"\"}, \"colorscale\": [[0.0, \"#0d0887\"], [0.1111111111111111, \"#46039f\"], [0.2222222222222222, \"#7201a8\"], [0.3333333333333333, \"#9c179e\"], [0.4444444444444444, \"#bd3786\"], [0.5555555555555556, \"#d8576b\"], [0.6666666666666666, \"#ed7953\"], [0.7777777777777778, \"#fb9f3a\"], [0.8888888888888888, \"#fdca26\"], [1.0, \"#f0f921\"]], \"type\": \"histogram2dcontour\"}], \"mesh3d\": [{\"colorbar\": {\"outlinewidth\": 0, \"ticks\": \"\"}, \"type\": \"mesh3d\"}], \"parcoords\": [{\"line\": {\"colorbar\": {\"outlinewidth\": 0, \"ticks\": \"\"}}, \"type\": \"parcoords\"}], \"pie\": [{\"automargin\": true, \"type\": \"pie\"}], \"scatter\": [{\"marker\": {\"colorbar\": {\"outlinewidth\": 0, \"ticks\": \"\"}}, \"type\": \"scatter\"}], \"scatter3d\": [{\"line\": {\"colorbar\": {\"outlinewidth\": 0, \"ticks\": \"\"}}, \"marker\": {\"colorbar\": {\"outlinewidth\": 0, \"ticks\": \"\"}}, \"type\": \"scatter3d\"}], \"scattercarpet\": [{\"marker\": {\"colorbar\": {\"outlinewidth\": 0, \"ticks\": \"\"}}, \"type\": \"scattercarpet\"}], \"scattergeo\": [{\"marker\": {\"colorbar\": {\"outlinewidth\": 0, \"ticks\": \"\"}}, \"type\": \"scattergeo\"}], \"scattergl\": [{\"marker\": {\"colorbar\": {\"outlinewidth\": 0, \"ticks\": \"\"}}, \"type\": \"scattergl\"}], \"scattermapbox\": [{\"marker\": {\"colorbar\": {\"outlinewidth\": 0, \"ticks\": \"\"}}, \"type\": \"scattermapbox\"}], \"scatterpolar\": [{\"marker\": {\"colorbar\": {\"outlinewidth\": 0, \"ticks\": \"\"}}, \"type\": \"scatterpolar\"}], \"scatterpolargl\": [{\"marker\": {\"colorbar\": {\"outlinewidth\": 0, \"ticks\": \"\"}}, \"type\": \"scatterpolargl\"}], \"scatterternary\": [{\"marker\": {\"colorbar\": {\"outlinewidth\": 0, \"ticks\": \"\"}}, \"type\": \"scatterternary\"}], \"surface\": [{\"colorbar\": {\"outlinewidth\": 0, \"ticks\": \"\"}, \"colorscale\": [[0.0, \"#0d0887\"], [0.1111111111111111, \"#46039f\"], [0.2222222222222222, \"#7201a8\"], [0.3333333333333333, \"#9c179e\"], [0.4444444444444444, \"#bd3786\"], [0.5555555555555556, \"#d8576b\"], [0.6666666666666666, \"#ed7953\"], [0.7777777777777778, \"#fb9f3a\"], [0.8888888888888888, \"#fdca26\"], [1.0, \"#f0f921\"]], \"type\": \"surface\"}], \"table\": [{\"cells\": {\"fill\": {\"color\": \"#EBF0F8\"}, \"line\": {\"color\": \"white\"}}, \"header\": {\"fill\": {\"color\": \"#C8D4E3\"}, \"line\": {\"color\": \"white\"}}, \"type\": \"table\"}]}, \"layout\": {\"annotationdefaults\": {\"arrowcolor\": \"#2a3f5f\", \"arrowhead\": 0, \"arrowwidth\": 1}, \"coloraxis\": {\"colorbar\": {\"outlinewidth\": 0, \"ticks\": \"\"}}, \"colorscale\": {\"diverging\": [[0, \"#8e0152\"], [0.1, \"#c51b7d\"], [0.2, \"#de77ae\"], [0.3, \"#f1b6da\"], [0.4, \"#fde0ef\"], [0.5, \"#f7f7f7\"], [0.6, \"#e6f5d0\"], [0.7, \"#b8e186\"], [0.8, \"#7fbc41\"], [0.9, \"#4d9221\"], [1, \"#276419\"]], \"sequential\": [[0.0, \"#0d0887\"], [0.1111111111111111, \"#46039f\"], [0.2222222222222222, \"#7201a8\"], [0.3333333333333333, \"#9c179e\"], [0.4444444444444444, \"#bd3786\"], [0.5555555555555556, \"#d8576b\"], [0.6666666666666666, \"#ed7953\"], [0.7777777777777778, \"#fb9f3a\"], [0.8888888888888888, \"#fdca26\"], [1.0, \"#f0f921\"]], \"sequentialminus\": [[0.0, \"#0d0887\"], [0.1111111111111111, \"#46039f\"], [0.2222222222222222, \"#7201a8\"], [0.3333333333333333, \"#9c179e\"], [0.4444444444444444, \"#bd3786\"], [0.5555555555555556, \"#d8576b\"], [0.6666666666666666, \"#ed7953\"], [0.7777777777777778, \"#fb9f3a\"], [0.8888888888888888, \"#fdca26\"], [1.0, \"#f0f921\"]]}, \"colorway\": [\"#636efa\", \"#EF553B\", \"#00cc96\", \"#ab63fa\", \"#FFA15A\", \"#19d3f3\", \"#FF6692\", \"#B6E880\", \"#FF97FF\", \"#FECB52\"], \"font\": {\"color\": \"#2a3f5f\"}, \"geo\": {\"bgcolor\": \"white\", \"lakecolor\": \"white\", \"landcolor\": \"#E5ECF6\", \"showlakes\": true, \"showland\": true, \"subunitcolor\": \"white\"}, \"hoverlabel\": {\"align\": \"left\"}, \"hovermode\": \"closest\", \"mapbox\": {\"style\": \"light\"}, \"paper_bgcolor\": \"white\", \"plot_bgcolor\": \"#E5ECF6\", \"polar\": {\"angularaxis\": {\"gridcolor\": \"white\", \"linecolor\": \"white\", \"ticks\": \"\"}, \"bgcolor\": \"#E5ECF6\", \"radialaxis\": {\"gridcolor\": \"white\", \"linecolor\": \"white\", \"ticks\": \"\"}}, \"scene\": {\"xaxis\": {\"backgroundcolor\": \"#E5ECF6\", \"gridcolor\": \"white\", \"gridwidth\": 2, \"linecolor\": \"white\", \"showbackground\": true, \"ticks\": \"\", \"zerolinecolor\": \"white\"}, \"yaxis\": {\"backgroundcolor\": \"#E5ECF6\", \"gridcolor\": \"white\", \"gridwidth\": 2, \"linecolor\": \"white\", \"showbackground\": true, \"ticks\": \"\", \"zerolinecolor\": \"white\"}, \"zaxis\": {\"backgroundcolor\": \"#E5ECF6\", \"gridcolor\": \"white\", \"gridwidth\": 2, \"linecolor\": \"white\", \"showbackground\": true, \"ticks\": \"\", \"zerolinecolor\": \"white\"}}, \"shapedefaults\": {\"line\": {\"color\": \"#2a3f5f\"}}, \"ternary\": {\"aaxis\": {\"gridcolor\": \"white\", \"linecolor\": \"white\", \"ticks\": \"\"}, \"baxis\": {\"gridcolor\": \"white\", \"linecolor\": \"white\", \"ticks\": \"\"}, \"bgcolor\": \"#E5ECF6\", \"caxis\": {\"gridcolor\": \"white\", \"linecolor\": \"white\", \"ticks\": \"\"}}, \"title\": {\"x\": 0.05}, \"xaxis\": {\"automargin\": true, \"gridcolor\": \"white\", \"linecolor\": \"white\", \"ticks\": \"\", \"title\": {\"standoff\": 15}, \"zerolinecolor\": \"white\", \"zerolinewidth\": 2}, \"yaxis\": {\"automargin\": true, \"gridcolor\": \"white\", \"linecolor\": \"white\", \"ticks\": \"\", \"title\": {\"standoff\": 15}, \"zerolinecolor\": \"white\", \"zerolinewidth\": 2}}}, \"title\": {\"text\": \"I'm a little pie chart, flat and round\"}},\n",
              "                        {\"responsive\": true}\n",
              "                    ).then(function(){\n",
              "                            \n",
              "var gd = document.getElementById('b849afd1-987e-4a90-be2b-04f9463c8a5d');\n",
              "var x = new MutationObserver(function (mutations, observer) {{\n",
              "        var display = window.getComputedStyle(gd).display;\n",
              "        if (!display || display === 'none') {{\n",
              "            console.log([gd, 'removed!']);\n",
              "            Plotly.purge(gd);\n",
              "            observer.disconnect();\n",
              "        }}\n",
              "}});\n",
              "\n",
              "// Listen for the removal of the full notebook cells\n",
              "var notebookContainer = gd.closest('#notebook-container');\n",
              "if (notebookContainer) {{\n",
              "    x.observe(notebookContainer, {childList: true});\n",
              "}}\n",
              "\n",
              "// Listen for the clearing of the current output cell\n",
              "var outputEl = gd.closest('.output');\n",
              "if (outputEl) {{\n",
              "    x.observe(outputEl, {childList: true});\n",
              "}}\n",
              "\n",
              "                        })\n",
              "                };\n",
              "                \n",
              "            </script>\n",
              "        </div>\n",
              "</body>\n",
              "</html>"
            ]
          },
          "metadata": {
            "tags": []
          }
        }
      ]
    },
    {
      "cell_type": "code",
      "metadata": {
        "id": "YqKovho0kJ6i"
      },
      "source": [
        "# Sankey??"
      ],
      "execution_count": null,
      "outputs": []
    },
    {
      "cell_type": "markdown",
      "metadata": {
        "id": "eDjMAFk4ikOT"
      },
      "source": [
        "# Random:"
      ]
    },
    {
      "cell_type": "code",
      "metadata": {
        "id": "udLMFAfQ6YiK"
      },
      "source": [
        "laws = pd.read_excel( 'laws.xlsx', sheet_name= 'Cameroon')"
      ],
      "execution_count": null,
      "outputs": []
    }
  ]
}