{
  "nbformat": 4,
  "nbformat_minor": 0,
  "metadata": {
    "colab": {
      "name": "canopyCleaning.ipynb",
      "provenance": [],
      "collapsed_sections": [
        "TrFeVl_bL30B",
        "9r5TbEHNQNNm",
        "clf_Mii-TM7W",
        "jQG3MSZPUI7Y",
        "_QDhuBHk1G1-",
        "2Pb_VtC03QAt",
        "BCSYPl712njH",
        "yuq_HUn-VpxT",
        "G0_4K99rVw8B",
        "64Hm10dL2tY6",
        "a59xmEjY2yWC",
        "qJ20zCqy24Sv",
        "RX7q3-Yz27I4",
        "1ak-2-ts2_rX",
        "UhWbwid21gJa",
        "w7HtPg5y6p44",
        "0r_DFnVRW247",
        "0GgHfLLN5QtD",
        "61uivUgv5m-e",
        "7w0Bfk585i6K",
        "yBVG50Mm5irB",
        "phu03OuT5igV",
        "ypFRUYUR5h-R",
        "SPCXhJ5_Z0Xu",
        "Le77WDrt4zmA",
        "QuAOGBh_4HMz",
        "Q0CmV2QhGQfo",
        "jnaypSjtQuRQ",
        "dDgxkh24cIle"
      ],
      "machine_shape": "hm",
      "authorship_tag": "ABX9TyP3cH5ERAJMcZuCrWZ+d6dC",
      "include_colab_link": true
    },
    "kernelspec": {
      "name": "python3",
      "display_name": "Python 3"
    }
  },
  "cells": [
    {
      "cell_type": "markdown",
      "metadata": {
        "id": "view-in-github",
        "colab_type": "text"
      },
      "source": [
        "<a href=\"https://colab.research.google.com/github/rselent/project-canopy-ds/blob/master/notebooks/canopyCleaning.ipynb\" target=\"_parent\"><img src=\"https://colab.research.google.com/assets/colab-badge.svg\" alt=\"Open In Colab\"/></a>"
      ]
    },
    {
      "cell_type": "markdown",
      "metadata": {
        "id": "OPdkfu2U8mRU"
      },
      "source": [
        "# ABOUT: \n",
        "\n",
        "Within this notebook exists the explicit steps taken to clean the 'dirty' datasets/tables that were downloaded directly from the IUCN and CITES websites -- which can be found in this repo's ../data/source_data/ folder.\n",
        "\n",
        "The main goals of this are to:  \n",
        "* increase readability of verbose data points by removing extraneous HTML tags\n",
        "* replace empty/NaN data points with \"Unknown\" or \"N/A\"\n",
        "* and increase/ensure compatibility with postgres database structures"
      ]
    },
    {
      "cell_type": "markdown",
      "metadata": {
        "id": "jQG3MSZPUI7Y"
      },
      "source": [
        "# CLEANING TOOLS / MAIN PROCESS:"
      ]
    },
    {
      "cell_type": "code",
      "metadata": {
        "id": "VRUCGGs3tnlE"
      },
      "source": [
        "import pandas as pd\n",
        "import numpy as np\n",
        "\n",
        "# SOURCE data\n",
        "github_link = 'https://raw.githubusercontent.com/Lambda-School-Labs/project-canopy-ds/master/data/source_data/iucn/'\n",
        "github_link_cites = 'https://raw.githubusercontent.com/Lambda-School-Labs/project-canopy-ds/master/data/source_data/cites/'\n",
        "\n",
        "points = pd.read_csv( (github_link + \"points_data.csv\"), low_memory= False)         #           DON'T NEED?\n",
        "assessments = pd.read_csv( (github_link + \"assessments.csv\"), low_memory= False)    #                                       IN PLANNING\n",
        "common = pd.read_csv( (github_link + \"common_names.csv\"), low_memory= False)        #           COULD BE USEFUL (e.g. \"Duck\" example)\n",
        "summary = pd.read_csv( (github_link + \"simple_summary.csv\"), low_memory= False)     #           assessments dupe + taxonomy\n",
        "syn = pd.read_csv( (github_link + \"synonyms.csv\"), low_memory= False)               #           DON'T NEED?\n",
        "tax = pd.read_csv( (github_link + \"taxonomy.csv\"), low_memory= False)               #                                       IN PLANNING\n",
        "cons = pd.read_csv( (github_link + \"conservation_needed.csv\"), low_memory= False)   #                                       IN PROGRESS\n",
        "countries = pd.read_csv( (github_link + \"countries.csv\"), low_memory= False)        #                                           DONE\n",
        "habitats = pd.read_csv( (github_link + \"habitats.csv\"), low_memory= False)          #                                           DONE\n",
        "lme = pd.read_csv( (github_link + \"lme.csv\"), low_memory= False)                    #           DON'T NEED (ocean currents)\n",
        "plants = pd.read_csv( (github_link + \"plant_specific.csv\"), low_memory= False)      #           DON'T NEED?\n",
        "research = pd.read_csv( (github_link + \"research_needed.csv\"), low_memory= False)   #                                       IN PROGRESS\n",
        "threats = pd.read_csv( (github_link + \"threats.csv\"), low_memory= False)            #                                       IN PROGRESS\n",
        "trade = pd.read_csv( (github_link + \"usetrade.csv\"), low_memory= False)             #                                       IN PROGRESS\n",
        "specHab = pd.read_csv( (github_link + \"SpeciesHabitats.csv\"), low_memory= False)    #           DON'T NEED (habitats dupe)\n",
        "\n",
        "\n",
        "cites_listings = pd.read_csv( github_link_cites + 'cites_listings_appendix.csv', low_memory= False)\n",
        "cites_suspensions = pd.read_csv( github_link_cites + 'cites_suspensions.csv', low_memory= False)        \n",
        "cites_quotas = pd.read_csv( github_link_cites + 'cites_quotas_16_20.csv', low_memory= False)\n"
      ],
      "execution_count": null,
      "outputs": []
    },
    {
      "cell_type": "code",
      "metadata": {
        "id": "4ftSv7PIUP_8"
      },
      "source": [
        "# REPLACE HTML function\n",
        "def replacehtml( df, column):\n",
        "    \"\"\"\n",
        "    Replaces common HTML tags using regular expressions to identify them.\n",
        "\n",
        "    Usage: \n",
        "        df, 'column'\n",
        "\n",
        "    Example:\n",
        "        replacehtml( df, 'id_number')\n",
        "    \"\"\"\n",
        "    df[ column] = df[ column].str.replace( r'<li>', ' ')\n",
        "    df[ column] = df[ column].str.replace( r'<.*?>', '')\n",
        "    df[ column] = df[ column].str.replace( r'&amp;', u'&')\n",
        "    df[ column] = df[ column].str.replace( r'&.*?;', ' ')\n",
        "    df[ column] = df[ column].str.replace( r'\\n', ' ')"
      ],
      "execution_count": null,
      "outputs": []
    },
    {
      "cell_type": "code",
      "metadata": {
        "id": "WHeMsjGHInHa"
      },
      "source": [
        "# REDUCE countries and habitats to just relevant regions\n",
        "\n",
        "countries = countries[ countries.code.eq( 'GA') |\n",
        "                       countries.code.eq( 'CD') |\n",
        "                       countries.code.eq( 'CF') |\n",
        "                       countries.code.eq( 'CM') |\n",
        "                       countries.code.eq( 'CG') |\n",
        "                       countries.code.eq( 'GQ')\n",
        "                      ]\n",
        "habitats = habitats[ habitats.code.eq( '1.5') | \n",
        "                     habitats.code.eq( '1.6') |\n",
        "                     habitats.code.eq( '1.7') |\n",
        "                     habitats.code.eq( '1.8') |\n",
        "                     habitats.code.eq( '1.9') |\n",
        "                     habitats.code.eq( '5.1') |\n",
        "                     habitats.code.eq( '5.2') |\n",
        "                     habitats.code.eq( '5.3') |\n",
        "                     habitats.code.eq( '5.4') |\n",
        "                     habitats.code.eq( '5.5') |\n",
        "                     habitats.code.eq( '5.6') |\n",
        "                     habitats.code.eq( '5.7') |\n",
        "                     habitats.code.eq( '5.8') |\n",
        "                     habitats.code.eq( '5.9') |\n",
        "                     habitats.code.eq( '14.6')\n",
        "                     ]\n",
        "habitats.code = habitats.code.astype( float)"
      ],
      "execution_count": null,
      "outputs": []
    },
    {
      "cell_type": "code",
      "metadata": {
        "id": "Xk3rfqSeHfg4"
      },
      "source": [
        "# MAGIC (all replacements happen here)\n",
        "\n",
        "assessments = assessments.replace( np.nan, \"Unknown\").astype( str)\n",
        "replacehtml( assessments, 'rationale')\n",
        "replacehtml( assessments, 'habitat')\n",
        "replacehtml( assessments, 'threats')\n",
        "replacehtml( assessments, 'population')\n",
        "replacehtml( assessments, 'range')\n",
        "replacehtml( assessments, 'useTrade')\n",
        "replacehtml( assessments, 'conservationActions')\n",
        "\n",
        "tax = tax.replace( np.nan, \"Unknown\")\n",
        "tax[ 'authority'] = tax[ 'authority'].str.replace( r'\\)|\\(', '')\n",
        "replacehtml( tax, 'authority')\n",
        "replacehtml( tax, 'taxonomicNotes')\n",
        "\n",
        "cons = cons.replace( np.nan, \"No notes recorded\")\n",
        "cons = cons.replace( \"Unknown\", \"No notes recorded\")\n",
        "cons = cons.replace( \"unknown\", \"No notes recorded\")\n",
        "cons = cons.replace( \"None\", \"No notes recorded\")\n",
        "cons = cons.replace( \"none\", \"No notes recorded\")\n",
        "replacehtml( cons, 'note')\n",
        "\n",
        "countries = countries.replace( np.nan, \"Unknown\")\n",
        "countries[ 'seasonality'] = countries[ 'seasonality'].str.replace( r'\\[|\\]', '')\n",
        "\n",
        "habitats = habitats.replace( np.nan, \"Unknown\")\n",
        "habitats = habitats.replace( \"unknown\", \"Unknown\")\n",
        "habitats[ 'name'] = habitats[ 'name'].str.replace( r'/', u' / ')\n",
        "\n",
        "research = research.replace( np.nan, \"No notes recorded\")\n",
        "research = research.replace( \"Unknown\", \"No notes recorded\")\n",
        "research = research.replace( \"unknown\", \"No notes recorded\")\n",
        "research = research.replace( \"None\", \"No notes recorded\")\n",
        "research = research.replace( \"none\", \"No notes recorded\")\n",
        "replacehtml( research, 'note')\n",
        "\n",
        "threats = threats.replace( np.nan, \"Unknown\")\n",
        "threats[ 'stressCode'] = threats[ 'stressCode'].str.replace( r'|', u' | ')\n",
        "threats[ 'stressName'] = threats[ 'stressName'].str.replace( r'|', u' | ')\n",
        "\n",
        "trade = trade.replace( np.nan, \"Unknown\")\n",
        "\n",
        "# rename columns, to match format, get rid of spaces and ?s\n",
        "cites_listings.columns = ['speciesId',\n",
        "                          'kingdomName',\n",
        "                          'phylumName',\n",
        "                          'orderName',\n",
        "                          'className',\n",
        "                          'familyName',\n",
        "                          'genusName',\n",
        "                          'speciesName',\n",
        "                          'subspeciesName',\n",
        "                          'scientificName',\n",
        "                          'author',\n",
        "                          'rank',\n",
        "                          'listing',\n",
        "                          'party',\n",
        "                          'listedUnder',\n",
        "                          'fullNote',\n",
        "                          'full_note',\n",
        "                          'countries_distributionFullNames',\n",
        "                          'countries_distributionISOCodes',\n",
        "                          'nativeDistributionFullNames',\n",
        "                          'introducedDistribution',\n",
        "                          'introducedDistribution_questionmark',\n",
        "                          'reintroduced_Distribution',\n",
        "                          'extinctDistribution',\n",
        "                          'extinctDistribution_questionmark',\n",
        "                          'distribution_Uncertain'\n",
        "]\n",
        "replacehtml( cites_listings, 'fullNote')\n",
        "replacehtml( cites_listings, 'full_note')\n",
        "cites_listings = cites_listings.replace( np.nan, \"Unknown\")\n",
        "cites_listings.author = cites_listings.author.str.replace( r'\\)|\\(', '')\n",
        "cites_listings.fullNote = cites_listings.fullNote.str.replace( \"Unknown\", \"No notes recorded\")\n",
        "cites_listings.full_note = cites_listings.full_note.str.replace( \"Unknown\", \"No notes recorded\")"
      ],
      "execution_count": null,
      "outputs": []
    },
    {
      "cell_type": "code",
      "metadata": {
        "id": "w69vtMAuzzqq"
      },
      "source": [
        "# EXPORT above back to CSVs, adding index column for db\n",
        "\n",
        "assessments.to_csv( 'assessments.csv', index= False)\n",
        "tax.to_csv( 'taxonomy.csv', index= False)\n",
        "cons.to_csv( 'conservation_needed.csv', index= False)\n",
        "countries.to_csv( 'countries.csv', index= False)\n",
        "habitats.to_csv( 'habitats.csv', index= False)\n",
        "research.to_csv( 'research_needed.csv', index= False)\n",
        "threats.to_csv( 'threats.csv', index= False)\n",
        "trade.to_csv( 'usetrade.csv', index= False)\n",
        "cites_listings.to_csv( 'cites_listings.csv', index= False)\n",
        "\n",
        "# THESE were then uploaded to github in the ../data/clean_data/ folder, along with common_names, which required no cleaning"
      ],
      "execution_count": null,
      "outputs": []
    },
    {
      "cell_type": "markdown",
      "metadata": {
        "id": "rFffVcWEvht-"
      },
      "source": [
        "# EXPLORATION ONLY:"
      ]
    },
    {
      "cell_type": "markdown",
      "metadata": {
        "id": "_QDhuBHk1G1-"
      },
      "source": [
        "## IUCN DATASETS:"
      ]
    },
    {
      "cell_type": "code",
      "metadata": {
        "id": "e2TuSQBTcz3Y",
        "outputId": "3ab13c66-1a68-4762-afbe-846974a08814",
        "colab": {
          "base_uri": "https://localhost:8080/",
          "height": 274
        }
      },
      "source": [
        "\n",
        "points.shape, assessments.shape, common.shape, summary.shape, syn.shape, tax.shape, cons.shape, countries.shape, habitats.shape, lme.shape, plants.shape, research.shape, threats.shape, trade.shape, specHab.shape"
      ],
      "execution_count": null,
      "outputs": [
        {
          "output_type": "execute_result",
          "data": {
            "text/plain": [
              "((6622, 23),\n",
              " (10131, 5),\n",
              " (6622, 19),\n",
              " (6256, 8),\n",
              " (6622, 15),\n",
              " (4075, 6),\n",
              " (94440, 9),\n",
              " (25356, 8),\n",
              " (5, 9),\n",
              " (3027, 5),\n",
              " (9218, 6),\n",
              " (10680, 15),\n",
              " (3436, 9),\n",
              " (16083, 7))"
            ]
          },
          "metadata": {
            "tags": []
          },
          "execution_count": 12
        }
      ]
    },
    {
      "cell_type": "markdown",
      "metadata": {
        "id": "2Pb_VtC03QAt"
      },
      "source": [
        "#### POINTS dataset (DEPRECATED)"
      ]
    },
    {
      "cell_type": "code",
      "metadata": {
        "id": "2N_TyAeGFFYL",
        "outputId": "81ddde87-361e-4f33-9ac7-69b053153311",
        "colab": {
          "base_uri": "https://localhost:8080/",
          "height": 118
        }
      },
      "source": [
        "points.sample()"
      ],
      "execution_count": null,
      "outputs": [
        {
          "output_type": "execute_result",
          "data": {
            "text/html": [
              "<div>\n",
              "<style scoped>\n",
              "    .dataframe tbody tr th:only-of-type {\n",
              "        vertical-align: middle;\n",
              "    }\n",
              "\n",
              "    .dataframe tbody tr th {\n",
              "        vertical-align: top;\n",
              "    }\n",
              "\n",
              "    .dataframe thead th {\n",
              "        text-align: right;\n",
              "    }\n",
              "</style>\n",
              "<table border=\"1\" class=\"dataframe\">\n",
              "  <thead>\n",
              "    <tr style=\"text-align: right;\">\n",
              "      <th></th>\n",
              "      <th>assessment_id</th>\n",
              "      <th>id_no</th>\n",
              "      <th>binomial</th>\n",
              "      <th>presence</th>\n",
              "      <th>origin</th>\n",
              "      <th>seasonal</th>\n",
              "      <th>compiler</th>\n",
              "      <th>year</th>\n",
              "      <th>citation</th>\n",
              "      <th>legend</th>\n",
              "      <th>subspecies</th>\n",
              "      <th>subpop</th>\n",
              "      <th>dist_comm</th>\n",
              "      <th>island</th>\n",
              "      <th>tax_comm</th>\n",
              "      <th>longitude</th>\n",
              "      <th>latitude</th>\n",
              "    </tr>\n",
              "  </thead>\n",
              "  <tbody>\n",
              "    <tr>\n",
              "      <th>8863</th>\n",
              "      <td>1467230</td>\n",
              "      <td>177112</td>\n",
              "      <td>Oryza glaberrima</td>\n",
              "      <td>1</td>\n",
              "      <td>1</td>\n",
              "      <td>1</td>\n",
              "      <td>IUCN</td>\n",
              "      <td>6556.0</td>\n",
              "      <td>NaN</td>\n",
              "      <td>Extant (resident)</td>\n",
              "      <td>NaN</td>\n",
              "      <td>NaN</td>\n",
              "      <td>NaN</td>\n",
              "      <td>NaN</td>\n",
              "      <td>NaN</td>\n",
              "      <td>-9.58333</td>\n",
              "      <td>6.98333</td>\n",
              "    </tr>\n",
              "  </tbody>\n",
              "</table>\n",
              "</div>"
            ],
            "text/plain": [
              "      assessment_id   id_no          binomial  ...  tax_comm  longitude  latitude\n",
              "8863        1467230  177112  Oryza glaberrima  ...       NaN   -9.58333   6.98333\n",
              "\n",
              "[1 rows x 17 columns]"
            ]
          },
          "metadata": {
            "tags": []
          },
          "execution_count": 4
        }
      ]
    },
    {
      "cell_type": "code",
      "metadata": {
        "id": "AQAo6WvTFUdW"
      },
      "source": [
        "print( points.shape, '\\n')\n",
        "points.isnull().sum()"
      ],
      "execution_count": null,
      "outputs": []
    },
    {
      "cell_type": "code",
      "metadata": {
        "id": "rgLU96q6jn47",
        "outputId": "3891ce25-cd82-443a-fda5-5c1948c1e17a",
        "colab": {
          "base_uri": "https://localhost:8080/",
          "height": 237
        }
      },
      "source": [
        "points.binomial.value_counts()#[:1425]"
      ],
      "execution_count": null,
      "outputs": [
        {
          "output_type": "execute_result",
          "data": {
            "text/plain": [
              "Dodonaea viscosa               27722\n",
              "Oryza glaberrima                7525\n",
              "Anogeissus leiocarpa            4675\n",
              "Crossopteryx febrifuga          3287\n",
              "Flueggea virosa                 3285\n",
              "                               ...  \n",
              "Africanogyrus coretus              1\n",
              "Clarias liocephalus                1\n",
              "Synsepalum batesii                 1\n",
              "Beilschmiedia yangambiensis        1\n",
              "Beilschmiedia pellegrinii          1\n",
              "Name: binomial, Length: 1457, dtype: int64"
            ]
          },
          "metadata": {
            "tags": []
          },
          "execution_count": 31
        }
      ]
    },
    {
      "cell_type": "markdown",
      "metadata": {
        "id": "BCSYPl712njH"
      },
      "source": [
        "#### ASSESSMENTS dataset (COMPLETE)"
      ]
    },
    {
      "cell_type": "code",
      "metadata": {
        "id": "_RS9saswQPZL",
        "outputId": "5115f6fd-3e9d-4e91-df09-d1c54027feaa",
        "colab": {
          "base_uri": "https://localhost:8080/",
          "height": 407
        }
      },
      "source": [
        "assessments.sample(3)"
      ],
      "execution_count": null,
      "outputs": [
        {
          "output_type": "execute_result",
          "data": {
            "text/html": [
              "<div>\n",
              "<style scoped>\n",
              "    .dataframe tbody tr th:only-of-type {\n",
              "        vertical-align: middle;\n",
              "    }\n",
              "\n",
              "    .dataframe tbody tr th {\n",
              "        vertical-align: top;\n",
              "    }\n",
              "\n",
              "    .dataframe thead th {\n",
              "        text-align: right;\n",
              "    }\n",
              "</style>\n",
              "<table border=\"1\" class=\"dataframe\">\n",
              "  <thead>\n",
              "    <tr style=\"text-align: right;\">\n",
              "      <th></th>\n",
              "      <th>assessmentId</th>\n",
              "      <th>internalTaxonId</th>\n",
              "      <th>scientificName</th>\n",
              "      <th>redlistCategory</th>\n",
              "      <th>redlistCriteria</th>\n",
              "      <th>yearPublished</th>\n",
              "      <th>assessmentDate</th>\n",
              "      <th>criteriaVersion</th>\n",
              "      <th>language</th>\n",
              "      <th>rationale</th>\n",
              "      <th>habitat</th>\n",
              "      <th>threats</th>\n",
              "      <th>population</th>\n",
              "      <th>populationTrend</th>\n",
              "      <th>range</th>\n",
              "      <th>useTrade</th>\n",
              "      <th>systems</th>\n",
              "      <th>conservationActions</th>\n",
              "      <th>realm</th>\n",
              "      <th>yearLastSeen</th>\n",
              "      <th>possiblyExtinct</th>\n",
              "      <th>possiblyExtinctInTheWild</th>\n",
              "      <th>scopes</th>\n",
              "    </tr>\n",
              "  </thead>\n",
              "  <tbody>\n",
              "    <tr>\n",
              "      <th>1771</th>\n",
              "      <td>8367823</td>\n",
              "      <td>185212</td>\n",
              "      <td>Limnophyton fluitans</td>\n",
              "      <td>Vulnerable</td>\n",
              "      <td>B2ab(iii)</td>\n",
              "      <td>2010</td>\n",
              "      <td>2009-05-05 00:00:00 UTC</td>\n",
              "      <td>3.1</td>\n",
              "      <td>English</td>\n",
              "      <td>This species is assessed as Vulnerable as it i...</td>\n",
              "      <td>&lt;span style=\"font-style: italic;\"&gt;Limnophyton&lt;...</td>\n",
              "      <td>As submerged plant, any extreme fluctuation in...</td>\n",
              "      <td>Regional endemic herb and low population due t...</td>\n",
              "      <td>Unknown</td>\n",
              "      <td>This species is endemic to Cameroon, Equatoria...</td>\n",
              "      <td>NaN</td>\n",
              "      <td>Terrestrial|Freshwater (=Inland waters)</td>\n",
              "      <td>No specific measures at the moment, but the sp...</td>\n",
              "      <td>Afrotropical</td>\n",
              "      <td>NaN</td>\n",
              "      <td>False</td>\n",
              "      <td>False</td>\n",
              "      <td>Global &amp; Pan-Africa</td>\n",
              "    </tr>\n",
              "    <tr>\n",
              "      <th>3281</th>\n",
              "      <td>60762303</td>\n",
              "      <td>60762300</td>\n",
              "      <td>Annickia chlorantha</td>\n",
              "      <td>Least Concern</td>\n",
              "      <td>NaN</td>\n",
              "      <td>2019</td>\n",
              "      <td>2018-08-01 00:00:00 UTC</td>\n",
              "      <td>3.1</td>\n",
              "      <td>English</td>\n",
              "      <td>&lt;em&gt;Annickia chlorantha&lt;/em&gt; is distributed fr...</td>\n",
              "      <td>This species is a tree growing up to 9-25 m ta...</td>\n",
              "      <td>Although this tree may be facing local habitat...</td>\n",
              "      <td>The number of individuals of this species is n...</td>\n",
              "      <td>Unknown</td>\n",
              "      <td>This species was previously only known to occu...</td>\n",
              "      <td>The wood of this species is used for tradition...</td>\n",
              "      <td>Terrestrial</td>\n",
              "      <td>This species is present in three protected are...</td>\n",
              "      <td>Afrotropical</td>\n",
              "      <td>NaN</td>\n",
              "      <td>False</td>\n",
              "      <td>False</td>\n",
              "      <td>Global</td>\n",
              "    </tr>\n",
              "    <tr>\n",
              "      <th>1866</th>\n",
              "      <td>8436715</td>\n",
              "      <td>185561</td>\n",
              "      <td>Stenandrium guineense</td>\n",
              "      <td>Least Concern</td>\n",
              "      <td>NaN</td>\n",
              "      <td>2010</td>\n",
              "      <td>2009-05-05 00:00:00 UTC</td>\n",
              "      <td>3.1</td>\n",
              "      <td>English</td>\n",
              "      <td>This species is present in Gabon, Equatorial G...</td>\n",
              "      <td>Ground herb of forest floor, at the shady and ...</td>\n",
              "      <td>Forest clearing for logging or shifting agricu...</td>\n",
              "      <td>Widespread species, large size population.</td>\n",
              "      <td>Unknown</td>\n",
              "      <td>West to East Africa, from Cote d'Ivoire to Uga...</td>\n",
              "      <td>NaN</td>\n",
              "      <td>Terrestrial|Freshwater (=Inland waters)</td>\n",
              "      <td>&lt;p&gt;No conservation measures are in place. Site...</td>\n",
              "      <td>Afrotropical</td>\n",
              "      <td>NaN</td>\n",
              "      <td>False</td>\n",
              "      <td>False</td>\n",
              "      <td>Global &amp; Pan-Africa</td>\n",
              "    </tr>\n",
              "  </tbody>\n",
              "</table>\n",
              "</div>"
            ],
            "text/plain": [
              "      assessmentId  ...               scopes\n",
              "1771       8367823  ...  Global & Pan-Africa\n",
              "3281      60762303  ...               Global\n",
              "1866       8436715  ...  Global & Pan-Africa\n",
              "\n",
              "[3 rows x 23 columns]"
            ]
          },
          "metadata": {
            "tags": []
          },
          "execution_count": 17
        }
      ]
    },
    {
      "cell_type": "code",
      "metadata": {
        "id": "DQgu3YSGow03",
        "outputId": "cb7ced5a-5a72-4efa-bbb4-058d802eaa18",
        "colab": {
          "base_uri": "https://localhost:8080/",
          "height": 164
        }
      },
      "source": [
        "assessments.redlistCategory.value_counts()"
      ],
      "execution_count": null,
      "outputs": [
        {
          "output_type": "execute_result",
          "data": {
            "text/plain": [
              "Least Concern                 4796\n",
              "Data Deficient                 518\n",
              "Vulnerable                     509\n",
              "Endangered                     393\n",
              "Critically Endangered          202\n",
              "Near Threatened                195\n",
              "Lower Risk/near threatened       9\n",
              "Name: redlistCategory, dtype: int64"
            ]
          },
          "metadata": {
            "tags": []
          },
          "execution_count": 2
        }
      ]
    },
    {
      "cell_type": "code",
      "metadata": {
        "id": "LiA-LIEylC4V",
        "outputId": "710c698f-affc-49dc-f351-4cc848464340",
        "colab": {
          "base_uri": "https://localhost:8080/",
          "height": 513
        }
      },
      "source": [
        "print( assessments.shape, '\\n', assessments.isnull().sum(), '\\n\\n', \n",
        "       sep= ''\n",
        ")"
      ],
      "execution_count": null,
      "outputs": [
        {
          "output_type": "stream",
          "text": [
            "(6622, 23)\n",
            "assessmentId                   0\n",
            "internalTaxonId                0\n",
            "scientificName                 0\n",
            "redlistCategory                0\n",
            "redlistCriteria             5427\n",
            "yearPublished                  0\n",
            "assessmentDate                 0\n",
            "criteriaVersion                0\n",
            "language                     228\n",
            "rationale                     49\n",
            "habitat                     1265\n",
            "threats                     1329\n",
            "population                   807\n",
            "populationTrend               92\n",
            "range                       1438\n",
            "useTrade                    3864\n",
            "systems                        0\n",
            "conservationActions         1114\n",
            "realm                          1\n",
            "yearLastSeen                6595\n",
            "possiblyExtinct                0\n",
            "possiblyExtinctInTheWild       0\n",
            "scopes                         0\n",
            "dtype: int64\n",
            "\n",
            "\n"
          ],
          "name": "stdout"
        }
      ]
    },
    {
      "cell_type": "code",
      "metadata": {
        "id": "1N94P8MFcs4u",
        "outputId": "df563d16-d2d9-4dc1-e8ff-993673a52df2",
        "colab": {
          "base_uri": "https://localhost:8080/",
          "height": 515
        }
      },
      "source": [
        "assessments.population.value_counts()[:25]"
      ],
      "execution_count": null,
      "outputs": [
        {
          "output_type": "execute_result",
          "data": {
            "text/plain": [
              "No information available.                                                                                                                                                                 1150\n",
              "The population size is unknown.                                                                                                                                                            126\n",
              "No information available regarding population sizes.                                                                                                                                        68\n",
              "There are no data on population sizes or trends.                                                                                                                                            61\n",
              "Currently, there is a lack of detailed population numbers and the global trend is unknown.                                                                                                  53\n",
              "Unknown.                                                                                                                                                                                    53\n",
              "Population size is unknown.                                                                                                                                                                 42\n",
              "It is a common species.                                                                                                                                                                     37\n",
              "No information is available on population size or trends for this species.                                                                                                                  31\n",
              "There is no population information available for this species.                                                                                                                              31\n",
              "There is no information on population size or trends in this species but there is no reason to suspect a decline.                                                                           29\n",
              "There is no information on population size or trends in this species but no reason to suspect a decline.                                                                                    29\n",
              "No available data.                                                                                                                                                                          28\n",
              "No information is available on the population.                                                                                                                                              24\n",
              "The global population size has not been quantified.                                                                                                                                         20\n",
              "<p>There is no information about the population size and trends of this species.</p>                                                                                                        19\n",
              "There is no information available on the population size or trend of this species. However, there is no reason to suspect a decline and the trend is, therefore, assumed to be stable.      19\n",
              "Widespread species, large size population.                                                                                                                                                  18\n",
              "The global population size has not been quantified, but the species is described as locally common (del Hoyo et al. 2006).                                                                  17\n",
              "There is no information on population size or trends in this species but there is no reason to suspect a decline. The population trend is therefore assumed to be stable.                   15\n",
              "There are no population data available for this species.                                                                                                                                    14\n",
              "There is no information on population size or trends in this species.                                                                                                                       14\n",
              "It is a very common species.                                                                                                                                                                13\n",
              "The global population size has not been quantified, but the species is reported to be uncommon to common (Urban et al. 1997).                                                               11\n",
              "Population size and trends are unknown.                                                                                                                                                     10\n",
              "Name: population, dtype: int64"
            ]
          },
          "metadata": {
            "tags": []
          },
          "execution_count": 3
        }
      ]
    },
    {
      "cell_type": "code",
      "metadata": {
        "id": "D1lQ9c8RLshs",
        "outputId": "221962b1-460a-4010-d583-6bda8650dc10",
        "colab": {
          "base_uri": "https://localhost:8080/",
          "height": 515
        }
      },
      "source": [
        "assessments.threats.value_counts()[:25]"
      ],
      "execution_count": null,
      "outputs": [
        {
          "output_type": "execute_result",
          "data": {
            "text/plain": [
              "None known.                                                                                                                                                                                                                       404\n",
              "There are no known significant past, ongoing or future threats to this species.                                                                                                                                                   135\n",
              "No information available.                                                                                                                                                                                                         130\n",
              "There appear to be no major threats to this species as a whole.                                                                                                                                                                    40\n",
              "There are no major threats to this species.                                                                                                                                                                                        34\n",
              "There is no information available on threats to this species.                                                                                                                                                                      34\n",
              "Sedimentation.                                                                                                                                                                                                                     32\n",
              "There is no information on threats to this species. However, it is not thought that there are any threats affecting the population globally.                                                                                       29\n",
              "There are no threats known to be currently affecting this species.                                                                                                                                                                 24\n",
              "This is a commercially harvested aquarium species.                                                                                                                                                                                 24\n",
              "Although there are some possible threats to this species in different regions, due to its wide distribution the threats are not affecting the species.                                                                             23\n",
              "Forest destruction caused by agriculture and wood extraction are threats to the species.                                                                                                                                           20\n",
              "Specific threats to the species are unknown, but ongoing deforestation caused by agriculture and wood extraction in the area is believed to be a affecting to the species.                                                         19\n",
              "The threats to this species are unknown.                                                                                                                                                                                           18\n",
              "The forests across this species range are severely threatened by commercial logging, slash and burn agriculture, fuelwood collection and clearance for plantations of oil palm, rubber, bananas and cacao (Weber et al. 2001).     17\n",
              "There is no information on threats to this species.                                                                                                                                                                                15\n",
              "The threats to this species are not known.                                                                                                                                                                                         15\n",
              "There are no known threats to this species.                                                                                                                                                                                        15\n",
              "No threats have been reported for this species.                                                                                                                                                                                    14\n",
              "The main threat to this species is forest destruction due to agriculture and wood extraction.                                                                                                                                      13\n",
              "Subsistence fishing, and sedimentation.                                                                                                                                                                                            13\n",
              "Unknown.                                                                                                                                                                                                                           12\n",
              "Artisanal, but very intensively diamond mining is a very important threat in small rivers in the Kasai region. The sand from digging in the river and the river beds causes sedimentation.                                         12\n",
              "No information available on threats to this species.                                                                                                                                                                               12\n",
              "There are no known threats for the species.                                                                                                                                                                                        12\n",
              "Name: threats, dtype: int64"
            ]
          },
          "metadata": {
            "tags": []
          },
          "execution_count": 13
        }
      ]
    },
    {
      "cell_type": "code",
      "metadata": {
        "id": "j59qCK1dr3-Q",
        "outputId": "ace3053b-1d25-447f-dc54-a265c31892fc",
        "colab": {
          "base_uri": "https://localhost:8080/",
          "height": 74
        }
      },
      "source": [
        "assessments[ assessments.scientificName.isin( ['Pan paniscus'])].threats.values"
      ],
      "execution_count": null,
      "outputs": [
        {
          "output_type": "execute_result",
          "data": {
            "text/plain": [
              "array(['The major threats to Bonobos include: poaching (mainly for bushmeat and for some medicinal purposes); residue from civil warfare (availability of modern weaponry and ammunition; military-sanctioned hunting); human-induced habitat alteration (commercial logging and agriculture, traditional slash-and-burn agriculture, fallow land); human population growth and migration; and lack of education (insufficient awareness among urban and rural communities that hunting and eating Bonobos is unlawful). Bonobos reproduce slowly, and thus their populations are particularly susceptible to direct losses caused by humans.  Poaching: despite the fact that all killing, capture or consumption of great apes is illegal, poaching is the most direct and immediate threat to great apes in DRC. Although taboos against hunting Bonobos still exist in some regions, these taboos have become ineffective where poachers are not local. In other locations, transient and immigrant human populations with different cultural values have increased the frequency of hunting and eating of Bonobos. Poachers prefer large mammals, and since Bonobos are the largest primate in the region, they may be targeted along with ungulates and monkeys. Commercial poachers, aided by military and local administrations, are active even in legally-protected sites, such as Salonga National Park (SNP), Lomako-Yokokala Faunal Reserve, Tumba-Lediima Natural Reserve, Sankuru Natural Reserve, and the proposed Lomami National Park. The importance of these protected areas as significant reservoirs of Bonobos will be compromised rapidly if current levels of poaching continue. Between 2003 and 2006, Hart et al. (2008) recorded evidence of poaching in 51% of survey grids across SNP, with hunting pressure highest in the north and east. However, since then, investment in effective antipoaching measures appears to have protected at least the Lokofa Sector in the southern block of SNP, where Bonobo abundance remained stable between 2006 and 2015 (WCS 2015). Extrapolating from interview data gathered for a bushmeat survey conducted in the Lomami National Park (LNP) area in 2008, it was estimated that 270 Bonobos per year were consumed around Kindu, representing three Bonobos per 100 km² per year in the area investigated (Mirambo et al. 2014). Currently, this negative trend has been halted within the park through surveillance and collaboration with local communities (Hart and Hart 2011, 2015). The intake rate of orphaned Bonobos into the Lola ya Bonobo sanctuary may be viewed as another indicator of hunting pressure and/or anti-trafficking efforts. Hughes et al. (2011) estimated that 4.2 Chimpanzees (2.6–8.9 individuals) are removed from the wild whenever a single live infant is obtained as a by-product of a hunt. Considering that Bonobos are more social than Chimpanzees, the ratio of dead Bonobos per orphaned infant may be higher. Data compiled between 1994 and 2012 show a small but steady increase in the number of orphans entering the sanctuary, with two peaks each of six infants in 1997 and 2000 during the Congolese wars, and a peak of 16 individuals in 2004 after the implementation of peace and return to the regular use of rivers as major transport routes (ABC 2012). An influx of nine Bonobos in 2012 was also notably high, but arrivals decreased to two in 2015. While various explanations for lower intakes are possible (e.g., decline of Bonobos in the wild, or effective anti-poaching and anti-trafficking measures, or Bonobos being exported illegally), it is important to remember that the variation in such small numbers may be stochastic, rather than a real trend. Habitat loss: subsistence agriculture, commercial agriculture, logging and road construction all cause forest loss and fragmentation that reduces the usable (or ‘effective’) habitat available to Bonobos. Moreover, civil strife has been shown to exacerbate destruction and degradation of Bonobo habitat: in Luo Scientific Reserve and Iyondji Community Bonobo Reserve, primary forest loss in previously unfragmented core forests was over two times greater during a decade when conflict and war were predominant in the region (1990–2000) than during a relatively conflict-free period (2000–2010), when humans left their hiding in core forest areas and returned to their natal villages and farms within long-established agricultural complexes (Nackoney et al. 2014). However, as conflict recedes, large-scale commerce is expanding and industrial agriculture is likely to become a significant driver of forest loss. Oil palm is already being grown in what would otherwise be Bonobo habitat (Nackoney et al. 2012), and Africa is becoming the new frontier for oil-palm plantations, which offers excellent economic prospects in countries with appropriate rainfall, soil and temperature conditions (Rival and Levang 2014). A staggering 99.2% of the Bonobo’s range is suitable for oil palm (Wich et al. 2014), highlighting the enormous risk the palm-oil industry will pose unless sustainable management plans are developed and implemented to protect great apes and their habitats (IUCN SSC Primate Specialist Group 2014). It is worth noting that even though permits for prospection or resource extraction have already been granted, drilling for petroleum is unlikely to recommence in the near future, given the low price of crude oil on the international market. Although logging and mining do not yet occur on a large scale in Bonobo habitat, industrial extraction could become a serious threat in future. Minimising the conversion of intact forest in DRC to human-dominated land uses, will be critical for the survival of Bonobos, particularly when considering DRC’s high human population growth rate (2.45% in 2015; CIA 2015). Disease: infectious diseases are of particular concern in areas where Bonobos live in close proximity to human communities, or have been habituated to human observers for research or tourism purposes (Gilardi et al. 2015). Diseases that pose a risk to Bonobos include human-borne pathogens such as respiratory viruses, and natural pathogens such as Ebolavirus. Respiratory disease outbreaks were observed among Bonobos at Wamba when displaced people and soldiers were moving through the forest (Sakamaki et al. 2009), and human respiratory syncytial virus and Streptococcus pneumoniae co-infection has been detected at Malebo, where Bonobo habitat is surrounded by a particularly high human density (Leendertz pers. comm.). In 2014, a human outbreak of Ebola virus disease occurred in the Bonobo’s range. Considering their highly cohesive social structure, and high rates of physical contact, an Ebolavirus outbreak could devastate a Bonobo community. Despite a lack of scientific investigation of disease in wild Bonobos, these cases highlight the increasing need for health monitoring and disease contingency plans, as recommended by Gilardi et al. (2015).'],\n",
              "      dtype=object)"
            ]
          },
          "metadata": {
            "tags": []
          },
          "execution_count": 12
        }
      ]
    },
    {
      "cell_type": "markdown",
      "metadata": {
        "id": "64Hm10dL2tY6"
      },
      "source": [
        "#### COMMON dataset (NO CHANGES)"
      ]
    },
    {
      "cell_type": "code",
      "metadata": {
        "id": "OBv49wnPQPWO",
        "outputId": "e94e633e-0985-4918-e312-6f85b32a1f6e",
        "colab": {
          "base_uri": "https://localhost:8080/",
          "height": 143
        }
      },
      "source": [
        "common.sample(3)"
      ],
      "execution_count": null,
      "outputs": [
        {
          "output_type": "execute_result",
          "data": {
            "text/html": [
              "<div>\n",
              "<style scoped>\n",
              "    .dataframe tbody tr th:only-of-type {\n",
              "        vertical-align: middle;\n",
              "    }\n",
              "\n",
              "    .dataframe tbody tr th {\n",
              "        vertical-align: top;\n",
              "    }\n",
              "\n",
              "    .dataframe thead th {\n",
              "        text-align: right;\n",
              "    }\n",
              "</style>\n",
              "<table border=\"1\" class=\"dataframe\">\n",
              "  <thead>\n",
              "    <tr style=\"text-align: right;\">\n",
              "      <th></th>\n",
              "      <th>internalTaxonId</th>\n",
              "      <th>scientificName</th>\n",
              "      <th>name</th>\n",
              "      <th>language</th>\n",
              "      <th>main</th>\n",
              "    </tr>\n",
              "  </thead>\n",
              "  <tbody>\n",
              "    <tr>\n",
              "      <th>8800</th>\n",
              "      <td>135567</td>\n",
              "      <td>Mugil cephalus</td>\n",
              "      <td>Biah</td>\n",
              "      <td>Arabic</td>\n",
              "      <td>False</td>\n",
              "    </tr>\n",
              "    <tr>\n",
              "      <th>9001</th>\n",
              "      <td>22692129</td>\n",
              "      <td>Bugeranus carunculatus</td>\n",
              "      <td>Grulla Zarzo</td>\n",
              "      <td>Spanish; Castilian</td>\n",
              "      <td>False</td>\n",
              "    </tr>\n",
              "    <tr>\n",
              "      <th>9798</th>\n",
              "      <td>60690</td>\n",
              "      <td>Coptodon rendalli</td>\n",
              "      <td>Tshikwea</td>\n",
              "      <td>Venda</td>\n",
              "      <td>False</td>\n",
              "    </tr>\n",
              "  </tbody>\n",
              "</table>\n",
              "</div>"
            ],
            "text/plain": [
              "      internalTaxonId          scientificName  ...            language   main\n",
              "8800           135567          Mugil cephalus  ...              Arabic  False\n",
              "9001         22692129  Bugeranus carunculatus  ...  Spanish; Castilian  False\n",
              "9798            60690       Coptodon rendalli  ...               Venda  False\n",
              "\n",
              "[3 rows x 5 columns]"
            ]
          },
          "metadata": {
            "tags": []
          },
          "execution_count": 228
        }
      ]
    },
    {
      "cell_type": "code",
      "metadata": {
        "id": "JLI4JMv0mIkh",
        "outputId": "f35858c6-a17e-42e0-c617-03e249206d9a",
        "colab": {
          "base_uri": "https://localhost:8080/",
          "height": 164
        }
      },
      "source": [
        "print( common.shape, '\\n')\n",
        "common.isnull().sum()"
      ],
      "execution_count": null,
      "outputs": [
        {
          "output_type": "stream",
          "text": [
            "(10131, 5) \n",
            "\n"
          ],
          "name": "stdout"
        },
        {
          "output_type": "execute_result",
          "data": {
            "text/plain": [
              "internalTaxonId    0\n",
              "scientificName     0\n",
              "name               0\n",
              "language           0\n",
              "main               0\n",
              "dtype: int64"
            ]
          },
          "metadata": {
            "tags": []
          },
          "execution_count": 79
        }
      ]
    },
    {
      "cell_type": "code",
      "metadata": {
        "id": "h8Dxh0lS2xt4",
        "outputId": "c26113bd-a3c1-490b-d0a6-6c4ae06b1f8e",
        "colab": {
          "base_uri": "https://localhost:8080/",
          "height": 237
        }
      },
      "source": [
        "common.language.value_counts()"
      ],
      "execution_count": null,
      "outputs": [
        {
          "output_type": "execute_result",
          "data": {
            "text/plain": [
              "English          4839\n",
              "French           1515\n",
              "Undetermined     1365\n",
              "German            510\n",
              "Arabic            321\n",
              "                 ... \n",
              "Nyoro               1\n",
              "Telugu              1\n",
              "Somali              1\n",
              "Manipuri            1\n",
              "Indic (Other)       1\n",
              "Name: language, Length: 118, dtype: int64"
            ]
          },
          "metadata": {
            "tags": []
          },
          "execution_count": 225
        }
      ]
    },
    {
      "cell_type": "code",
      "metadata": {
        "id": "1SWlnKiL2xqr",
        "outputId": "7b360dc0-ba77-48d8-fdd5-4ed803586337",
        "colab": {
          "base_uri": "https://localhost:8080/",
          "height": 175
        }
      },
      "source": [
        "common[ common.scientificName.isin( ['Bugeranus carunculatus'])]"
      ],
      "execution_count": null,
      "outputs": [
        {
          "output_type": "execute_result",
          "data": {
            "text/html": [
              "<div>\n",
              "<style scoped>\n",
              "    .dataframe tbody tr th:only-of-type {\n",
              "        vertical-align: middle;\n",
              "    }\n",
              "\n",
              "    .dataframe tbody tr th {\n",
              "        vertical-align: top;\n",
              "    }\n",
              "\n",
              "    .dataframe thead th {\n",
              "        text-align: right;\n",
              "    }\n",
              "</style>\n",
              "<table border=\"1\" class=\"dataframe\">\n",
              "  <thead>\n",
              "    <tr style=\"text-align: right;\">\n",
              "      <th></th>\n",
              "      <th>internalTaxonId</th>\n",
              "      <th>scientificName</th>\n",
              "      <th>name</th>\n",
              "      <th>language</th>\n",
              "      <th>main</th>\n",
              "    </tr>\n",
              "  </thead>\n",
              "  <tbody>\n",
              "    <tr>\n",
              "      <th>8999</th>\n",
              "      <td>22692129</td>\n",
              "      <td>Bugeranus carunculatus</td>\n",
              "      <td>Grue caronculée</td>\n",
              "      <td>French</td>\n",
              "      <td>False</td>\n",
              "    </tr>\n",
              "    <tr>\n",
              "      <th>9000</th>\n",
              "      <td>22692129</td>\n",
              "      <td>Bugeranus carunculatus</td>\n",
              "      <td>Grulla Carunculada</td>\n",
              "      <td>Spanish; Castilian</td>\n",
              "      <td>False</td>\n",
              "    </tr>\n",
              "    <tr>\n",
              "      <th>9001</th>\n",
              "      <td>22692129</td>\n",
              "      <td>Bugeranus carunculatus</td>\n",
              "      <td>Grulla Zarzo</td>\n",
              "      <td>Spanish; Castilian</td>\n",
              "      <td>False</td>\n",
              "    </tr>\n",
              "    <tr>\n",
              "      <th>9002</th>\n",
              "      <td>22692129</td>\n",
              "      <td>Bugeranus carunculatus</td>\n",
              "      <td>Wattled Crane</td>\n",
              "      <td>English</td>\n",
              "      <td>True</td>\n",
              "    </tr>\n",
              "  </tbody>\n",
              "</table>\n",
              "</div>"
            ],
            "text/plain": [
              "      internalTaxonId          scientificName  ...            language   main\n",
              "8999         22692129  Bugeranus carunculatus  ...              French  False\n",
              "9000         22692129  Bugeranus carunculatus  ...  Spanish; Castilian  False\n",
              "9001         22692129  Bugeranus carunculatus  ...  Spanish; Castilian  False\n",
              "9002         22692129  Bugeranus carunculatus  ...             English   True\n",
              "\n",
              "[4 rows x 5 columns]"
            ]
          },
          "metadata": {
            "tags": []
          },
          "execution_count": 231
        }
      ]
    },
    {
      "cell_type": "markdown",
      "metadata": {
        "id": "a59xmEjY2yWC"
      },
      "source": [
        "#### ASSESSMENT SUMMARY dataset (DEPRECATED)"
      ]
    },
    {
      "cell_type": "code",
      "metadata": {
        "id": "P7e8QEUDQPTH",
        "outputId": "21c66c2c-2396-431b-a36c-d361c64c99bd",
        "colab": {
          "base_uri": "https://localhost:8080/",
          "height": 250
        }
      },
      "source": [
        "summary.sample(3)"
      ],
      "execution_count": null,
      "outputs": [
        {
          "output_type": "execute_result",
          "data": {
            "text/html": [
              "<div>\n",
              "<style scoped>\n",
              "    .dataframe tbody tr th:only-of-type {\n",
              "        vertical-align: middle;\n",
              "    }\n",
              "\n",
              "    .dataframe tbody tr th {\n",
              "        vertical-align: top;\n",
              "    }\n",
              "\n",
              "    .dataframe thead th {\n",
              "        text-align: right;\n",
              "    }\n",
              "</style>\n",
              "<table border=\"1\" class=\"dataframe\">\n",
              "  <thead>\n",
              "    <tr style=\"text-align: right;\">\n",
              "      <th></th>\n",
              "      <th>assessmentId</th>\n",
              "      <th>internalTaxonId</th>\n",
              "      <th>scientificName</th>\n",
              "      <th>kingdomName</th>\n",
              "      <th>phylumName</th>\n",
              "      <th>orderName</th>\n",
              "      <th>className</th>\n",
              "      <th>familyName</th>\n",
              "      <th>genusName</th>\n",
              "      <th>speciesName</th>\n",
              "      <th>infraType</th>\n",
              "      <th>infraName</th>\n",
              "      <th>infraAuthority</th>\n",
              "      <th>authority</th>\n",
              "      <th>redlistCategory</th>\n",
              "      <th>redlistCriteria</th>\n",
              "      <th>criteriaVersion</th>\n",
              "      <th>populationTrend</th>\n",
              "      <th>scopes</th>\n",
              "    </tr>\n",
              "  </thead>\n",
              "  <tbody>\n",
              "    <tr>\n",
              "      <th>5627</th>\n",
              "      <td>130156693</td>\n",
              "      <td>22688996</td>\n",
              "      <td>Bubo leucostictus</td>\n",
              "      <td>ANIMALIA</td>\n",
              "      <td>CHORDATA</td>\n",
              "      <td>STRIGIFORMES</td>\n",
              "      <td>AVES</td>\n",
              "      <td>STRIGIDAE</td>\n",
              "      <td>Bubo</td>\n",
              "      <td>leucostictus</td>\n",
              "      <td>NaN</td>\n",
              "      <td>NaN</td>\n",
              "      <td>NaN</td>\n",
              "      <td>Hartlaub, 1855</td>\n",
              "      <td>Least Concern</td>\n",
              "      <td>NaN</td>\n",
              "      <td>3.1</td>\n",
              "      <td>Decreasing</td>\n",
              "      <td>Global</td>\n",
              "    </tr>\n",
              "    <tr>\n",
              "      <th>4910</th>\n",
              "      <td>111320709</td>\n",
              "      <td>111320691</td>\n",
              "      <td>Hypericum humbertii</td>\n",
              "      <td>PLANTAE</td>\n",
              "      <td>TRACHEOPHYTA</td>\n",
              "      <td>MALPIGHIALES</td>\n",
              "      <td>MAGNOLIOPSIDA</td>\n",
              "      <td>HYPERICACEAE</td>\n",
              "      <td>Hypericum</td>\n",
              "      <td>humbertii</td>\n",
              "      <td>NaN</td>\n",
              "      <td>NaN</td>\n",
              "      <td>NaN</td>\n",
              "      <td>Staner</td>\n",
              "      <td>Near Threatened</td>\n",
              "      <td>B2a</td>\n",
              "      <td>3.1</td>\n",
              "      <td>Decreasing</td>\n",
              "      <td>Global</td>\n",
              "    </tr>\n",
              "    <tr>\n",
              "      <th>6446</th>\n",
              "      <td>149035783</td>\n",
              "      <td>144249874</td>\n",
              "      <td>Anthonotha pynaertii</td>\n",
              "      <td>PLANTAE</td>\n",
              "      <td>TRACHEOPHYTA</td>\n",
              "      <td>FABALES</td>\n",
              "      <td>MAGNOLIOPSIDA</td>\n",
              "      <td>FABACEAE</td>\n",
              "      <td>Anthonotha</td>\n",
              "      <td>pynaertii</td>\n",
              "      <td>NaN</td>\n",
              "      <td>NaN</td>\n",
              "      <td>NaN</td>\n",
              "      <td>(De Wild.) Exell &amp;amp; Hillc.</td>\n",
              "      <td>Least Concern</td>\n",
              "      <td>NaN</td>\n",
              "      <td>3.1</td>\n",
              "      <td>Stable</td>\n",
              "      <td>Global</td>\n",
              "    </tr>\n",
              "  </tbody>\n",
              "</table>\n",
              "</div>"
            ],
            "text/plain": [
              "      assessmentId  internalTaxonId  ... populationTrend  scopes\n",
              "5627     130156693         22688996  ...      Decreasing  Global\n",
              "4910     111320709        111320691  ...      Decreasing  Global\n",
              "6446     149035783        144249874  ...          Stable  Global\n",
              "\n",
              "[3 rows x 19 columns]"
            ]
          },
          "metadata": {
            "tags": []
          },
          "execution_count": 83
        }
      ]
    },
    {
      "cell_type": "code",
      "metadata": {
        "id": "n5RigXGWmQ9M",
        "outputId": "1c25b25b-de56-4ae7-e52c-08af91412f5c",
        "colab": {
          "base_uri": "https://localhost:8080/",
          "height": 421
        }
      },
      "source": [
        "print( summary.shape, '\\n')\n",
        "summary.isnull().sum()"
      ],
      "execution_count": null,
      "outputs": [
        {
          "output_type": "stream",
          "text": [
            "(6622, 19) \n",
            "\n"
          ],
          "name": "stdout"
        },
        {
          "output_type": "execute_result",
          "data": {
            "text/plain": [
              "assessmentId          0\n",
              "internalTaxonId       0\n",
              "scientificName        0\n",
              "kingdomName           0\n",
              "phylumName            0\n",
              "orderName             0\n",
              "className             0\n",
              "familyName            0\n",
              "genusName             0\n",
              "speciesName           0\n",
              "infraType          6622\n",
              "infraName          6622\n",
              "infraAuthority     6622\n",
              "authority             1\n",
              "redlistCategory       0\n",
              "redlistCriteria    5427\n",
              "criteriaVersion       0\n",
              "populationTrend      92\n",
              "scopes                0\n",
              "dtype: int64"
            ]
          },
          "metadata": {
            "tags": []
          },
          "execution_count": 81
        }
      ]
    },
    {
      "cell_type": "code",
      "metadata": {
        "id": "dIKnE1YM23md",
        "outputId": "3b7bc959-8914-46c9-fc62-40a6f560ac38",
        "colab": {
          "base_uri": "https://localhost:8080/",
          "height": 72
        }
      },
      "source": [
        "summary.kingdomName.value_counts()"
      ],
      "execution_count": null,
      "outputs": [
        {
          "output_type": "execute_result",
          "data": {
            "text/plain": [
              "ANIMALIA    4335\n",
              "PLANTAE     2287\n",
              "Name: kingdomName, dtype: int64"
            ]
          },
          "metadata": {
            "tags": []
          },
          "execution_count": 4
        }
      ]
    },
    {
      "cell_type": "markdown",
      "metadata": {
        "id": "qJ20zCqy24Sv"
      },
      "source": [
        "#### SYNONYMS dataset (DEPRECATED)"
      ]
    },
    {
      "cell_type": "code",
      "metadata": {
        "id": "mCj_QjteREXp",
        "outputId": "92506cb9-2d17-4e2c-c84e-1f6e78fba490",
        "colab": {
          "base_uri": "https://localhost:8080/",
          "height": 178
        }
      },
      "source": [
        "syn.sample(3)"
      ],
      "execution_count": null,
      "outputs": [
        {
          "output_type": "execute_result",
          "data": {
            "text/html": [
              "<div>\n",
              "<style scoped>\n",
              "    .dataframe tbody tr th:only-of-type {\n",
              "        vertical-align: middle;\n",
              "    }\n",
              "\n",
              "    .dataframe tbody tr th {\n",
              "        vertical-align: top;\n",
              "    }\n",
              "\n",
              "    .dataframe thead th {\n",
              "        text-align: right;\n",
              "    }\n",
              "</style>\n",
              "<table border=\"1\" class=\"dataframe\">\n",
              "  <thead>\n",
              "    <tr style=\"text-align: right;\">\n",
              "      <th></th>\n",
              "      <th>internalTaxonId</th>\n",
              "      <th>scientificName</th>\n",
              "      <th>name</th>\n",
              "      <th>genusName</th>\n",
              "      <th>speciesName</th>\n",
              "      <th>speciesAuthor</th>\n",
              "      <th>infraType</th>\n",
              "      <th>infrarankAuthor</th>\n",
              "    </tr>\n",
              "  </thead>\n",
              "  <tbody>\n",
              "    <tr>\n",
              "      <th>1753</th>\n",
              "      <td>182499</td>\n",
              "      <td>Potamothrissa obtusirostris</td>\n",
              "      <td>Microthrissa tenuis (Nichols &amp; Griscom, 1917)</td>\n",
              "      <td>Microthrissa</td>\n",
              "      <td>tenuis</td>\n",
              "      <td>(Nichols &amp; Griscom, 1917)</td>\n",
              "      <td>NaN</td>\n",
              "      <td>NaN</td>\n",
              "    </tr>\n",
              "    <tr>\n",
              "      <th>1520</th>\n",
              "      <td>182262</td>\n",
              "      <td>Epiplatys spilargyreius</td>\n",
              "      <td>Haplochilus marni Boulenger, 1915</td>\n",
              "      <td>Haplochilus</td>\n",
              "      <td>marni</td>\n",
              "      <td>Boulenger, 1915</td>\n",
              "      <td>NaN</td>\n",
              "      <td>NaN</td>\n",
              "    </tr>\n",
              "    <tr>\n",
              "      <th>3854</th>\n",
              "      <td>60050</td>\n",
              "      <td>Tramea limbata</td>\n",
              "      <td>Libellula similata Rambur, 1842</td>\n",
              "      <td>Libellula</td>\n",
              "      <td>similata</td>\n",
              "      <td>Rambur, 1842</td>\n",
              "      <td>NaN</td>\n",
              "      <td>NaN</td>\n",
              "    </tr>\n",
              "  </tbody>\n",
              "</table>\n",
              "</div>"
            ],
            "text/plain": [
              "      internalTaxonId               scientificName  ... infraType infrarankAuthor\n",
              "1753           182499  Potamothrissa obtusirostris  ...       NaN             NaN\n",
              "1520           182262      Epiplatys spilargyreius  ...       NaN             NaN\n",
              "3854            60050               Tramea limbata  ...       NaN             NaN\n",
              "\n",
              "[3 rows x 8 columns]"
            ]
          },
          "metadata": {
            "tags": []
          },
          "execution_count": 53
        }
      ]
    },
    {
      "cell_type": "code",
      "metadata": {
        "id": "jpWRipN2mtMx",
        "outputId": "66fb0bbc-c544-408a-ebd3-962d4c2c9ff5",
        "colab": {
          "base_uri": "https://localhost:8080/",
          "height": 219
        }
      },
      "source": [
        "print( syn.shape, '\\n')\n",
        "syn.isnull().sum()"
      ],
      "execution_count": null,
      "outputs": [
        {
          "output_type": "stream",
          "text": [
            "(6256, 8) \n",
            "\n"
          ],
          "name": "stdout"
        },
        {
          "output_type": "execute_result",
          "data": {
            "text/plain": [
              "internalTaxonId       0\n",
              "scientificName        0\n",
              "name                  0\n",
              "genusName             0\n",
              "speciesName          40\n",
              "speciesAuthor       323\n",
              "infraType          5796\n",
              "infrarankAuthor    5824\n",
              "dtype: int64"
            ]
          },
          "metadata": {
            "tags": []
          },
          "execution_count": 84
        }
      ]
    },
    {
      "cell_type": "markdown",
      "metadata": {
        "id": "RX7q3-Yz27I4"
      },
      "source": [
        "#### TAXONOMY dataset (COMPLETE)"
      ]
    },
    {
      "cell_type": "code",
      "metadata": {
        "id": "d3VR69aRRGe5",
        "outputId": "dcd5f4be-a0e5-4b2b-e616-ab02bb042557",
        "colab": {
          "base_uri": "https://localhost:8080/",
          "height": 678
        }
      },
      "source": [
        "tax.head(10)"
      ],
      "execution_count": null,
      "outputs": [
        {
          "output_type": "execute_result",
          "data": {
            "text/html": [
              "<div>\n",
              "<style scoped>\n",
              "    .dataframe tbody tr th:only-of-type {\n",
              "        vertical-align: middle;\n",
              "    }\n",
              "\n",
              "    .dataframe tbody tr th {\n",
              "        vertical-align: top;\n",
              "    }\n",
              "\n",
              "    .dataframe thead th {\n",
              "        text-align: right;\n",
              "    }\n",
              "</style>\n",
              "<table border=\"1\" class=\"dataframe\">\n",
              "  <thead>\n",
              "    <tr style=\"text-align: right;\">\n",
              "      <th></th>\n",
              "      <th>internalTaxonId</th>\n",
              "      <th>scientificName</th>\n",
              "      <th>kingdomName</th>\n",
              "      <th>phylumName</th>\n",
              "      <th>orderName</th>\n",
              "      <th>className</th>\n",
              "      <th>familyName</th>\n",
              "      <th>genusName</th>\n",
              "      <th>speciesName</th>\n",
              "      <th>infraType</th>\n",
              "      <th>infraName</th>\n",
              "      <th>infraAuthority</th>\n",
              "      <th>subpopulationName</th>\n",
              "      <th>authority</th>\n",
              "      <th>taxonomicNotes</th>\n",
              "    </tr>\n",
              "  </thead>\n",
              "  <tbody>\n",
              "    <tr>\n",
              "      <th>0</th>\n",
              "      <td>137074</td>\n",
              "      <td>Paraphytus africanus</td>\n",
              "      <td>ANIMALIA</td>\n",
              "      <td>ARTHROPODA</td>\n",
              "      <td>COLEOPTERA</td>\n",
              "      <td>INSECTA</td>\n",
              "      <td>SCARABAEIDAE</td>\n",
              "      <td>Paraphytus</td>\n",
              "      <td>africanus</td>\n",
              "      <td>NaN</td>\n",
              "      <td>NaN</td>\n",
              "      <td>NaN</td>\n",
              "      <td>NaN</td>\n",
              "      <td>Boucomont, 1923</td>\n",
              "      <td>The genus&amp;#160;&lt;span class=\"SpellE\"&gt;&lt;em&gt;Paraph...</td>\n",
              "    </tr>\n",
              "    <tr>\n",
              "      <th>1</th>\n",
              "      <td>137161</td>\n",
              "      <td>Eodrepanus fastiditus</td>\n",
              "      <td>ANIMALIA</td>\n",
              "      <td>ARTHROPODA</td>\n",
              "      <td>COLEOPTERA</td>\n",
              "      <td>INSECTA</td>\n",
              "      <td>SCARABAEIDAE</td>\n",
              "      <td>Eodrepanus</td>\n",
              "      <td>fastiditus</td>\n",
              "      <td>NaN</td>\n",
              "      <td>NaN</td>\n",
              "      <td>NaN</td>\n",
              "      <td>NaN</td>\n",
              "      <td>(Péringuey, 1901)</td>\n",
              "      <td>This species has recently been transferred fro...</td>\n",
              "    </tr>\n",
              "    <tr>\n",
              "      <th>2</th>\n",
              "      <td>137173</td>\n",
              "      <td>Onthophagus lacustris</td>\n",
              "      <td>ANIMALIA</td>\n",
              "      <td>ARTHROPODA</td>\n",
              "      <td>COLEOPTERA</td>\n",
              "      <td>INSECTA</td>\n",
              "      <td>SCARABAEIDAE</td>\n",
              "      <td>Onthophagus</td>\n",
              "      <td>lacustris</td>\n",
              "      <td>NaN</td>\n",
              "      <td>NaN</td>\n",
              "      <td>NaN</td>\n",
              "      <td>NaN</td>\n",
              "      <td>Harold, 1877</td>\n",
              "      <td>&lt;p&gt;&lt;span class=\"SpellE\"&gt;&lt;em&gt;Onthophagus&lt;/em&gt;&lt;s...</td>\n",
              "    </tr>\n",
              "    <tr>\n",
              "      <th>3</th>\n",
              "      <td>137186</td>\n",
              "      <td>Onthophagus pugionatus</td>\n",
              "      <td>ANIMALIA</td>\n",
              "      <td>ARTHROPODA</td>\n",
              "      <td>COLEOPTERA</td>\n",
              "      <td>INSECTA</td>\n",
              "      <td>SCARABAEIDAE</td>\n",
              "      <td>Onthophagus</td>\n",
              "      <td>pugionatus</td>\n",
              "      <td>NaN</td>\n",
              "      <td>NaN</td>\n",
              "      <td>NaN</td>\n",
              "      <td>NaN</td>\n",
              "      <td>Fahraeus, 1857</td>\n",
              "      <td>&lt;p&gt;&lt;em&gt;&lt;span class=\"SpellE\"&gt;Onthophagus&lt;span c...</td>\n",
              "    </tr>\n",
              "    <tr>\n",
              "      <th>4</th>\n",
              "      <td>137281</td>\n",
              "      <td>Pedaria ovata</td>\n",
              "      <td>ANIMALIA</td>\n",
              "      <td>ARTHROPODA</td>\n",
              "      <td>COLEOPTERA</td>\n",
              "      <td>INSECTA</td>\n",
              "      <td>SCARABAEIDAE</td>\n",
              "      <td>Pedaria</td>\n",
              "      <td>ovata</td>\n",
              "      <td>NaN</td>\n",
              "      <td>NaN</td>\n",
              "      <td>NaN</td>\n",
              "      <td>NaN</td>\n",
              "      <td>Boucomont, 1922</td>\n",
              "      <td>NaN</td>\n",
              "    </tr>\n",
              "    <tr>\n",
              "      <th>5</th>\n",
              "      <td>137323</td>\n",
              "      <td>Copris amabilis</td>\n",
              "      <td>ANIMALIA</td>\n",
              "      <td>ARTHROPODA</td>\n",
              "      <td>COLEOPTERA</td>\n",
              "      <td>INSECTA</td>\n",
              "      <td>SCARABAEIDAE</td>\n",
              "      <td>Copris</td>\n",
              "      <td>amabilis</td>\n",
              "      <td>NaN</td>\n",
              "      <td>NaN</td>\n",
              "      <td>NaN</td>\n",
              "      <td>NaN</td>\n",
              "      <td>Kolbe, 1914</td>\n",
              "      <td>&lt;p&gt;The genus&amp;#160;&lt;em&gt;Copris&lt;/em&gt;&amp;#160;shows w...</td>\n",
              "    </tr>\n",
              "    <tr>\n",
              "      <th>6</th>\n",
              "      <td>137327</td>\n",
              "      <td>Pedaria morettoi</td>\n",
              "      <td>ANIMALIA</td>\n",
              "      <td>ARTHROPODA</td>\n",
              "      <td>COLEOPTERA</td>\n",
              "      <td>INSECTA</td>\n",
              "      <td>SCARABAEIDAE</td>\n",
              "      <td>Pedaria</td>\n",
              "      <td>morettoi</td>\n",
              "      <td>NaN</td>\n",
              "      <td>NaN</td>\n",
              "      <td>NaN</td>\n",
              "      <td>NaN</td>\n",
              "      <td>Josso &amp;amp; Prevost, 2003</td>\n",
              "      <td>NaN</td>\n",
              "    </tr>\n",
              "    <tr>\n",
              "      <th>7</th>\n",
              "      <td>137365</td>\n",
              "      <td>Oniticellus pseudoplanatus</td>\n",
              "      <td>ANIMALIA</td>\n",
              "      <td>ARTHROPODA</td>\n",
              "      <td>COLEOPTERA</td>\n",
              "      <td>INSECTA</td>\n",
              "      <td>SCARABAEIDAE</td>\n",
              "      <td>Oniticellus</td>\n",
              "      <td>pseudoplanatus</td>\n",
              "      <td>NaN</td>\n",
              "      <td>NaN</td>\n",
              "      <td>NaN</td>\n",
              "      <td>NaN</td>\n",
              "      <td>Balthasar, 1964</td>\n",
              "      <td>The genus&amp;#160;&lt;em&gt;Oniticellus&lt;/em&gt; Serville 1...</td>\n",
              "    </tr>\n",
              "    <tr>\n",
              "      <th>8</th>\n",
              "      <td>137371</td>\n",
              "      <td>Pedaria spinithorax</td>\n",
              "      <td>ANIMALIA</td>\n",
              "      <td>ARTHROPODA</td>\n",
              "      <td>COLEOPTERA</td>\n",
              "      <td>INSECTA</td>\n",
              "      <td>SCARABAEIDAE</td>\n",
              "      <td>Pedaria</td>\n",
              "      <td>spinithorax</td>\n",
              "      <td>NaN</td>\n",
              "      <td>NaN</td>\n",
              "      <td>NaN</td>\n",
              "      <td>NaN</td>\n",
              "      <td>Paulian &amp;amp; Cambefort &amp;amp; Mauchamp, 1982</td>\n",
              "      <td>NaN</td>\n",
              "    </tr>\n",
              "    <tr>\n",
              "      <th>9</th>\n",
              "      <td>137398</td>\n",
              "      <td>Catharsius pandion</td>\n",
              "      <td>ANIMALIA</td>\n",
              "      <td>ARTHROPODA</td>\n",
              "      <td>COLEOPTERA</td>\n",
              "      <td>INSECTA</td>\n",
              "      <td>SCARABAEIDAE</td>\n",
              "      <td>Catharsius</td>\n",
              "      <td>pandion</td>\n",
              "      <td>NaN</td>\n",
              "      <td>NaN</td>\n",
              "      <td>NaN</td>\n",
              "      <td>NaN</td>\n",
              "      <td>Harold, 1877</td>\n",
              "      <td>The Oriental and Afrotropical genus&amp;#160;&lt;em&gt;C...</td>\n",
              "    </tr>\n",
              "  </tbody>\n",
              "</table>\n",
              "</div>"
            ],
            "text/plain": [
              "   internalTaxonId  ...                                     taxonomicNotes\n",
              "0           137074  ...  The genus&#160;<span class=\"SpellE\"><em>Paraph...\n",
              "1           137161  ...  This species has recently been transferred fro...\n",
              "2           137173  ...  <p><span class=\"SpellE\"><em>Onthophagus</em><s...\n",
              "3           137186  ...  <p><em><span class=\"SpellE\">Onthophagus<span c...\n",
              "4           137281  ...                                                NaN\n",
              "5           137323  ...  <p>The genus&#160;<em>Copris</em>&#160;shows w...\n",
              "6           137327  ...                                                NaN\n",
              "7           137365  ...  The genus&#160;<em>Oniticellus</em> Serville 1...\n",
              "8           137371  ...                                                NaN\n",
              "9           137398  ...  The Oriental and Afrotropical genus&#160;<em>C...\n",
              "\n",
              "[10 rows x 15 columns]"
            ]
          },
          "metadata": {
            "tags": []
          },
          "execution_count": 38
        }
      ]
    },
    {
      "cell_type": "code",
      "metadata": {
        "id": "4lplRmu3nMFN",
        "outputId": "493068e6-4630-4449-8fba-944a71a280e5",
        "colab": {
          "base_uri": "https://localhost:8080/",
          "height": 348
        }
      },
      "source": [
        "print( tax.shape, '\\n')\n",
        "tax.isnull().sum()"
      ],
      "execution_count": null,
      "outputs": [
        {
          "output_type": "stream",
          "text": [
            "(6622, 15) \n",
            "\n"
          ],
          "name": "stdout"
        },
        {
          "output_type": "execute_result",
          "data": {
            "text/plain": [
              "internalTaxonId         0\n",
              "scientificName          0\n",
              "kingdomName             0\n",
              "phylumName              0\n",
              "orderName               0\n",
              "className               0\n",
              "familyName              0\n",
              "genusName               0\n",
              "speciesName             0\n",
              "infraType            6622\n",
              "infraName            6622\n",
              "infraAuthority       6622\n",
              "subpopulationName    6622\n",
              "authority               1\n",
              "taxonomicNotes       4546\n",
              "dtype: int64"
            ]
          },
          "metadata": {
            "tags": []
          },
          "execution_count": 85
        }
      ]
    },
    {
      "cell_type": "code",
      "metadata": {
        "id": "cOrErIYw3AT_",
        "outputId": "07e321ab-d91b-48bb-e3bd-818c9c0f13e6",
        "colab": {
          "base_uri": "https://localhost:8080/",
          "height": 835
        }
      },
      "source": [
        "tax.head(10)"
      ],
      "execution_count": null,
      "outputs": [
        {
          "output_type": "execute_result",
          "data": {
            "text/html": [
              "<div>\n",
              "<style scoped>\n",
              "    .dataframe tbody tr th:only-of-type {\n",
              "        vertical-align: middle;\n",
              "    }\n",
              "\n",
              "    .dataframe tbody tr th {\n",
              "        vertical-align: top;\n",
              "    }\n",
              "\n",
              "    .dataframe thead th {\n",
              "        text-align: right;\n",
              "    }\n",
              "</style>\n",
              "<table border=\"1\" class=\"dataframe\">\n",
              "  <thead>\n",
              "    <tr style=\"text-align: right;\">\n",
              "      <th></th>\n",
              "      <th>internalTaxonId</th>\n",
              "      <th>scientificName</th>\n",
              "      <th>kingdomName</th>\n",
              "      <th>phylumName</th>\n",
              "      <th>orderName</th>\n",
              "      <th>className</th>\n",
              "      <th>familyName</th>\n",
              "      <th>genusName</th>\n",
              "      <th>speciesName</th>\n",
              "      <th>infraType</th>\n",
              "      <th>infraName</th>\n",
              "      <th>infraAuthority</th>\n",
              "      <th>subpopulationName</th>\n",
              "      <th>authority</th>\n",
              "      <th>taxonomicNotes</th>\n",
              "    </tr>\n",
              "  </thead>\n",
              "  <tbody>\n",
              "    <tr>\n",
              "      <th>0</th>\n",
              "      <td>137074</td>\n",
              "      <td>Paraphytus africanus</td>\n",
              "      <td>ANIMALIA</td>\n",
              "      <td>ARTHROPODA</td>\n",
              "      <td>COLEOPTERA</td>\n",
              "      <td>INSECTA</td>\n",
              "      <td>SCARABAEIDAE</td>\n",
              "      <td>Paraphytus</td>\n",
              "      <td>africanus</td>\n",
              "      <td>Unknown</td>\n",
              "      <td>Unknown</td>\n",
              "      <td>Unknown</td>\n",
              "      <td>Unknown</td>\n",
              "      <td>Boucomont, 1923</td>\n",
              "      <td>The genus Paraphytus Harold 1877  is shared be...</td>\n",
              "    </tr>\n",
              "    <tr>\n",
              "      <th>1</th>\n",
              "      <td>137161</td>\n",
              "      <td>Eodrepanus fastiditus</td>\n",
              "      <td>ANIMALIA</td>\n",
              "      <td>ARTHROPODA</td>\n",
              "      <td>COLEOPTERA</td>\n",
              "      <td>INSECTA</td>\n",
              "      <td>SCARABAEIDAE</td>\n",
              "      <td>Eodrepanus</td>\n",
              "      <td>fastiditus</td>\n",
              "      <td>Unknown</td>\n",
              "      <td>Unknown</td>\n",
              "      <td>Unknown</td>\n",
              "      <td>Unknown</td>\n",
              "      <td>Péringuey, 1901</td>\n",
              "      <td>This species has recently been transferred fro...</td>\n",
              "    </tr>\n",
              "    <tr>\n",
              "      <th>2</th>\n",
              "      <td>137173</td>\n",
              "      <td>Onthophagus lacustris</td>\n",
              "      <td>ANIMALIA</td>\n",
              "      <td>ARTHROPODA</td>\n",
              "      <td>COLEOPTERA</td>\n",
              "      <td>INSECTA</td>\n",
              "      <td>SCARABAEIDAE</td>\n",
              "      <td>Onthophagus</td>\n",
              "      <td>lacustris</td>\n",
              "      <td>Unknown</td>\n",
              "      <td>Unknown</td>\n",
              "      <td>Unknown</td>\n",
              "      <td>Unknown</td>\n",
              "      <td>Harold, 1877</td>\n",
              "      <td>Onthophagus Latreille 1802 is the most species...</td>\n",
              "    </tr>\n",
              "    <tr>\n",
              "      <th>3</th>\n",
              "      <td>137186</td>\n",
              "      <td>Onthophagus pugionatus</td>\n",
              "      <td>ANIMALIA</td>\n",
              "      <td>ARTHROPODA</td>\n",
              "      <td>COLEOPTERA</td>\n",
              "      <td>INSECTA</td>\n",
              "      <td>SCARABAEIDAE</td>\n",
              "      <td>Onthophagus</td>\n",
              "      <td>pugionatus</td>\n",
              "      <td>Unknown</td>\n",
              "      <td>Unknown</td>\n",
              "      <td>Unknown</td>\n",
              "      <td>Unknown</td>\n",
              "      <td>Fahraeus, 1857</td>\n",
              "      <td>Onthophagus Latreille 1802  is the most specie...</td>\n",
              "    </tr>\n",
              "    <tr>\n",
              "      <th>4</th>\n",
              "      <td>137281</td>\n",
              "      <td>Pedaria ovata</td>\n",
              "      <td>ANIMALIA</td>\n",
              "      <td>ARTHROPODA</td>\n",
              "      <td>COLEOPTERA</td>\n",
              "      <td>INSECTA</td>\n",
              "      <td>SCARABAEIDAE</td>\n",
              "      <td>Pedaria</td>\n",
              "      <td>ovata</td>\n",
              "      <td>Unknown</td>\n",
              "      <td>Unknown</td>\n",
              "      <td>Unknown</td>\n",
              "      <td>Unknown</td>\n",
              "      <td>Boucomont, 1922</td>\n",
              "      <td>Unknown</td>\n",
              "    </tr>\n",
              "    <tr>\n",
              "      <th>5</th>\n",
              "      <td>137323</td>\n",
              "      <td>Copris amabilis</td>\n",
              "      <td>ANIMALIA</td>\n",
              "      <td>ARTHROPODA</td>\n",
              "      <td>COLEOPTERA</td>\n",
              "      <td>INSECTA</td>\n",
              "      <td>SCARABAEIDAE</td>\n",
              "      <td>Copris</td>\n",
              "      <td>amabilis</td>\n",
              "      <td>Unknown</td>\n",
              "      <td>Unknown</td>\n",
              "      <td>Unknown</td>\n",
              "      <td>Unknown</td>\n",
              "      <td>Kolbe, 1914</td>\n",
              "      <td>The genus Copris shows widespread biogeographi...</td>\n",
              "    </tr>\n",
              "    <tr>\n",
              "      <th>6</th>\n",
              "      <td>137327</td>\n",
              "      <td>Pedaria morettoi</td>\n",
              "      <td>ANIMALIA</td>\n",
              "      <td>ARTHROPODA</td>\n",
              "      <td>COLEOPTERA</td>\n",
              "      <td>INSECTA</td>\n",
              "      <td>SCARABAEIDAE</td>\n",
              "      <td>Pedaria</td>\n",
              "      <td>morettoi</td>\n",
              "      <td>Unknown</td>\n",
              "      <td>Unknown</td>\n",
              "      <td>Unknown</td>\n",
              "      <td>Unknown</td>\n",
              "      <td>Josso &amp; Prevost, 2003</td>\n",
              "      <td>Unknown</td>\n",
              "    </tr>\n",
              "    <tr>\n",
              "      <th>7</th>\n",
              "      <td>137365</td>\n",
              "      <td>Oniticellus pseudoplanatus</td>\n",
              "      <td>ANIMALIA</td>\n",
              "      <td>ARTHROPODA</td>\n",
              "      <td>COLEOPTERA</td>\n",
              "      <td>INSECTA</td>\n",
              "      <td>SCARABAEIDAE</td>\n",
              "      <td>Oniticellus</td>\n",
              "      <td>pseudoplanatus</td>\n",
              "      <td>Unknown</td>\n",
              "      <td>Unknown</td>\n",
              "      <td>Unknown</td>\n",
              "      <td>Unknown</td>\n",
              "      <td>Balthasar, 1964</td>\n",
              "      <td>The genus Oniticellus Serville 1828 occurs in ...</td>\n",
              "    </tr>\n",
              "    <tr>\n",
              "      <th>8</th>\n",
              "      <td>137371</td>\n",
              "      <td>Pedaria spinithorax</td>\n",
              "      <td>ANIMALIA</td>\n",
              "      <td>ARTHROPODA</td>\n",
              "      <td>COLEOPTERA</td>\n",
              "      <td>INSECTA</td>\n",
              "      <td>SCARABAEIDAE</td>\n",
              "      <td>Pedaria</td>\n",
              "      <td>spinithorax</td>\n",
              "      <td>Unknown</td>\n",
              "      <td>Unknown</td>\n",
              "      <td>Unknown</td>\n",
              "      <td>Unknown</td>\n",
              "      <td>Paulian &amp; Cambefort &amp; Mauchamp, 1982</td>\n",
              "      <td>Unknown</td>\n",
              "    </tr>\n",
              "    <tr>\n",
              "      <th>9</th>\n",
              "      <td>137398</td>\n",
              "      <td>Catharsius pandion</td>\n",
              "      <td>ANIMALIA</td>\n",
              "      <td>ARTHROPODA</td>\n",
              "      <td>COLEOPTERA</td>\n",
              "      <td>INSECTA</td>\n",
              "      <td>SCARABAEIDAE</td>\n",
              "      <td>Catharsius</td>\n",
              "      <td>pandion</td>\n",
              "      <td>Unknown</td>\n",
              "      <td>Unknown</td>\n",
              "      <td>Unknown</td>\n",
              "      <td>Unknown</td>\n",
              "      <td>Harold, 1877</td>\n",
              "      <td>The Oriental and Afrotropical genus Catharsius...</td>\n",
              "    </tr>\n",
              "  </tbody>\n",
              "</table>\n",
              "</div>"
            ],
            "text/plain": [
              "   internalTaxonId  ...                                     taxonomicNotes\n",
              "0           137074  ...  The genus Paraphytus Harold 1877  is shared be...\n",
              "1           137161  ...  This species has recently been transferred fro...\n",
              "2           137173  ...  Onthophagus Latreille 1802 is the most species...\n",
              "3           137186  ...  Onthophagus Latreille 1802  is the most specie...\n",
              "4           137281  ...                                            Unknown\n",
              "5           137323  ...  The genus Copris shows widespread biogeographi...\n",
              "6           137327  ...                                            Unknown\n",
              "7           137365  ...  The genus Oniticellus Serville 1828 occurs in ...\n",
              "8           137371  ...                                            Unknown\n",
              "9           137398  ...  The Oriental and Afrotropical genus Catharsius...\n",
              "\n",
              "[10 rows x 15 columns]"
            ]
          },
          "metadata": {
            "tags": []
          },
          "execution_count": 56
        }
      ]
    },
    {
      "cell_type": "markdown",
      "metadata": {
        "id": "1ak-2-ts2_rX"
      },
      "source": [
        "#### CONSERVATION NEEDED dataset (COMPLETE)"
      ]
    },
    {
      "cell_type": "code",
      "metadata": {
        "id": "c8YCr4NqRH3T",
        "outputId": "34cc5aa7-65a9-4aa0-a2cb-fa9deb21a788",
        "colab": {
          "base_uri": "https://localhost:8080/",
          "height": 143
        }
      },
      "source": [
        "cons.sample(3)"
      ],
      "execution_count": null,
      "outputs": [
        {
          "output_type": "execute_result",
          "data": {
            "text/html": [
              "<div>\n",
              "<style scoped>\n",
              "    .dataframe tbody tr th:only-of-type {\n",
              "        vertical-align: middle;\n",
              "    }\n",
              "\n",
              "    .dataframe tbody tr th {\n",
              "        vertical-align: top;\n",
              "    }\n",
              "\n",
              "    .dataframe thead th {\n",
              "        text-align: right;\n",
              "    }\n",
              "</style>\n",
              "<table border=\"1\" class=\"dataframe\">\n",
              "  <thead>\n",
              "    <tr style=\"text-align: right;\">\n",
              "      <th></th>\n",
              "      <th>assessmentId</th>\n",
              "      <th>internalTaxonId</th>\n",
              "      <th>scientificName</th>\n",
              "      <th>code</th>\n",
              "      <th>name</th>\n",
              "      <th>note</th>\n",
              "    </tr>\n",
              "  </thead>\n",
              "  <tbody>\n",
              "    <tr>\n",
              "      <th>2354</th>\n",
              "      <td>87739912</td>\n",
              "      <td>87584293</td>\n",
              "      <td>Bulbophyllum blepharochilum</td>\n",
              "      <td>3.4.1</td>\n",
              "      <td>Captive breeding/artificial propagation</td>\n",
              "      <td>N/A</td>\n",
              "    </tr>\n",
              "    <tr>\n",
              "      <th>1287</th>\n",
              "      <td>16937505</td>\n",
              "      <td>56093</td>\n",
              "      <td>Chrysobatrachus cupreonitens</td>\n",
              "      <td>1.2</td>\n",
              "      <td>Resource &amp; habitat protection</td>\n",
              "      <td>N/A</td>\n",
              "    </tr>\n",
              "    <tr>\n",
              "      <th>464</th>\n",
              "      <td>3238276</td>\n",
              "      <td>11003</td>\n",
              "      <td>Kinixys homeana</td>\n",
              "      <td>5.1.2</td>\n",
              "      <td>National level</td>\n",
              "      <td>N/A</td>\n",
              "    </tr>\n",
              "  </tbody>\n",
              "</table>\n",
              "</div>"
            ],
            "text/plain": [
              "      assessmentId  ...  note\n",
              "2354      87739912  ...   N/A\n",
              "1287      16937505  ...   N/A\n",
              "464        3238276  ...   N/A\n",
              "\n",
              "[3 rows x 6 columns]"
            ]
          },
          "metadata": {
            "tags": []
          },
          "execution_count": 115
        }
      ]
    },
    {
      "cell_type": "code",
      "metadata": {
        "id": "A8D7V8tTnXn8",
        "outputId": "3c8ba5a5-61d7-4230-e96a-6e58715a1597",
        "colab": {
          "base_uri": "https://localhost:8080/",
          "height": 182
        }
      },
      "source": [
        "print( cons.shape, '\\n')\n",
        "cons.isnull().sum()"
      ],
      "execution_count": null,
      "outputs": [
        {
          "output_type": "stream",
          "text": [
            "(4075, 6) \n",
            "\n"
          ],
          "name": "stdout"
        },
        {
          "output_type": "execute_result",
          "data": {
            "text/plain": [
              "assessmentId          0\n",
              "internalTaxonId       0\n",
              "scientificName        0\n",
              "code                  0\n",
              "name                  0\n",
              "note               3436\n",
              "dtype: int64"
            ]
          },
          "metadata": {
            "tags": []
          },
          "execution_count": 86
        }
      ]
    },
    {
      "cell_type": "code",
      "metadata": {
        "id": "_QPQDKXA3KiY",
        "outputId": "99d9b2b9-e965-450b-e068-9dcf9580ef2b",
        "colab": {
          "base_uri": "https://localhost:8080/",
          "height": 206
        }
      },
      "source": [
        "cons.head()"
      ],
      "execution_count": null,
      "outputs": [
        {
          "output_type": "execute_result",
          "data": {
            "text/html": [
              "<div>\n",
              "<style scoped>\n",
              "    .dataframe tbody tr th:only-of-type {\n",
              "        vertical-align: middle;\n",
              "    }\n",
              "\n",
              "    .dataframe tbody tr th {\n",
              "        vertical-align: top;\n",
              "    }\n",
              "\n",
              "    .dataframe thead th {\n",
              "        text-align: right;\n",
              "    }\n",
              "</style>\n",
              "<table border=\"1\" class=\"dataframe\">\n",
              "  <thead>\n",
              "    <tr style=\"text-align: right;\">\n",
              "      <th></th>\n",
              "      <th>assessmentId</th>\n",
              "      <th>internalTaxonId</th>\n",
              "      <th>scientificName</th>\n",
              "      <th>code</th>\n",
              "      <th>name</th>\n",
              "      <th>note</th>\n",
              "    </tr>\n",
              "  </thead>\n",
              "  <tbody>\n",
              "    <tr>\n",
              "      <th>0</th>\n",
              "      <td>521021</td>\n",
              "      <td>137173</td>\n",
              "      <td>Onthophagus lacustris</td>\n",
              "      <td>1.1</td>\n",
              "      <td>Site/area protection</td>\n",
              "      <td>N/A</td>\n",
              "    </tr>\n",
              "    <tr>\n",
              "      <th>1</th>\n",
              "      <td>523970</td>\n",
              "      <td>137365</td>\n",
              "      <td>Oniticellus pseudoplanatus</td>\n",
              "      <td>1.1</td>\n",
              "      <td>Site/area protection</td>\n",
              "      <td>N/A</td>\n",
              "    </tr>\n",
              "    <tr>\n",
              "      <th>2</th>\n",
              "      <td>525429</td>\n",
              "      <td>137459</td>\n",
              "      <td>Onitis nemoralis</td>\n",
              "      <td>1.2</td>\n",
              "      <td>Resource &amp; habitat protection</td>\n",
              "      <td>N/A</td>\n",
              "    </tr>\n",
              "    <tr>\n",
              "      <th>3</th>\n",
              "      <td>525429</td>\n",
              "      <td>137459</td>\n",
              "      <td>Onitis nemoralis</td>\n",
              "      <td>1.1</td>\n",
              "      <td>Site/area protection</td>\n",
              "      <td>N/A</td>\n",
              "    </tr>\n",
              "    <tr>\n",
              "      <th>4</th>\n",
              "      <td>538982</td>\n",
              "      <td>138275</td>\n",
              "      <td>Copris complexus</td>\n",
              "      <td>1.1</td>\n",
              "      <td>Site/area protection</td>\n",
              "      <td>N/A</td>\n",
              "    </tr>\n",
              "  </tbody>\n",
              "</table>\n",
              "</div>"
            ],
            "text/plain": [
              "   assessmentId  internalTaxonId  ...                           name note\n",
              "0        521021           137173  ...           Site/area protection  N/A\n",
              "1        523970           137365  ...           Site/area protection  N/A\n",
              "2        525429           137459  ...  Resource & habitat protection  N/A\n",
              "3        525429           137459  ...           Site/area protection  N/A\n",
              "4        538982           138275  ...           Site/area protection  N/A\n",
              "\n",
              "[5 rows x 6 columns]"
            ]
          },
          "metadata": {
            "tags": []
          },
          "execution_count": 62
        }
      ]
    },
    {
      "cell_type": "code",
      "metadata": {
        "id": "1Va29FN-GWaL",
        "outputId": "17edfbae-4778-40b2-fc22-5f3d90929865",
        "colab": {
          "base_uri": "https://localhost:8080/",
          "height": 257
        }
      },
      "source": [
        "cons.note.value_counts()"
      ],
      "execution_count": null,
      "outputs": [
        {
          "output_type": "execute_result",
          "data": {
            "text/plain": [
              "N/A                                                                                                                                                                                                               3630\n",
              "See Botha et al. (2017).                                                                                                                                                                                            17\n",
              "Compliance with CITES and its adopted provisions, including Res. Conf. 17.10 on conservation of and trade in pangolins.                                                                                              8\n",
              "Collar and Butchart (2013) suggested that captive breeding should be considered.                                                                                                                                     5\n",
              "With appropriate authorities, including protected area management, wildlife, CITES, and customs agencies.                                                                                                            4\n",
              "                                                                                                                                                                                                                  ... \n",
              "Regulate access to sites during the breeding season including community led control.                                                                                                                                 1\n",
              "Effectively reduce risks of poisoning through strict enforcement of poison-bait ban.                                                                                                                                 1\n",
              "Attempt to decrease poisoning as much as possible.  There should be stricter enforcement on the sale of toxic substances and legislation for severe penalties for those who do commit such poisoning offences.       1\n",
              "Additional protected areas would benefit this species across its range.                                                                                                                                              1\n",
              "Manage habitats to provide mixture of short and tall grass.                                                                                                                                                          1\n",
              "Name: note, Length: 387, dtype: int64"
            ]
          },
          "metadata": {
            "tags": []
          },
          "execution_count": 122
        }
      ]
    },
    {
      "cell_type": "markdown",
      "metadata": {
        "id": "UhWbwid21gJa"
      },
      "source": [
        "#### COUNTRIES dataset (COMPLETE)"
      ]
    },
    {
      "cell_type": "code",
      "metadata": {
        "id": "8lFdDLp997-j",
        "outputId": "fa0f06bb-57d3-42dc-e66c-3c1b356faafa",
        "colab": {
          "base_uri": "https://localhost:8080/",
          "height": 35
        }
      },
      "source": [
        "countries.shape, countriesNew.shape"
      ],
      "execution_count": null,
      "outputs": [
        {
          "output_type": "execute_result",
          "data": {
            "text/plain": [
              "((94440, 9), (17187, 9))"
            ]
          },
          "metadata": {
            "tags": []
          },
          "execution_count": 65
        }
      ]
    },
    {
      "cell_type": "code",
      "metadata": {
        "id": "SkoIZbtyqawD",
        "outputId": "026f2fcf-3cd0-4463-bb3a-3db896ecfc33",
        "colab": {
          "base_uri": "https://localhost:8080/"
        }
      },
      "source": [
        "countries.code.value_counts().head(10)"
      ],
      "execution_count": null,
      "outputs": [
        {
          "output_type": "execute_result",
          "data": {
            "text/plain": [
              "CD    4861\n",
              "CM    3811\n",
              "NG    2674\n",
              "GA    2408\n",
              "CG    2375\n",
              "TZ    2369\n",
              "UG    2363\n",
              "AO    2345\n",
              "CF    2119\n",
              "ZM    2090\n",
              "Name: code, dtype: int64"
            ]
          },
          "metadata": {
            "tags": []
          },
          "execution_count": 21
        }
      ]
    },
    {
      "cell_type": "code",
      "metadata": {
        "id": "AanZHuoguAj7"
      },
      "source": [
        "# new subframe of all observations where country code = CRB rainforest countries\n",
        "\n",
        "countries = countries[ countries.code.eq( 'GA') |\n",
        "                       countries.code.eq( 'CD') |\n",
        "                       countries.code.eq( 'CF') |\n",
        "                       countries.code.eq( 'CM') |\n",
        "                       countries.code.eq( 'CG') |\n",
        "                       countries.code.eq( 'GQ')\n",
        "                      ].copy()"
      ],
      "execution_count": null,
      "outputs": []
    },
    {
      "cell_type": "code",
      "metadata": {
        "id": "Ldjqo_gKvfBt",
        "outputId": "ae5d2a3c-cade-447d-a1cd-3475dfebf88f",
        "colab": {
          "base_uri": "https://localhost:8080/"
        }
      },
      "source": [
        "countriesNew.sample(3)"
      ],
      "execution_count": null,
      "outputs": [
        {
          "output_type": "execute_result",
          "data": {
            "text/html": [
              "<div>\n",
              "<style scoped>\n",
              "    .dataframe tbody tr th:only-of-type {\n",
              "        vertical-align: middle;\n",
              "    }\n",
              "\n",
              "    .dataframe tbody tr th {\n",
              "        vertical-align: top;\n",
              "    }\n",
              "\n",
              "    .dataframe thead th {\n",
              "        text-align: right;\n",
              "    }\n",
              "</style>\n",
              "<table border=\"1\" class=\"dataframe\">\n",
              "  <thead>\n",
              "    <tr style=\"text-align: right;\">\n",
              "      <th></th>\n",
              "      <th>assessmentId</th>\n",
              "      <th>internalTaxonId</th>\n",
              "      <th>scientificName</th>\n",
              "      <th>code</th>\n",
              "      <th>name</th>\n",
              "      <th>presence</th>\n",
              "      <th>origin</th>\n",
              "      <th>seasonality</th>\n",
              "      <th>formerlyBred</th>\n",
              "    </tr>\n",
              "  </thead>\n",
              "  <tbody>\n",
              "    <tr>\n",
              "      <th>56128</th>\n",
              "      <td>126396981</td>\n",
              "      <td>182233</td>\n",
              "      <td>Enteromius jae</td>\n",
              "      <td>CD</td>\n",
              "      <td>Congo, The Democratic Republic of the</td>\n",
              "      <td>Extant</td>\n",
              "      <td>Native</td>\n",
              "      <td>[\"Resident\"]</td>\n",
              "      <td>NaN</td>\n",
              "    </tr>\n",
              "    <tr>\n",
              "      <th>4938</th>\n",
              "      <td>6625764</td>\n",
              "      <td>169431</td>\n",
              "      <td>Schilbe nyongensis</td>\n",
              "      <td>CM</td>\n",
              "      <td>Cameroon</td>\n",
              "      <td>Extant</td>\n",
              "      <td>Native</td>\n",
              "      <td>[\"Resident\"]</td>\n",
              "      <td>NaN</td>\n",
              "    </tr>\n",
              "    <tr>\n",
              "      <th>64471</th>\n",
              "      <td>131970716</td>\n",
              "      <td>22715182</td>\n",
              "      <td>Hylia prasina</td>\n",
              "      <td>CG</td>\n",
              "      <td>Congo</td>\n",
              "      <td>Extant</td>\n",
              "      <td>Native</td>\n",
              "      <td>[\"Resident\"]</td>\n",
              "      <td>Unknown</td>\n",
              "    </tr>\n",
              "  </tbody>\n",
              "</table>\n",
              "</div>"
            ],
            "text/plain": [
              "       assessmentId  internalTaxonId  ...   seasonality formerlyBred\n",
              "56128     126396981           182233  ...  [\"Resident\"]          NaN\n",
              "4938        6625764           169431  ...  [\"Resident\"]          NaN\n",
              "64471     131970716         22715182  ...  [\"Resident\"]      Unknown\n",
              "\n",
              "[3 rows x 9 columns]"
            ]
          },
          "metadata": {
            "tags": []
          },
          "execution_count": 4
        }
      ]
    },
    {
      "cell_type": "code",
      "metadata": {
        "id": "-DjK2cqufxZ0",
        "outputId": "22d92857-38b0-4b8f-9067-c55b4affc01e",
        "colab": {
          "base_uri": "https://localhost:8080/"
        }
      },
      "source": [
        "countriesNew.presence.value_counts()"
      ],
      "execution_count": null,
      "outputs": [
        {
          "output_type": "execute_result",
          "data": {
            "text/plain": [
              "Extant                16599\n",
              "Presence Uncertain      500\n",
              "Possibly Extant          42\n",
              "Possibly Extinct         39\n",
              "Extinct Post-1500         7\n",
              "Name: presence, dtype: int64"
            ]
          },
          "metadata": {
            "tags": []
          },
          "execution_count": 9
        }
      ]
    },
    {
      "cell_type": "markdown",
      "metadata": {
        "id": "0r_DFnVRW247"
      },
      "source": [
        "#### HABITATS dataset (COMPLETE)"
      ]
    },
    {
      "cell_type": "code",
      "metadata": {
        "id": "Z48Ayw2bEd6J",
        "outputId": "c3ece968-9feb-4790-a3a9-224238d84369",
        "colab": {
          "base_uri": "https://localhost:8080/",
          "height": 35
        }
      },
      "source": [
        "habitats.shape"
      ],
      "execution_count": null,
      "outputs": [
        {
          "output_type": "execute_result",
          "data": {
            "text/plain": [
              "(25356, 8)"
            ]
          },
          "metadata": {
            "tags": []
          },
          "execution_count": 91
        }
      ]
    },
    {
      "cell_type": "code",
      "metadata": {
        "id": "A8EFPtVyRHSx",
        "outputId": "464faa39-99a8-4253-ee2e-4b1988560f40",
        "colab": {
          "base_uri": "https://localhost:8080/",
          "height": 143
        }
      },
      "source": [
        "# 107 different habitats? That doesn't sound right...\n",
        "\n",
        "habitats.sample(3)"
      ],
      "execution_count": null,
      "outputs": [
        {
          "output_type": "execute_result",
          "data": {
            "text/html": [
              "<div>\n",
              "<style scoped>\n",
              "    .dataframe tbody tr th:only-of-type {\n",
              "        vertical-align: middle;\n",
              "    }\n",
              "\n",
              "    .dataframe tbody tr th {\n",
              "        vertical-align: top;\n",
              "    }\n",
              "\n",
              "    .dataframe thead th {\n",
              "        text-align: right;\n",
              "    }\n",
              "</style>\n",
              "<table border=\"1\" class=\"dataframe\">\n",
              "  <thead>\n",
              "    <tr style=\"text-align: right;\">\n",
              "      <th></th>\n",
              "      <th>assessmentId</th>\n",
              "      <th>internalTaxonId</th>\n",
              "      <th>scientificName</th>\n",
              "      <th>code</th>\n",
              "      <th>name</th>\n",
              "      <th>majorImportance</th>\n",
              "      <th>season</th>\n",
              "      <th>suitability</th>\n",
              "    </tr>\n",
              "  </thead>\n",
              "  <tbody>\n",
              "    <tr>\n",
              "      <th>1337</th>\n",
              "      <td>5388139</td>\n",
              "      <td>161112</td>\n",
              "      <td>Belenois theuszi</td>\n",
              "      <td>1.6</td>\n",
              "      <td>Forest - Subtropical/Tropical Moist Lowland</td>\n",
              "      <td>Yes</td>\n",
              "      <td>NaN</td>\n",
              "      <td>Suitable</td>\n",
              "    </tr>\n",
              "    <tr>\n",
              "      <th>9188</th>\n",
              "      <td>22126384</td>\n",
              "      <td>13402</td>\n",
              "      <td>Micropteropus pusillus</td>\n",
              "      <td>1.8</td>\n",
              "      <td>Forest - Subtropical/Tropical Swamp</td>\n",
              "      <td>NaN</td>\n",
              "      <td>NaN</td>\n",
              "      <td>Suitable</td>\n",
              "    </tr>\n",
              "    <tr>\n",
              "      <th>14</th>\n",
              "      <td>524520</td>\n",
              "      <td>137398</td>\n",
              "      <td>Catharsius pandion</td>\n",
              "      <td>1.5</td>\n",
              "      <td>Forest - Subtropical/Tropical Dry</td>\n",
              "      <td>NaN</td>\n",
              "      <td>resident</td>\n",
              "      <td>Unknown</td>\n",
              "    </tr>\n",
              "  </tbody>\n",
              "</table>\n",
              "</div>"
            ],
            "text/plain": [
              "      assessmentId  internalTaxonId  ...    season suitability\n",
              "1337       5388139           161112  ...       NaN    Suitable\n",
              "9188      22126384            13402  ...       NaN    Suitable\n",
              "14          524520           137398  ...  resident     Unknown\n",
              "\n",
              "[3 rows x 8 columns]"
            ]
          },
          "metadata": {
            "tags": []
          },
          "execution_count": 107
        }
      ]
    },
    {
      "cell_type": "code",
      "metadata": {
        "id": "3sz_1_CWVTDq",
        "outputId": "52d3f2af-2fce-4271-cc06-8999b2277921",
        "colab": {
          "base_uri": "https://localhost:8080/",
          "height": 72
        }
      },
      "source": [
        "habitats.majorImportance.value_counts()"
      ],
      "execution_count": null,
      "outputs": [
        {
          "output_type": "execute_result",
          "data": {
            "text/plain": [
              "No     6827\n",
              "Yes    4812\n",
              "Name: majorImportance, dtype: int64"
            ]
          },
          "metadata": {
            "tags": []
          },
          "execution_count": 151
        }
      ]
    },
    {
      "cell_type": "code",
      "metadata": {
        "id": "DDlqreuoRHV5",
        "outputId": "5b29c00e-889d-4baf-bc47-e2b8262b6bcf",
        "colab": {
          "base_uri": "https://localhost:8080/",
          "height": 35
        }
      },
      "source": [
        "len( habitats.code.value_counts())"
      ],
      "execution_count": null,
      "outputs": [
        {
          "output_type": "execute_result",
          "data": {
            "text/plain": [
              "107"
            ]
          },
          "metadata": {
            "tags": []
          },
          "execution_count": 105
        }
      ]
    },
    {
      "cell_type": "code",
      "metadata": {
        "id": "a93j9Ta8VDtv"
      },
      "source": [
        "habitats = habitats[ habitats.code.eq( '1.5') | \n",
        "                     habitats.code.eq( '1.6') |\n",
        "                     habitats.code.eq( '1.7') |\n",
        "                     habitats.code.eq( '1.8') |\n",
        "                     habitats.code.eq( '1.9') |\n",
        "                     habitats.code.eq( '5.1') |\n",
        "                     habitats.code.eq( '5.2') |\n",
        "                     habitats.code.eq( '5.3') |\n",
        "                     habitats.code.eq( '5.4') |\n",
        "                     habitats.code.eq( '5.5') |\n",
        "                     habitats.code.eq( '5.6') |\n",
        "                     habitats.code.eq( '5.7') |\n",
        "                     habitats.code.eq( '5.8') |\n",
        "                     habitats.code.eq( '5.9') |\n",
        "                     habitats.code.eq( '14.6')\n",
        "                     ].copy()\n",
        "\n",
        "habitats.code = habitats.code.astype( float)      # wanted to do this before culling, but if it works..."
      ],
      "execution_count": null,
      "outputs": []
    },
    {
      "cell_type": "code",
      "metadata": {
        "id": "orn_CpkIVDld",
        "outputId": "d933c14c-12b8-43f7-bb24-805db5f661a3",
        "colab": {
          "base_uri": "https://localhost:8080/",
          "height": 35
        }
      },
      "source": [
        "habitats.shape"
      ],
      "execution_count": null,
      "outputs": [
        {
          "output_type": "execute_result",
          "data": {
            "text/plain": [
              "(16317, 8)"
            ]
          },
          "metadata": {
            "tags": []
          },
          "execution_count": 94
        }
      ]
    },
    {
      "cell_type": "code",
      "metadata": {
        "id": "YQDvmmUN2OKH",
        "outputId": "37308d99-2aed-4f9b-c1e9-f15ec5bcec6c",
        "colab": {
          "base_uri": "https://localhost:8080/",
          "height": 81
        }
      },
      "source": [
        "habitats.sample()"
      ],
      "execution_count": null,
      "outputs": [
        {
          "output_type": "execute_result",
          "data": {
            "text/html": [
              "<div>\n",
              "<style scoped>\n",
              "    .dataframe tbody tr th:only-of-type {\n",
              "        vertical-align: middle;\n",
              "    }\n",
              "\n",
              "    .dataframe tbody tr th {\n",
              "        vertical-align: top;\n",
              "    }\n",
              "\n",
              "    .dataframe thead th {\n",
              "        text-align: right;\n",
              "    }\n",
              "</style>\n",
              "<table border=\"1\" class=\"dataframe\">\n",
              "  <thead>\n",
              "    <tr style=\"text-align: right;\">\n",
              "      <th></th>\n",
              "      <th>assessmentId</th>\n",
              "      <th>internalTaxonId</th>\n",
              "      <th>scientificName</th>\n",
              "      <th>code</th>\n",
              "      <th>name</th>\n",
              "      <th>majorImportance</th>\n",
              "      <th>season</th>\n",
              "      <th>suitability</th>\n",
              "    </tr>\n",
              "  </thead>\n",
              "  <tbody>\n",
              "    <tr>\n",
              "      <th>19558</th>\n",
              "      <td>120110597</td>\n",
              "      <td>165786</td>\n",
              "      <td>Eupera ferruginea</td>\n",
              "      <td>5.3</td>\n",
              "      <td>Wetlands (inland) - Shrub Dominated Wetlands</td>\n",
              "      <td>NaN</td>\n",
              "      <td>NaN</td>\n",
              "      <td>Suitable</td>\n",
              "    </tr>\n",
              "  </tbody>\n",
              "</table>\n",
              "</div>"
            ],
            "text/plain": [
              "       assessmentId  internalTaxonId  ... season  suitability\n",
              "19558     120110597           165786  ...    NaN     Suitable\n",
              "\n",
              "[1 rows x 8 columns]"
            ]
          },
          "metadata": {
            "tags": []
          },
          "execution_count": 88
        }
      ]
    },
    {
      "cell_type": "code",
      "metadata": {
        "id": "DuMmenCGVDhj",
        "outputId": "6c3a560a-edaa-4565-bd89-c404e9ee1896",
        "colab": {
          "base_uri": "https://localhost:8080/",
          "height": 348
        }
      },
      "source": [
        "print( len( habitats.code.value_counts()), '\\n')\n",
        "habitats.code.value_counts()"
      ],
      "execution_count": null,
      "outputs": [
        {
          "output_type": "stream",
          "text": [
            "15 \n",
            "\n"
          ],
          "name": "stdout"
        },
        {
          "output_type": "execute_result",
          "data": {
            "text/plain": [
              "1.6     3117\n",
              "5.1     2611\n",
              "5.7     1510\n",
              "5.8     1397\n",
              "5.5     1291\n",
              "5.2     1243\n",
              "1.9     1242\n",
              "5.4     1238\n",
              "1.5      764\n",
              "5.6      626\n",
              "14.6     396\n",
              "1.8      365\n",
              "1.7      192\n",
              "5.3      169\n",
              "5.9      156\n",
              "Name: code, dtype: int64"
            ]
          },
          "metadata": {
            "tags": []
          },
          "execution_count": 139
        }
      ]
    },
    {
      "cell_type": "code",
      "metadata": {
        "id": "OjEgQAb_RHP8",
        "outputId": "c47a9f6a-10eb-46b5-e90f-56af6952e3ce",
        "colab": {
          "base_uri": "https://localhost:8080/",
          "height": 568
        }
      },
      "source": [
        "print( habitats.isnull().sum(), '\\n\\n',\n",
        "       habitats.majorImportance.value_counts(), '\\n\\n', \n",
        "       habitats.season.value_counts(), '\\n\\n', \n",
        "       habitats.suitability.value_counts(), sep= ''\n",
        ")"
      ],
      "execution_count": null,
      "outputs": [
        {
          "output_type": "stream",
          "text": [
            "assessmentId           0\n",
            "internalTaxonId        0\n",
            "scientificName         0\n",
            "code                   0\n",
            "name                   0\n",
            "majorImportance    10424\n",
            "season             11380\n",
            "suitability           50\n",
            "dtype: int64\n",
            "\n",
            "Yes    3372\n",
            "No     2521\n",
            "Name: majorImportance, dtype: int64\n",
            "\n",
            "resident                       2859\n",
            "Resident                        789\n",
            "breeding                        477\n",
            "non-breeding                    464\n",
            "Non-Breeding Season             159\n",
            "Breeding Season                 153\n",
            "unknown                          15\n",
            "passage                          10\n",
            "Passage                           9\n",
            "Seasonal Occurrence Unknown       2\n",
            "Name: season, dtype: int64\n",
            "\n",
            "Suitable    14575\n",
            "Marginal     1133\n",
            "Unknown       559\n",
            "Name: suitability, dtype: int64\n"
          ],
          "name": "stdout"
        }
      ]
    },
    {
      "cell_type": "markdown",
      "metadata": {
        "id": "0GgHfLLN5QtD"
      },
      "source": [
        "#### LME dataset (DEPRECATED)"
      ]
    },
    {
      "cell_type": "code",
      "metadata": {
        "id": "DVsihpJxg95C",
        "outputId": "aaee49fd-f188-4418-f569-61aa6919e09b",
        "colab": {
          "base_uri": "https://localhost:8080/",
          "height": 206
        }
      },
      "source": [
        "lme.head(5)"
      ],
      "execution_count": null,
      "outputs": [
        {
          "output_type": "execute_result",
          "data": {
            "text/html": [
              "<div>\n",
              "<style scoped>\n",
              "    .dataframe tbody tr th:only-of-type {\n",
              "        vertical-align: middle;\n",
              "    }\n",
              "\n",
              "    .dataframe tbody tr th {\n",
              "        vertical-align: top;\n",
              "    }\n",
              "\n",
              "    .dataframe thead th {\n",
              "        text-align: right;\n",
              "    }\n",
              "</style>\n",
              "<table border=\"1\" class=\"dataframe\">\n",
              "  <thead>\n",
              "    <tr style=\"text-align: right;\">\n",
              "      <th></th>\n",
              "      <th>assessmentId</th>\n",
              "      <th>internalTaxonId</th>\n",
              "      <th>scientificName</th>\n",
              "      <th>code</th>\n",
              "      <th>name</th>\n",
              "      <th>formerlyBred</th>\n",
              "      <th>origin</th>\n",
              "      <th>presence</th>\n",
              "      <th>seasonality</th>\n",
              "    </tr>\n",
              "  </thead>\n",
              "  <tbody>\n",
              "    <tr>\n",
              "      <th>0</th>\n",
              "      <td>97003721</td>\n",
              "      <td>168000</td>\n",
              "      <td>Enneacampus kaupi</td>\n",
              "      <td>2.1.4</td>\n",
              "      <td>Benguela Current</td>\n",
              "      <td>NaN</td>\n",
              "      <td>Native</td>\n",
              "      <td>Extant</td>\n",
              "      <td>Resident</td>\n",
              "    </tr>\n",
              "    <tr>\n",
              "      <th>1</th>\n",
              "      <td>97003721</td>\n",
              "      <td>168000</td>\n",
              "      <td>Enneacampus kaupi</td>\n",
              "      <td>2.1.3</td>\n",
              "      <td>Guinea Current</td>\n",
              "      <td>NaN</td>\n",
              "      <td>Native</td>\n",
              "      <td>Extant</td>\n",
              "      <td>Resident</td>\n",
              "    </tr>\n",
              "    <tr>\n",
              "      <th>2</th>\n",
              "      <td>123792572</td>\n",
              "      <td>20425</td>\n",
              "      <td>Sousa teuszii</td>\n",
              "      <td>2.1.4</td>\n",
              "      <td>Benguela Current</td>\n",
              "      <td>NaN</td>\n",
              "      <td>Native</td>\n",
              "      <td>Extant</td>\n",
              "      <td>NaN</td>\n",
              "    </tr>\n",
              "    <tr>\n",
              "      <th>3</th>\n",
              "      <td>123792572</td>\n",
              "      <td>20425</td>\n",
              "      <td>Sousa teuszii</td>\n",
              "      <td>2.1.3</td>\n",
              "      <td>Guinea Current</td>\n",
              "      <td>NaN</td>\n",
              "      <td>Native</td>\n",
              "      <td>Extant</td>\n",
              "      <td>NaN</td>\n",
              "    </tr>\n",
              "    <tr>\n",
              "      <th>4</th>\n",
              "      <td>123792572</td>\n",
              "      <td>20425</td>\n",
              "      <td>Sousa teuszii</td>\n",
              "      <td>2.1.2</td>\n",
              "      <td>Canary Current</td>\n",
              "      <td>NaN</td>\n",
              "      <td>Native</td>\n",
              "      <td>Extant</td>\n",
              "      <td>NaN</td>\n",
              "    </tr>\n",
              "  </tbody>\n",
              "</table>\n",
              "</div>"
            ],
            "text/plain": [
              "   assessmentId  internalTaxonId  ... presence seasonality\n",
              "0      97003721           168000  ...   Extant    Resident\n",
              "1      97003721           168000  ...   Extant    Resident\n",
              "2     123792572            20425  ...   Extant         NaN\n",
              "3     123792572            20425  ...   Extant         NaN\n",
              "4     123792572            20425  ...   Extant         NaN\n",
              "\n",
              "[5 rows x 9 columns]"
            ]
          },
          "metadata": {
            "tags": []
          },
          "execution_count": 68
        }
      ]
    },
    {
      "cell_type": "code",
      "metadata": {
        "id": "0m3ydSG4DNzp",
        "outputId": "b3b81a0b-961c-4e5d-b7e2-a545867e1c5a",
        "colab": {
          "base_uri": "https://localhost:8080/",
          "height": 237
        }
      },
      "source": [
        "print( lme.shape, '\\n')\n",
        "lme.isnull().sum()"
      ],
      "execution_count": null,
      "outputs": [
        {
          "output_type": "stream",
          "text": [
            "(5, 9) \n",
            "\n"
          ],
          "name": "stdout"
        },
        {
          "output_type": "execute_result",
          "data": {
            "text/plain": [
              "assessmentId       0\n",
              "internalTaxonId    0\n",
              "scientificName     0\n",
              "code               0\n",
              "name               0\n",
              "formerlyBred       5\n",
              "origin             0\n",
              "presence           0\n",
              "seasonality        3\n",
              "dtype: int64"
            ]
          },
          "metadata": {
            "tags": []
          },
          "execution_count": 224
        }
      ]
    },
    {
      "cell_type": "markdown",
      "metadata": {
        "id": "61uivUgv5m-e"
      },
      "source": [
        "#### PLANT SPECIFIC dataset (DEPRECATED)"
      ]
    },
    {
      "cell_type": "code",
      "metadata": {
        "id": "EIiwm91Tg_ve",
        "outputId": "567d618b-61bb-49e6-bb2a-27be80d6a220",
        "colab": {
          "base_uri": "https://localhost:8080/",
          "height": 143
        }
      },
      "source": [
        "plants.sample(3)"
      ],
      "execution_count": null,
      "outputs": [
        {
          "output_type": "execute_result",
          "data": {
            "text/html": [
              "<div>\n",
              "<style scoped>\n",
              "    .dataframe tbody tr th:only-of-type {\n",
              "        vertical-align: middle;\n",
              "    }\n",
              "\n",
              "    .dataframe tbody tr th {\n",
              "        vertical-align: top;\n",
              "    }\n",
              "\n",
              "    .dataframe thead th {\n",
              "        text-align: right;\n",
              "    }\n",
              "</style>\n",
              "<table border=\"1\" class=\"dataframe\">\n",
              "  <thead>\n",
              "    <tr style=\"text-align: right;\">\n",
              "      <th></th>\n",
              "      <th>assessmentId</th>\n",
              "      <th>internalTaxonId</th>\n",
              "      <th>scientificName</th>\n",
              "      <th>code</th>\n",
              "      <th>name</th>\n",
              "    </tr>\n",
              "  </thead>\n",
              "  <tbody>\n",
              "    <tr>\n",
              "      <th>456</th>\n",
              "      <td>8408378</td>\n",
              "      <td>185421</td>\n",
              "      <td>Aponogeton afroviolaceus</td>\n",
              "      <td>F</td>\n",
              "      <td>Forb or Herb</td>\n",
              "    </tr>\n",
              "    <tr>\n",
              "      <th>1042</th>\n",
              "      <td>61797467</td>\n",
              "      <td>61797424</td>\n",
              "      <td>Entandrophragma congoense</td>\n",
              "      <td>TL</td>\n",
              "      <td>Tree - large</td>\n",
              "    </tr>\n",
              "    <tr>\n",
              "      <th>96</th>\n",
              "      <td>2747444</td>\n",
              "      <td>202707</td>\n",
              "      <td>Begonia minuta</td>\n",
              "      <td>F</td>\n",
              "      <td>Forb or Herb</td>\n",
              "    </tr>\n",
              "  </tbody>\n",
              "</table>\n",
              "</div>"
            ],
            "text/plain": [
              "      assessmentId  internalTaxonId  ... code          name\n",
              "456        8408378           185421  ...    F  Forb or Herb\n",
              "1042      61797467         61797424  ...   TL  Tree - large\n",
              "96         2747444           202707  ...    F  Forb or Herb\n",
              "\n",
              "[3 rows x 5 columns]"
            ]
          },
          "metadata": {
            "tags": []
          },
          "execution_count": 60
        }
      ]
    },
    {
      "cell_type": "code",
      "metadata": {
        "id": "R4rBNrIkn-oD",
        "outputId": "04c450a5-21b9-4a7c-ab83-b0c8ff83b357",
        "colab": {
          "base_uri": "https://localhost:8080/",
          "height": 164
        }
      },
      "source": [
        "print( plants.shape, '\\n')\n",
        "plants.isnull().sum()"
      ],
      "execution_count": null,
      "outputs": [
        {
          "output_type": "stream",
          "text": [
            "(3027, 5) \n",
            "\n"
          ],
          "name": "stdout"
        },
        {
          "output_type": "execute_result",
          "data": {
            "text/plain": [
              "assessmentId       0\n",
              "internalTaxonId    0\n",
              "scientificName     0\n",
              "code               0\n",
              "name               0\n",
              "dtype: int64"
            ]
          },
          "metadata": {
            "tags": []
          },
          "execution_count": 89
        }
      ]
    },
    {
      "cell_type": "markdown",
      "metadata": {
        "id": "7w0Bfk585i6K"
      },
      "source": [
        "#### RESEARCH NEEDED dataset (COMPLETE)"
      ]
    },
    {
      "cell_type": "code",
      "metadata": {
        "id": "Izgxfb-IhBFr",
        "outputId": "db914434-e5ea-4591-9ded-c93c78d891d0",
        "colab": {
          "base_uri": "https://localhost:8080/",
          "height": 143
        }
      },
      "source": [
        "research.sample(3)"
      ],
      "execution_count": null,
      "outputs": [
        {
          "output_type": "execute_result",
          "data": {
            "text/html": [
              "<div>\n",
              "<style scoped>\n",
              "    .dataframe tbody tr th:only-of-type {\n",
              "        vertical-align: middle;\n",
              "    }\n",
              "\n",
              "    .dataframe tbody tr th {\n",
              "        vertical-align: top;\n",
              "    }\n",
              "\n",
              "    .dataframe thead th {\n",
              "        text-align: right;\n",
              "    }\n",
              "</style>\n",
              "<table border=\"1\" class=\"dataframe\">\n",
              "  <thead>\n",
              "    <tr style=\"text-align: right;\">\n",
              "      <th></th>\n",
              "      <th>assessmentId</th>\n",
              "      <th>internalTaxonId</th>\n",
              "      <th>scientificName</th>\n",
              "      <th>code</th>\n",
              "      <th>name</th>\n",
              "      <th>note</th>\n",
              "    </tr>\n",
              "  </thead>\n",
              "  <tbody>\n",
              "    <tr>\n",
              "      <th>914</th>\n",
              "      <td>4427339</td>\n",
              "      <td>14259</td>\n",
              "      <td>Mysorelloides multisulcata</td>\n",
              "      <td>1.3</td>\n",
              "      <td>Life history &amp; ecology</td>\n",
              "      <td>NaN</td>\n",
              "    </tr>\n",
              "    <tr>\n",
              "      <th>3248</th>\n",
              "      <td>12383329</td>\n",
              "      <td>60609</td>\n",
              "      <td>Neolamprologus buescheri</td>\n",
              "      <td>3.1</td>\n",
              "      <td>Population trends</td>\n",
              "      <td>None</td>\n",
              "    </tr>\n",
              "    <tr>\n",
              "      <th>8921</th>\n",
              "      <td>133041506</td>\n",
              "      <td>45419</td>\n",
              "      <td>Piptostigma calophyllum</td>\n",
              "      <td>1.2</td>\n",
              "      <td>Population size, distribution &amp; trends</td>\n",
              "      <td>NaN</td>\n",
              "    </tr>\n",
              "  </tbody>\n",
              "</table>\n",
              "</div>"
            ],
            "text/plain": [
              "      assessmentId  ...  note\n",
              "914        4427339  ...   NaN\n",
              "3248      12383329  ...  None\n",
              "8921     133041506  ...   NaN\n",
              "\n",
              "[3 rows x 6 columns]"
            ]
          },
          "metadata": {
            "tags": []
          },
          "execution_count": 61
        }
      ]
    },
    {
      "cell_type": "code",
      "metadata": {
        "id": "z6gdNkUaoFWN",
        "outputId": "f4beb00e-30cf-4d00-951a-901fa70d2e54",
        "colab": {
          "base_uri": "https://localhost:8080/",
          "height": 182
        }
      },
      "source": [
        "print( research.shape, '\\n')\n",
        "research.isnull().sum()"
      ],
      "execution_count": null,
      "outputs": [
        {
          "output_type": "stream",
          "text": [
            "(9218, 6) \n",
            "\n"
          ],
          "name": "stdout"
        },
        {
          "output_type": "execute_result",
          "data": {
            "text/plain": [
              "assessmentId          0\n",
              "internalTaxonId       0\n",
              "scientificName        0\n",
              "code                  0\n",
              "name                  0\n",
              "note               8396\n",
              "dtype: int64"
            ]
          },
          "metadata": {
            "tags": []
          },
          "execution_count": 90
        }
      ]
    },
    {
      "cell_type": "code",
      "metadata": {
        "id": "1GcaEg-9JWTt",
        "outputId": "6bb23cf0-9fcc-4235-8f47-59f02531cf0f",
        "colab": {
          "base_uri": "https://localhost:8080/",
          "height": 257
        }
      },
      "source": [
        "research.note.value_counts()"
      ],
      "execution_count": null,
      "outputs": [
        {
          "output_type": "execute_result",
          "data": {
            "text/plain": [
              "None                                                                                                                                                                                                                                                339\n",
              "Migrated from 3 Research Actions-&gt;3.7 Cultural relevance                                                                                                                                                                                          15\n",
              "Monitor population trends through regular surveys.\\n</P>                                                                                                                                                                                             11\n",
              "None --- \\nNone                                                                                                                                                                                                                                      10\n",
              "See Botha <i>et al.</i> (2017).                                                                                                                                                                                                                       7\n",
              "                                                                                                                                                                                                                                                   ... \n",
              "Research breeding success and adult mortality                                                                                                                                                                                                         1\n",
              "Assess the levels of legal and illegal trade in the species<B><SUP>34</SUP></B>. \\n</P>                                                                                                                                                               1\n",
              "Assess the impacts of fire and management on the species, as well as how cultivation can affect breeding. Monitor changes in population structure and distribution in response to environmental flow releases for Kafue Flats and Zambezi Delta.      1\n",
              "If the taxon is confirmed as a species, survey its distribution and status within the projected range, once the security situation permits this. \\n</P>                                                                                               1\n",
              "Monitoring of trends in poaching for bushmeat and capture and trafficking of live bonobos                                                                                                                                                             1\n",
              "Name: note, Length: 394, dtype: int64"
            ]
          },
          "metadata": {
            "tags": []
          },
          "execution_count": 123
        }
      ]
    },
    {
      "cell_type": "code",
      "metadata": {
        "id": "a-w-BU5n7C_i",
        "outputId": "174435e9-4a71-4147-df71-c5dc6f386a8b",
        "colab": {
          "base_uri": "https://localhost:8080/",
          "height": 237
        }
      },
      "source": [
        "research.note.value_counts()"
      ],
      "execution_count": null,
      "outputs": [
        {
          "output_type": "execute_result",
          "data": {
            "text/plain": [
              "N/A                                                                                                       8735\n",
              "Migrated from 3 Research Actions- 3.7 Cultural relevance                                                    15\n",
              "Monitor population trends through regular surveys.                                                          11\n",
              "None ---  None                                                                                              10\n",
              "See Botha et al. (2017).                                                                                     7\n",
              "                                                                                                          ... \n",
              "Assess the size of the total population.                                                                     1\n",
              "Carry out surveys to obtain a population estimate for southern Tanzania30.                                   1\n",
              "Carry out studies into whether food is limited at feeding sites and whether this affects survival13.         1\n",
              "The impact of habitat transformation on this species needs to be investigated.                               1\n",
              "Monitoring of trends in poaching for bushmeat and capture and trafficking of live bonobos                    1\n",
              "Name: note, Length: 393, dtype: int64"
            ]
          },
          "metadata": {
            "tags": []
          },
          "execution_count": 126
        }
      ]
    },
    {
      "cell_type": "markdown",
      "metadata": {
        "id": "yBVG50Mm5irB"
      },
      "source": [
        "#### THREATS dataset (COMPLETE)"
      ]
    },
    {
      "cell_type": "code",
      "metadata": {
        "id": "lgK9tv1MhCkv",
        "outputId": "8f095db7-6db4-4b5b-e9b1-14c98ba3233a",
        "colab": {
          "base_uri": "https://localhost:8080/",
          "height": 250
        }
      },
      "source": [
        "threats.sample(3)"
      ],
      "execution_count": null,
      "outputs": [
        {
          "output_type": "execute_result",
          "data": {
            "text/html": [
              "<div>\n",
              "<style scoped>\n",
              "    .dataframe tbody tr th:only-of-type {\n",
              "        vertical-align: middle;\n",
              "    }\n",
              "\n",
              "    .dataframe tbody tr th {\n",
              "        vertical-align: top;\n",
              "    }\n",
              "\n",
              "    .dataframe thead th {\n",
              "        text-align: right;\n",
              "    }\n",
              "</style>\n",
              "<table border=\"1\" class=\"dataframe\">\n",
              "  <thead>\n",
              "    <tr style=\"text-align: right;\">\n",
              "      <th></th>\n",
              "      <th>assessmentId</th>\n",
              "      <th>internalTaxonId</th>\n",
              "      <th>scientificName</th>\n",
              "      <th>code</th>\n",
              "      <th>name</th>\n",
              "      <th>stressCode</th>\n",
              "      <th>stressName</th>\n",
              "      <th>ancestry</th>\n",
              "      <th>ias</th>\n",
              "      <th>internationalTrade</th>\n",
              "      <th>scope</th>\n",
              "      <th>severity</th>\n",
              "      <th>text</th>\n",
              "      <th>timing</th>\n",
              "      <th>virus</th>\n",
              "    </tr>\n",
              "  </thead>\n",
              "  <tbody>\n",
              "    <tr>\n",
              "      <th>5256</th>\n",
              "      <td>47214790</td>\n",
              "      <td>60778</td>\n",
              "      <td>Clarias werneri</td>\n",
              "      <td>9.3.1</td>\n",
              "      <td>Nutrient loads</td>\n",
              "      <td>1.2</td>\n",
              "      <td>Ecosystem degradation</td>\n",
              "      <td>NaN</td>\n",
              "      <td>NaN</td>\n",
              "      <td>NaN</td>\n",
              "      <td>NaN</td>\n",
              "      <td>NaN</td>\n",
              "      <td>NaN</td>\n",
              "      <td>Ongoing</td>\n",
              "      <td>NaN</td>\n",
              "    </tr>\n",
              "    <tr>\n",
              "      <th>2279</th>\n",
              "      <td>7973269</td>\n",
              "      <td>182807</td>\n",
              "      <td>Micropanchax scheeli</td>\n",
              "      <td>1.1</td>\n",
              "      <td>Housing &amp; urban areas</td>\n",
              "      <td>1.1|1.2</td>\n",
              "      <td>Ecosystem conversion|Ecosystem degradation</td>\n",
              "      <td>NaN</td>\n",
              "      <td>NaN</td>\n",
              "      <td>NaN</td>\n",
              "      <td>NaN</td>\n",
              "      <td>NaN</td>\n",
              "      <td>NaN</td>\n",
              "      <td>Ongoing</td>\n",
              "      <td>NaN</td>\n",
              "    </tr>\n",
              "    <tr>\n",
              "      <th>6708</th>\n",
              "      <td>87739872</td>\n",
              "      <td>87583732</td>\n",
              "      <td>Angraecum cribbianum</td>\n",
              "      <td>2.1.1</td>\n",
              "      <td>Shifting agriculture</td>\n",
              "      <td>1.2|2.2|2.3.7</td>\n",
              "      <td>Ecosystem degradation|Species disturbance|Redu...</td>\n",
              "      <td>NaN</td>\n",
              "      <td>NaN</td>\n",
              "      <td>NaN</td>\n",
              "      <td>NaN</td>\n",
              "      <td>NaN</td>\n",
              "      <td>NaN</td>\n",
              "      <td>Ongoing</td>\n",
              "      <td>NaN</td>\n",
              "    </tr>\n",
              "  </tbody>\n",
              "</table>\n",
              "</div>"
            ],
            "text/plain": [
              "      assessmentId  internalTaxonId        scientificName  ... text   timing virus\n",
              "5256      47214790            60778       Clarias werneri  ...  NaN  Ongoing   NaN\n",
              "2279       7973269           182807  Micropanchax scheeli  ...  NaN  Ongoing   NaN\n",
              "6708      87739872         87583732  Angraecum cribbianum  ...  NaN  Ongoing   NaN\n",
              "\n",
              "[3 rows x 15 columns]"
            ]
          },
          "metadata": {
            "tags": []
          },
          "execution_count": 10
        }
      ]
    },
    {
      "cell_type": "code",
      "metadata": {
        "id": "YPXsIb7qbFE9",
        "outputId": "6da7e0cf-25da-47df-8f25-f7a129dc0695",
        "colab": {
          "base_uri": "https://localhost:8080/",
          "height": 237
        }
      },
      "source": [
        "threats.code.value_counts()"
      ],
      "execution_count": null,
      "outputs": [
        {
          "output_type": "execute_result",
          "data": {
            "text/plain": [
              "2.1.2    1164\n",
              "5.3.5     816\n",
              "1.1       540\n",
              "2.1.1     480\n",
              "9.3.2     474\n",
              "         ... \n",
              "7.2.6       1\n",
              "7.1.2       1\n",
              "4.4         1\n",
              "10.2        1\n",
              "9.6.1       1\n",
              "Name: code, Length: 94, dtype: int64"
            ]
          },
          "metadata": {
            "tags": []
          },
          "execution_count": 9
        }
      ]
    },
    {
      "cell_type": "code",
      "metadata": {
        "id": "C_DmNRk1R_Xo",
        "outputId": "dd74e622-a06c-4ded-d5c6-345eae698589",
        "colab": {
          "base_uri": "https://localhost:8080/",
          "height": 237
        }
      },
      "source": [
        "threats.scientificName.value_counts()"
      ],
      "execution_count": null,
      "outputs": [
        {
          "output_type": "execute_result",
          "data": {
            "text/plain": [
              "Trichechus senegalensis     35\n",
              "Loxodonta africana          21\n",
              "Aldrovanda vesiculosa       21\n",
              "Limosa limosa               21\n",
              "Mecistops cataphractus      20\n",
              "                            ..\n",
              "Polystachya gracilenta       1\n",
              "Xenopus vestitus             1\n",
              "Ternstroemia polypetala      1\n",
              "Neolamprologus buescheri     1\n",
              "Hypsugo eisentrauti          1\n",
              "Name: scientificName, Length: 3152, dtype: int64"
            ]
          },
          "metadata": {
            "tags": []
          },
          "execution_count": 2
        }
      ]
    },
    {
      "cell_type": "code",
      "metadata": {
        "id": "nE7DV72-oL_x",
        "outputId": "9d70878f-7ae8-4f23-c122-3ca08a85f37e",
        "colab": {
          "base_uri": "https://localhost:8080/",
          "height": 348
        }
      },
      "source": [
        "print( threats.shape, '\\n')\n",
        "threats.isnull().sum()"
      ],
      "execution_count": null,
      "outputs": [
        {
          "output_type": "stream",
          "text": [
            "(10680, 15) \n",
            "\n"
          ],
          "name": "stdout"
        },
        {
          "output_type": "execute_result",
          "data": {
            "text/plain": [
              "assessmentId              0\n",
              "internalTaxonId           0\n",
              "scientificName            0\n",
              "code                      0\n",
              "name                      0\n",
              "stressCode              820\n",
              "stressName              820\n",
              "ancestry              10678\n",
              "ias                   10527\n",
              "internationalTrade    10521\n",
              "scope                  7179\n",
              "severity               7217\n",
              "text                  10664\n",
              "timing                    9\n",
              "virus                 10656\n",
              "dtype: int64"
            ]
          },
          "metadata": {
            "tags": []
          },
          "execution_count": 91
        }
      ]
    },
    {
      "cell_type": "markdown",
      "metadata": {
        "id": "phu03OuT5igV"
      },
      "source": [
        "#### USE TRADE dataset (COMPLETE)"
      ]
    },
    {
      "cell_type": "code",
      "metadata": {
        "id": "dK7Se0TMhD48",
        "outputId": "588c0aee-54f8-4c0b-d499-be67d9e45ef2",
        "colab": {
          "base_uri": "https://localhost:8080/",
          "height": 143
        }
      },
      "source": [
        "trade.sample(3)"
      ],
      "execution_count": null,
      "outputs": [
        {
          "output_type": "execute_result",
          "data": {
            "text/html": [
              "<div>\n",
              "<style scoped>\n",
              "    .dataframe tbody tr th:only-of-type {\n",
              "        vertical-align: middle;\n",
              "    }\n",
              "\n",
              "    .dataframe tbody tr th {\n",
              "        vertical-align: top;\n",
              "    }\n",
              "\n",
              "    .dataframe thead th {\n",
              "        text-align: right;\n",
              "    }\n",
              "</style>\n",
              "<table border=\"1\" class=\"dataframe\">\n",
              "  <thead>\n",
              "    <tr style=\"text-align: right;\">\n",
              "      <th></th>\n",
              "      <th>assessmentId</th>\n",
              "      <th>internalTaxonId</th>\n",
              "      <th>scientificName</th>\n",
              "      <th>code</th>\n",
              "      <th>name</th>\n",
              "      <th>international</th>\n",
              "      <th>national</th>\n",
              "      <th>other</th>\n",
              "      <th>subsistence</th>\n",
              "    </tr>\n",
              "  </thead>\n",
              "  <tbody>\n",
              "    <tr>\n",
              "      <th>1484</th>\n",
              "      <td>93271506</td>\n",
              "      <td>22690384</td>\n",
              "      <td>Aplopelia larvata</td>\n",
              "      <td>13</td>\n",
              "      <td>Pets/display animals, horticulture</td>\n",
              "      <td>True</td>\n",
              "      <td>NaN</td>\n",
              "      <td>NaN</td>\n",
              "      <td>NaN</td>\n",
              "    </tr>\n",
              "    <tr>\n",
              "      <th>3421</th>\n",
              "      <td>155613186</td>\n",
              "      <td>103843725</td>\n",
              "      <td>Phylloscopus collybita</td>\n",
              "      <td>15</td>\n",
              "      <td>Sport hunting/specimen collecting</td>\n",
              "      <td>NaN</td>\n",
              "      <td>True</td>\n",
              "      <td>NaN</td>\n",
              "      <td>True</td>\n",
              "    </tr>\n",
              "    <tr>\n",
              "      <th>2846</th>\n",
              "      <td>60757732</td>\n",
              "      <td>60757728</td>\n",
              "      <td>Albizia antunesiana</td>\n",
              "      <td>1</td>\n",
              "      <td>Food - human</td>\n",
              "      <td>NaN</td>\n",
              "      <td>NaN</td>\n",
              "      <td>NaN</td>\n",
              "      <td>True</td>\n",
              "    </tr>\n",
              "  </tbody>\n",
              "</table>\n",
              "</div>"
            ],
            "text/plain": [
              "      assessmentId  internalTaxonId  ... other  subsistence\n",
              "1484      93271506         22690384  ...   NaN          NaN\n",
              "3421     155613186        103843725  ...   NaN         True\n",
              "2846      60757732         60757728  ...   NaN         True\n",
              "\n",
              "[3 rows x 9 columns]"
            ]
          },
          "metadata": {
            "tags": []
          },
          "execution_count": 37
        }
      ]
    },
    {
      "cell_type": "code",
      "metadata": {
        "id": "-CQYCcVnp91D",
        "outputId": "a456edfe-71b7-4a97-e861-48665e991664",
        "colab": {
          "base_uri": "https://localhost:8080/",
          "height": 237
        }
      },
      "source": [
        "print( trade.shape, '\\n')\n",
        "trade.isnull().sum()"
      ],
      "execution_count": null,
      "outputs": [
        {
          "output_type": "stream",
          "text": [
            "(3436, 9) \n",
            "\n"
          ],
          "name": "stdout"
        },
        {
          "output_type": "execute_result",
          "data": {
            "text/plain": [
              "assessmentId          0\n",
              "internalTaxonId       0\n",
              "scientificName        0\n",
              "code                  0\n",
              "name                  0\n",
              "international      2414\n",
              "national           2107\n",
              "other              3359\n",
              "subsistence        1024\n",
              "dtype: int64"
            ]
          },
          "metadata": {
            "tags": []
          },
          "execution_count": 93
        }
      ]
    },
    {
      "cell_type": "markdown",
      "metadata": {
        "id": "ypFRUYUR5h-R"
      },
      "source": [
        "#### SPECIES and HABITATS dataset (DEPRECATED)"
      ]
    },
    {
      "cell_type": "code",
      "metadata": {
        "id": "TXW4cYl3hFR_",
        "outputId": "9d17c231-a57b-4e36-9e8a-2b3af13480d5",
        "colab": {
          "base_uri": "https://localhost:8080/",
          "height": 143
        }
      },
      "source": [
        "specHab.head(3)"
      ],
      "execution_count": null,
      "outputs": [
        {
          "output_type": "execute_result",
          "data": {
            "text/html": [
              "<div>\n",
              "<style scoped>\n",
              "    .dataframe tbody tr th:only-of-type {\n",
              "        vertical-align: middle;\n",
              "    }\n",
              "\n",
              "    .dataframe tbody tr th {\n",
              "        vertical-align: top;\n",
              "    }\n",
              "\n",
              "    .dataframe thead th {\n",
              "        text-align: right;\n",
              "    }\n",
              "</style>\n",
              "<table border=\"1\" class=\"dataframe\">\n",
              "  <thead>\n",
              "    <tr style=\"text-align: right;\">\n",
              "      <th></th>\n",
              "      <th>Unnamed: 0</th>\n",
              "      <th>name</th>\n",
              "      <th>habitat</th>\n",
              "      <th>code</th>\n",
              "      <th>suitability</th>\n",
              "      <th>season</th>\n",
              "      <th>majorimportance</th>\n",
              "    </tr>\n",
              "  </thead>\n",
              "  <tbody>\n",
              "    <tr>\n",
              "      <th>0</th>\n",
              "      <td>0</td>\n",
              "      <td>Abisara rutherfordii</td>\n",
              "      <td>Forest - Subtropical/Tropical Moist Lowland</td>\n",
              "      <td>1.6</td>\n",
              "      <td>Suitable</td>\n",
              "      <td>NaN</td>\n",
              "      <td>Yes</td>\n",
              "    </tr>\n",
              "    <tr>\n",
              "      <th>1</th>\n",
              "      <td>1</td>\n",
              "      <td>Abrus fruticulosus</td>\n",
              "      <td>Forest - Subtropical/Tropical Dry</td>\n",
              "      <td>1.5</td>\n",
              "      <td>Suitable</td>\n",
              "      <td>NaN</td>\n",
              "      <td>NaN</td>\n",
              "    </tr>\n",
              "    <tr>\n",
              "      <th>2</th>\n",
              "      <td>2</td>\n",
              "      <td>Abrus fruticulosus</td>\n",
              "      <td>Forest - Subtropical/Tropical Moist Lowland</td>\n",
              "      <td>1.6</td>\n",
              "      <td>Suitable</td>\n",
              "      <td>NaN</td>\n",
              "      <td>NaN</td>\n",
              "    </tr>\n",
              "  </tbody>\n",
              "</table>\n",
              "</div>"
            ],
            "text/plain": [
              "   Unnamed: 0                  name  ... season  majorimportance\n",
              "0           0  Abisara rutherfordii  ...    NaN              Yes\n",
              "1           1    Abrus fruticulosus  ...    NaN              NaN\n",
              "2           2    Abrus fruticulosus  ...    NaN              NaN\n",
              "\n",
              "[3 rows x 7 columns]"
            ]
          },
          "metadata": {
            "tags": []
          },
          "execution_count": 69
        }
      ]
    },
    {
      "cell_type": "code",
      "metadata": {
        "id": "ODv6eJBdqEI3",
        "outputId": "30935a1b-b9cc-4862-eb75-bc18f60c3b2b",
        "colab": {
          "base_uri": "https://localhost:8080/",
          "height": 201
        }
      },
      "source": [
        "print( specHab.shape, '\\n')\n",
        "specHab.isnull().sum()"
      ],
      "execution_count": null,
      "outputs": [
        {
          "output_type": "stream",
          "text": [
            "(16083, 7) \n",
            "\n"
          ],
          "name": "stdout"
        },
        {
          "output_type": "execute_result",
          "data": {
            "text/plain": [
              "Unnamed: 0             0\n",
              "name                   0\n",
              "habitat                0\n",
              "code                   0\n",
              "suitability           49\n",
              "season             11188\n",
              "majorimportance    10253\n",
              "dtype: int64"
            ]
          },
          "metadata": {
            "tags": []
          },
          "execution_count": 94
        }
      ]
    },
    {
      "cell_type": "markdown",
      "metadata": {
        "id": "Le77WDrt4zmA"
      },
      "source": [
        "##### Observations:"
      ]
    },
    {
      "cell_type": "markdown",
      "metadata": {
        "id": "lCS-T68O49rD"
      },
      "source": [
        "###### COUNTRIES and HABITATS"
      ]
    },
    {
      "cell_type": "markdown",
      "metadata": {
        "id": "CtWWNcoZcYyk"
      },
      "source": [
        "We should now be able to answer the following questions:\n",
        "\n",
        "1. **Which species exist within any given country whose borders extend into the Congo River Basin rainforest?**  \n",
        "( speciesList_CRB_Countries [filtered by country] )\n",
        "2. **Which species exist within any given habitat within the Congo River Basin rainforest?**  \n",
        "( speciesList_CRB_Habitats [filtered by habitat] )\n",
        "3. **Which habitats occur within any given country, and which species exist therein?**  \n",
        "( speciesList_CRB_Countries [filtered by country], compare against speciesList_CRB_Habitats )\n",
        "4. **Which species exist within any given country, but *outside* the Congo River Basin rainforest?**  \n",
        "( speciesList_CRB_Countries [filtered by country], compare against **!**speciesList_CRB_Habitats )\n",
        "5. ?\n",
        "6. But wait, there's more! (?)"
      ]
    },
    {
      "cell_type": "markdown",
      "metadata": {
        "id": "zBzwg65h4phA"
      },
      "source": [
        "<but wait there's more>"
      ]
    },
    {
      "cell_type": "code",
      "metadata": {
        "id": "z37OHH7nb_sn",
        "outputId": "7b300fd0-0b09-4d5e-fce2-7999a247a59b",
        "colab": {
          "base_uri": "https://localhost:8080/",
          "height": 35
        }
      },
      "source": [
        "print( speciesList_CRB_Countries_Habitats.shape, len( speciesList_CRB_Countries_Habitats.internalTaxonId.unique()))\n",
        "\n",
        "# So even though there are ~16,000 observations, it's still just based on the same 6622 species"
      ],
      "execution_count": null,
      "outputs": [
        {
          "output_type": "stream",
          "text": [
            "(16317, 8) 6622\n"
          ],
          "name": "stdout"
        }
      ]
    },
    {
      "cell_type": "markdown",
      "metadata": {
        "id": "Q0CmV2QhGQfo"
      },
      "source": [
        "## CITES:"
      ]
    },
    {
      "cell_type": "code",
      "metadata": {
        "id": "wIBO4q6jGT5G",
        "outputId": "c41d3aa1-1c39-4d2e-ffe4-02ce82539dc4",
        "colab": {
          "base_uri": "https://localhost:8080/",
          "height": 35
        }
      },
      "source": [
        "\n",
        "cites_listings.shape, cites_suspensions.shape, cites_quotas.shape"
      ],
      "execution_count": null,
      "outputs": [
        {
          "output_type": "execute_result",
          "data": {
            "text/plain": [
              "((5581, 26), (178, 18), (1691, 18))"
            ]
          },
          "metadata": {
            "tags": []
          },
          "execution_count": 21
        }
      ]
    },
    {
      "cell_type": "code",
      "metadata": {
        "id": "8dkr5ygiGT2f",
        "outputId": "e13f1ea6-1c9b-41ec-a3c5-19fbe5a5100f",
        "colab": {
          "base_uri": "https://localhost:8080/",
          "height": 170
        }
      },
      "source": [
        "cites_listings.sample()"
      ],
      "execution_count": null,
      "outputs": [
        {
          "output_type": "execute_result",
          "data": {
            "text/html": [
              "<div>\n",
              "<style scoped>\n",
              "    .dataframe tbody tr th:only-of-type {\n",
              "        vertical-align: middle;\n",
              "    }\n",
              "\n",
              "    .dataframe tbody tr th {\n",
              "        vertical-align: top;\n",
              "    }\n",
              "\n",
              "    .dataframe thead th {\n",
              "        text-align: right;\n",
              "    }\n",
              "</style>\n",
              "<table border=\"1\" class=\"dataframe\">\n",
              "  <thead>\n",
              "    <tr style=\"text-align: right;\">\n",
              "      <th></th>\n",
              "      <th>Id</th>\n",
              "      <th>Kingdom</th>\n",
              "      <th>Phylum</th>\n",
              "      <th>Class</th>\n",
              "      <th>Order</th>\n",
              "      <th>Family</th>\n",
              "      <th>Genus</th>\n",
              "      <th>Species</th>\n",
              "      <th>Subspecies</th>\n",
              "      <th>Scientific Name</th>\n",
              "      <th>Author</th>\n",
              "      <th>Rank</th>\n",
              "      <th>Listing</th>\n",
              "      <th>Party</th>\n",
              "      <th>Listed under</th>\n",
              "      <th>Full note</th>\n",
              "      <th># Full note</th>\n",
              "      <th>All_DistributionFullNames</th>\n",
              "      <th>All_DistributionISOCodes</th>\n",
              "      <th>NativeDistributionFullNames</th>\n",
              "      <th>Introduced_Distribution</th>\n",
              "      <th>Introduced(?)_Distribution</th>\n",
              "      <th>Reintroduced_Distribution</th>\n",
              "      <th>Extinct_Distribution</th>\n",
              "      <th>Extinct(?)_Distribution</th>\n",
              "      <th>Distribution_Uncertain</th>\n",
              "    </tr>\n",
              "  </thead>\n",
              "  <tbody>\n",
              "    <tr>\n",
              "      <th>1080</th>\n",
              "      <td>9107</td>\n",
              "      <td>Animalia</td>\n",
              "      <td>Cnidaria</td>\n",
              "      <td>Anthozoa</td>\n",
              "      <td>Antipatharia</td>\n",
              "      <td>Antipathidae</td>\n",
              "      <td>Stichopathes</td>\n",
              "      <td>longispina</td>\n",
              "      <td>NaN</td>\n",
              "      <td>Stichopathes longispina</td>\n",
              "      <td>Forster Cooper, 1909</td>\n",
              "      <td>SPECIES</td>\n",
              "      <td>II</td>\n",
              "      <td>NaN</td>\n",
              "      <td>Antipatharia spp.</td>\n",
              "      <td>NaN</td>\n",
              "      <td>NaN</td>\n",
              "      <td>Seychelles</td>\n",
              "      <td>SC</td>\n",
              "      <td>Seychelles</td>\n",
              "      <td>NaN</td>\n",
              "      <td>NaN</td>\n",
              "      <td>NaN</td>\n",
              "      <td>NaN</td>\n",
              "      <td>NaN</td>\n",
              "      <td>NaN</td>\n",
              "    </tr>\n",
              "  </tbody>\n",
              "</table>\n",
              "</div>"
            ],
            "text/plain": [
              "        Id   Kingdom  ... Extinct(?)_Distribution Distribution_Uncertain\n",
              "1080  9107  Animalia  ...                     NaN                    NaN\n",
              "\n",
              "[1 rows x 26 columns]"
            ]
          },
          "metadata": {
            "tags": []
          },
          "execution_count": 11
        }
      ]
    },
    {
      "cell_type": "code",
      "metadata": {
        "id": "DkVwrgjHGTyN",
        "outputId": "dc3368a9-cc6d-404a-eb42-22e488d6361d",
        "colab": {
          "base_uri": "https://localhost:8080/",
          "height": 153
        }
      },
      "source": [
        "cites_suspensions.sample()"
      ],
      "execution_count": null,
      "outputs": [
        {
          "output_type": "execute_result",
          "data": {
            "text/html": [
              "<div>\n",
              "<style scoped>\n",
              "    .dataframe tbody tr th:only-of-type {\n",
              "        vertical-align: middle;\n",
              "    }\n",
              "\n",
              "    .dataframe tbody tr th {\n",
              "        vertical-align: top;\n",
              "    }\n",
              "\n",
              "    .dataframe thead th {\n",
              "        text-align: right;\n",
              "    }\n",
              "</style>\n",
              "<table border=\"1\" class=\"dataframe\">\n",
              "  <thead>\n",
              "    <tr style=\"text-align: right;\">\n",
              "      <th></th>\n",
              "      <th>Kingdom</th>\n",
              "      <th>Phylum</th>\n",
              "      <th>Class</th>\n",
              "      <th>Order</th>\n",
              "      <th>Family</th>\n",
              "      <th>Genus</th>\n",
              "      <th>Species</th>\n",
              "      <th>Subspecies</th>\n",
              "      <th>Full Name</th>\n",
              "      <th>Rank</th>\n",
              "      <th>Remarks</th>\n",
              "      <th>start_date</th>\n",
              "      <th>start_notification</th>\n",
              "      <th>end_date</th>\n",
              "      <th>end_notification</th>\n",
              "      <th>party</th>\n",
              "      <th>notes</th>\n",
              "      <th>valid</th>\n",
              "    </tr>\n",
              "  </thead>\n",
              "  <tbody>\n",
              "    <tr>\n",
              "      <th>91</th>\n",
              "      <td>Animalia</td>\n",
              "      <td>Chordata</td>\n",
              "      <td>Reptilia</td>\n",
              "      <td>Sauria</td>\n",
              "      <td>Cordylidae</td>\n",
              "      <td>Smaug</td>\n",
              "      <td>smaug mossambicus</td>\n",
              "      <td>NaN</td>\n",
              "      <td>Smaug mossambicus</td>\n",
              "      <td>SPECIES</td>\n",
              "      <td>NaN</td>\n",
              "      <td>20/01/2020</td>\n",
              "      <td>CITES Notif. No. 2020/006</td>\n",
              "      <td>NaN</td>\n",
              "      <td>NaN</td>\n",
              "      <td>Mozambique</td>\n",
              "      <td>All exports.;  &lt;p&gt;Formerly &lt;i&gt; Cordylus mossam...</td>\n",
              "      <td>True</td>\n",
              "    </tr>\n",
              "  </tbody>\n",
              "</table>\n",
              "</div>"
            ],
            "text/plain": [
              "     Kingdom  ... valid\n",
              "91  Animalia  ...  True\n",
              "\n",
              "[1 rows x 18 columns]"
            ]
          },
          "metadata": {
            "tags": []
          },
          "execution_count": 6
        }
      ]
    },
    {
      "cell_type": "code",
      "metadata": {
        "id": "JumR0lu2He-t",
        "outputId": "4fddd541-03b5-4a31-f85e-77235b8fd618",
        "colab": {
          "base_uri": "https://localhost:8080/",
          "height": 222
        }
      },
      "source": [
        "cites_quotas.sample()"
      ],
      "execution_count": null,
      "outputs": [
        {
          "output_type": "execute_result",
          "data": {
            "text/html": [
              "<div>\n",
              "<style scoped>\n",
              "    .dataframe tbody tr th:only-of-type {\n",
              "        vertical-align: middle;\n",
              "    }\n",
              "\n",
              "    .dataframe tbody tr th {\n",
              "        vertical-align: top;\n",
              "    }\n",
              "\n",
              "    .dataframe thead th {\n",
              "        text-align: right;\n",
              "    }\n",
              "</style>\n",
              "<table border=\"1\" class=\"dataframe\">\n",
              "  <thead>\n",
              "    <tr style=\"text-align: right;\">\n",
              "      <th></th>\n",
              "      <th>Kingdom</th>\n",
              "      <th>Phylum</th>\n",
              "      <th>Class</th>\n",
              "      <th>Order</th>\n",
              "      <th>Family</th>\n",
              "      <th>Genus</th>\n",
              "      <th>Species</th>\n",
              "      <th>Subspecies</th>\n",
              "      <th>Full Name</th>\n",
              "      <th>Rank</th>\n",
              "      <th>Remarks</th>\n",
              "      <th>year</th>\n",
              "      <th>party</th>\n",
              "      <th>quota</th>\n",
              "      <th>unit</th>\n",
              "      <th>publication_date</th>\n",
              "      <th>notes</th>\n",
              "      <th>url</th>\n",
              "    </tr>\n",
              "  </thead>\n",
              "  <tbody>\n",
              "    <tr>\n",
              "      <th>90</th>\n",
              "      <td>Animalia</td>\n",
              "      <td>Chordata</td>\n",
              "      <td>Mammalia</td>\n",
              "      <td>Carnivora</td>\n",
              "      <td>Felidae</td>\n",
              "      <td>Panthera</td>\n",
              "      <td>leo</td>\n",
              "      <td>NaN</td>\n",
              "      <td>Panthera leo</td>\n",
              "      <td>SPECIES</td>\n",
              "      <td>NaN</td>\n",
              "      <td>2020</td>\n",
              "      <td>Namibia</td>\n",
              "      <td>0.0</td>\n",
              "      <td>NaN</td>\n",
              "      <td>2020-01-29 00:00:00 UTC</td>\n",
              "      <td>Bones, bone pieces, bone products, claws, skel...</td>\n",
              "      <td>NaN</td>\n",
              "    </tr>\n",
              "  </tbody>\n",
              "</table>\n",
              "</div>"
            ],
            "text/plain": [
              "     Kingdom    Phylum  ...                                              notes  url\n",
              "90  Animalia  Chordata  ...  Bones, bone pieces, bone products, claws, skel...  NaN\n",
              "\n",
              "[1 rows x 18 columns]"
            ]
          },
          "metadata": {
            "tags": []
          },
          "execution_count": 7
        }
      ]
    },
    {
      "cell_type": "code",
      "metadata": {
        "id": "9IragKp8Hkqe",
        "outputId": "9951bd8d-e573-4190-d08d-3c6b490b1535",
        "colab": {
          "base_uri": "https://localhost:8080/",
          "height": 515
        }
      },
      "source": [
        "print( 'CITES QUOTAS, 2016-2020 (PRELIMINARY):\\n',\n",
        "       'Number of observations: {}\\n'.format( len( cites_quotas)),\n",
        "       cites_quotas.isnull().sum(), '\\n',\n",
        "       'EXAMPLE:\\n',\n",
        "       cites_quotas.sample().to_string( index= False),\n",
        "       sep= ''\n",
        ")"
      ],
      "execution_count": null,
      "outputs": [
        {
          "output_type": "stream",
          "text": [
            "CITES QUOTAS, 2016-2020 (PRELIMINARY):\n",
            "Number of observations: 1691\n",
            "Kingdom                0\n",
            "Phylum               249\n",
            "Class                249\n",
            "Order                  0\n",
            "Family                 0\n",
            "Genus                  0\n",
            "Species                9\n",
            "Subspecies          1691\n",
            "Full Name              0\n",
            "Rank                   0\n",
            "Remarks             1691\n",
            "year                   0\n",
            "party                  0\n",
            "quota                  0\n",
            "unit                1630\n",
            "publication_date       0\n",
            "notes                180\n",
            "url                 1510\n",
            "dtype: int64\n",
            "EXAMPLE:\n",
            "  Kingdom    Phylum     Class   Order      Family     Genus    Species  Subspecies           Full Name     Rank  Remarks  year       party   quota unit         publication_date notes  url\n",
            " Animalia  Chordata  Reptilia  Sauria  Gekkonidae  Phelsuma  laticauda         NaN  Phelsuma laticauda  SPECIES      NaN  2016  Madagascar  2000.0  NaN  2016-04-03 00:00:00 UTC  live  NaN\n",
            "\n",
            "\n"
          ],
          "name": "stdout"
        }
      ]
    },
    {
      "cell_type": "code",
      "metadata": {
        "id": "VOvW6qc7fW4E",
        "outputId": "55f7c713-9925-4b92-b0f8-378822790eb2",
        "colab": {
          "base_uri": "https://localhost:8080/",
          "height": 478
        }
      },
      "source": [
        "print( 'CITES SUSPENSIONS (PRELIMINARY):\\n',\n",
        "       'Number of observations: {}\\n'.format( len( cites_suspensions)),\n",
        "       cites_suspensions.isnull().sum(), '\\n',\n",
        "       'EXAMPLE:\\n',\n",
        "       cites_suspensions.sample().to_string( index= False),\n",
        "       sep= ''\n",
        ")"
      ],
      "execution_count": null,
      "outputs": [
        {
          "output_type": "stream",
          "text": [
            "CITES SUSPENSIONS (PRELIMINARY):\n",
            "Number of observations: 178\n",
            "Kingdom                 8\n",
            "Phylum                 35\n",
            "Class                  35\n",
            "Order                   8\n",
            "Family                  8\n",
            "Genus                  14\n",
            "Species                21\n",
            "Subspecies            178\n",
            "Full Name               8\n",
            "Rank                    8\n",
            "Remarks               178\n",
            "start_date              0\n",
            "start_notification      0\n",
            "end_date               41\n",
            "end_notification       41\n",
            "party                   0\n",
            "notes                   0\n",
            "valid                   0\n",
            "dtype: int64\n",
            "EXAMPLE:\n",
            "  Kingdom    Phylum     Class   Order          Family     Genus  Species  Subspecies         Full Name     Rank  Remarks  start_date         start_notification    end_date           end_notification       party         notes  valid\n",
            " Animalia  Chordata  Reptilia  Sauria  Chamaeleonidae  Furcifer  labordi         NaN  Furcifer labordi  SPECIES      NaN  15/01/2018  CITES Notif. No. 2018/006  06/05/2019  CITES Notif. No. 2019/027  Madagascar  All exports.  False\n"
          ],
          "name": "stdout"
        }
      ]
    },
    {
      "cell_type": "code",
      "metadata": {
        "id": "hjCt3MlyfWu-",
        "outputId": "c7caa2b7-129c-43b7-f012-4344a604d55d",
        "colab": {
          "base_uri": "https://localhost:8080/",
          "height": 643
        }
      },
      "source": [
        "print( 'CITES FULL APPENDIX LISTINGS FOR AFRICA \\n(CATEGORIES I, II, and III) (PRELIM):\\n',\n",
        "       'Number of observations: {}\\n'.format( len( cites_listings)),\n",
        "       cites_listings.isnull().sum(), '\\n',\n",
        "       'EXAMPLE:\\n',\n",
        "       cites_listings.sample().to_string( index= False),\n",
        "       sep= ''\n",
        ")"
      ],
      "execution_count": null,
      "outputs": [
        {
          "output_type": "stream",
          "text": [
            "CITES FULL APPENDIX LISTINGS FOR AFRICA \n",
            "(CATEGORIES I, II, and III) (PRELIM):\n",
            "Number of observations: 5581\n",
            "Id                                0\n",
            "Kingdom                           0\n",
            "Phylum                         3800\n",
            "Class                          3800\n",
            "Order                             0\n",
            "Family                            0\n",
            "Genus                             0\n",
            "Species                           1\n",
            "Subspecies                     5572\n",
            "Scientific Name                   0\n",
            "Author                            6\n",
            "Rank                              0\n",
            "Listing                           0\n",
            "Party                          5545\n",
            "Listed under                      0\n",
            "Full note                       799\n",
            "# Full note                    1908\n",
            "All_DistributionFullNames         0\n",
            "All_DistributionISOCodes         37\n",
            "NativeDistributionFullNames      23\n",
            "Introduced_Distribution        5515\n",
            "Introduced(?)_Distribution     5571\n",
            "Reintroduced_Distribution      5563\n",
            "Extinct_Distribution           5477\n",
            "Extinct(?)_Distribution        5558\n",
            "Distribution_Uncertain         5155\n",
            "dtype: int64\n",
            "EXAMPLE:\n",
            "    Id  Kingdom Phylum Class         Order         Family      Genus   Species Subspecies     Scientific Name Author     Rank Listing Party    Listed under                                          Full note                                        # Full note All_DistributionFullNames All_DistributionISOCodes NativeDistributionFullNames Introduced_Distribution Introduced(?)_Distribution Reintroduced_Distribution Extinct_Distribution Extinct(?)_Distribution Distribution_Uncertain\n",
            " 14877  Plantae    NaN   NaN  Euphorbiales  Euphorbiaceae  Euphorbia  superans        NaN  Euphorbia superans    Nel  SPECIES      II   NaN  Euphorbia spp.  **II** [GENUS listing Euphorbia spp.] Succulen...  **II** #4 All parts and derivatives, except: a...              South Africa                       ZA                South Africa                     NaN                        NaN                       NaN                  NaN                     NaN                    NaN\n"
          ],
          "name": "stdout"
        }
      ]
    },
    {
      "cell_type": "code",
      "metadata": {
        "id": "ut6DeAo9DM7i",
        "outputId": "785ec93f-707b-49a5-c627-506d6587c458",
        "colab": {
          "base_uri": "https://localhost:8080/",
          "height": 237
        }
      },
      "source": [
        "cites_listings.Id.value_counts()"
      ],
      "execution_count": null,
      "outputs": [
        {
          "output_type": "execute_result",
          "data": {
            "text/plain": [
              "12219    2\n",
              "9441     2\n",
              "23525    2\n",
              "74144    1\n",
              "4811     1\n",
              "        ..\n",
              "7513     1\n",
              "23632    1\n",
              "28782    1\n",
              "75102    1\n",
              "18433    1\n",
              "Name: Id, Length: 5578, dtype: int64"
            ]
          },
          "metadata": {
            "tags": []
          },
          "execution_count": 11
        }
      ]
    },
    {
      "cell_type": "code",
      "metadata": {
        "id": "prU-EJ7qJosu",
        "outputId": "f463b490-92b0-4663-e759-2cc8c4f3fcbb",
        "colab": {
          "base_uri": "https://localhost:8080/",
          "height": 127
        }
      },
      "source": [
        "crb_countries = ['CD', 'CF', 'CG', 'CM', 'GQ', 'GA']\n",
        "\n",
        "cites_listings[ cites_listings.All_DistributionISOCodes.isin( crb_countries)].Id.value_counts()[:5]"
      ],
      "execution_count": null,
      "outputs": [
        {
          "output_type": "execute_result",
          "data": {
            "text/plain": [
              "74749    1\n",
              "76121    1\n",
              "73303    1\n",
              "26709    1\n",
              "67924    1\n",
              "Name: Id, dtype: int64"
            ]
          },
          "metadata": {
            "tags": []
          },
          "execution_count": 31
        }
      ]
    },
    {
      "cell_type": "code",
      "metadata": {
        "id": "V1y7Db4FJ0Ls",
        "outputId": "bdd5b7d4-19f3-4968-a7b6-47a6aae3026c",
        "colab": {
          "base_uri": "https://localhost:8080/",
          "height": 146
        }
      },
      "source": [
        "cites_listings[ cites_listings.All_DistributionISOCodes.isin( crb_countries)].All_DistributionISOCodes.value_counts()"
      ],
      "execution_count": null,
      "outputs": [
        {
          "output_type": "execute_result",
          "data": {
            "text/plain": [
              "CD    63\n",
              "CM    47\n",
              "GA    21\n",
              "CF     9\n",
              "CG     8\n",
              "GQ     3\n",
              "Name: All_DistributionISOCodes, dtype: int64"
            ]
          },
          "metadata": {
            "tags": []
          },
          "execution_count": 21
        }
      ]
    },
    {
      "cell_type": "code",
      "metadata": {
        "id": "qBIzDS3zHR1W",
        "outputId": "929f6c2d-f485-44af-e06f-ec527db864a4",
        "colab": {
          "base_uri": "https://localhost:8080/",
          "height": 72
        }
      },
      "source": [
        "cites_listings[ cites_listings.All_DistributionISOCodes.isin( crb_countries)].Listing.value_counts()"
      ],
      "execution_count": null,
      "outputs": [
        {
          "output_type": "execute_result",
          "data": {
            "text/plain": [
              "II    148\n",
              "I       3\n",
              "Name: Listing, dtype: int64"
            ]
          },
          "metadata": {
            "tags": []
          },
          "execution_count": 22
        }
      ]
    },
    {
      "cell_type": "code",
      "metadata": {
        "id": "XjwFKsJ_KscV",
        "outputId": "5b75d571-c344-4760-cb5d-d6d12b55b5fd",
        "colab": {
          "base_uri": "https://localhost:8080/",
          "height": 355
        }
      },
      "source": [
        "cites_listings[ cites_listings.All_DistributionISOCodes.isin( crb_countries) & \n",
        "                cites_listings.Listing.isin( ['I'])]"
      ],
      "execution_count": null,
      "outputs": [
        {
          "output_type": "execute_result",
          "data": {
            "text/html": [
              "<div>\n",
              "<style scoped>\n",
              "    .dataframe tbody tr th:only-of-type {\n",
              "        vertical-align: middle;\n",
              "    }\n",
              "\n",
              "    .dataframe tbody tr th {\n",
              "        vertical-align: top;\n",
              "    }\n",
              "\n",
              "    .dataframe thead th {\n",
              "        text-align: right;\n",
              "    }\n",
              "</style>\n",
              "<table border=\"1\" class=\"dataframe\">\n",
              "  <thead>\n",
              "    <tr style=\"text-align: right;\">\n",
              "      <th></th>\n",
              "      <th>Id</th>\n",
              "      <th>Kingdom</th>\n",
              "      <th>Phylum</th>\n",
              "      <th>Class</th>\n",
              "      <th>Order</th>\n",
              "      <th>Family</th>\n",
              "      <th>Genus</th>\n",
              "      <th>Species</th>\n",
              "      <th>Subspecies</th>\n",
              "      <th>Scientific Name</th>\n",
              "      <th>Author</th>\n",
              "      <th>Rank</th>\n",
              "      <th>Listing</th>\n",
              "      <th>Party</th>\n",
              "      <th>Listed under</th>\n",
              "      <th>Full note</th>\n",
              "      <th># Full note</th>\n",
              "      <th>All_DistributionFullNames</th>\n",
              "      <th>All_DistributionISOCodes</th>\n",
              "      <th>NativeDistributionFullNames</th>\n",
              "      <th>Introduced_Distribution</th>\n",
              "      <th>Introduced(?)_Distribution</th>\n",
              "      <th>Reintroduced_Distribution</th>\n",
              "      <th>Extinct_Distribution</th>\n",
              "      <th>Extinct(?)_Distribution</th>\n",
              "      <th>Distribution_Uncertain</th>\n",
              "    </tr>\n",
              "  </thead>\n",
              "  <tbody>\n",
              "    <tr>\n",
              "      <th>246</th>\n",
              "      <td>8333</td>\n",
              "      <td>Animalia</td>\n",
              "      <td>Chordata</td>\n",
              "      <td>Mammalia</td>\n",
              "      <td>Primates</td>\n",
              "      <td>Hominidae</td>\n",
              "      <td>Pan</td>\n",
              "      <td>paniscus</td>\n",
              "      <td>NaN</td>\n",
              "      <td>Pan paniscus</td>\n",
              "      <td>Schwartz, 1929</td>\n",
              "      <td>SPECIES</td>\n",
              "      <td>I</td>\n",
              "      <td>NaN</td>\n",
              "      <td>Pan spp.</td>\n",
              "      <td>**I** [GENUS listing Pan spp.] Included in Pan...</td>\n",
              "      <td>NaN</td>\n",
              "      <td>Democratic Republic of the Congo</td>\n",
              "      <td>CD</td>\n",
              "      <td>Democratic Republic of the Congo</td>\n",
              "      <td>NaN</td>\n",
              "      <td>NaN</td>\n",
              "      <td>NaN</td>\n",
              "      <td>NaN</td>\n",
              "      <td>NaN</td>\n",
              "      <td>NaN</td>\n",
              "    </tr>\n",
              "    <tr>\n",
              "      <th>5554</th>\n",
              "      <td>23600</td>\n",
              "      <td>Plantae</td>\n",
              "      <td>NaN</td>\n",
              "      <td>NaN</td>\n",
              "      <td>Cycadales</td>\n",
              "      <td>Zamiaceae</td>\n",
              "      <td>Encephalartos</td>\n",
              "      <td>marunguensis</td>\n",
              "      <td>NaN</td>\n",
              "      <td>Encephalartos marunguensis</td>\n",
              "      <td>Devred</td>\n",
              "      <td>SPECIES</td>\n",
              "      <td>I</td>\n",
              "      <td>NaN</td>\n",
              "      <td>Encephalartos spp.</td>\n",
              "      <td>NaN</td>\n",
              "      <td>NaN</td>\n",
              "      <td>Democratic Republic of the Congo</td>\n",
              "      <td>CD</td>\n",
              "      <td>Democratic Republic of the Congo</td>\n",
              "      <td>NaN</td>\n",
              "      <td>NaN</td>\n",
              "      <td>NaN</td>\n",
              "      <td>NaN</td>\n",
              "      <td>NaN</td>\n",
              "      <td>NaN</td>\n",
              "    </tr>\n",
              "    <tr>\n",
              "      <th>5567</th>\n",
              "      <td>25013</td>\n",
              "      <td>Plantae</td>\n",
              "      <td>NaN</td>\n",
              "      <td>NaN</td>\n",
              "      <td>Cycadales</td>\n",
              "      <td>Zamiaceae</td>\n",
              "      <td>Encephalartos</td>\n",
              "      <td>schaijesii</td>\n",
              "      <td>NaN</td>\n",
              "      <td>Encephalartos schaijesii</td>\n",
              "      <td>Malaisse, Sclavo &amp; Crosiers</td>\n",
              "      <td>SPECIES</td>\n",
              "      <td>I</td>\n",
              "      <td>NaN</td>\n",
              "      <td>Encephalartos spp.</td>\n",
              "      <td>NaN</td>\n",
              "      <td>NaN</td>\n",
              "      <td>Democratic Republic of the Congo</td>\n",
              "      <td>CD</td>\n",
              "      <td>Democratic Republic of the Congo</td>\n",
              "      <td>NaN</td>\n",
              "      <td>NaN</td>\n",
              "      <td>NaN</td>\n",
              "      <td>NaN</td>\n",
              "      <td>NaN</td>\n",
              "      <td>NaN</td>\n",
              "    </tr>\n",
              "  </tbody>\n",
              "</table>\n",
              "</div>"
            ],
            "text/plain": [
              "         Id   Kingdom  ... Extinct(?)_Distribution Distribution_Uncertain\n",
              "246    8333  Animalia  ...                     NaN                    NaN\n",
              "5554  23600   Plantae  ...                     NaN                    NaN\n",
              "5567  25013   Plantae  ...                     NaN                    NaN\n",
              "\n",
              "[3 rows x 26 columns]"
            ]
          },
          "metadata": {
            "tags": []
          },
          "execution_count": 23
        }
      ]
    },
    {
      "cell_type": "code",
      "metadata": {
        "id": "trgBvcre3XJl",
        "outputId": "5693cc54-3c4a-4e7f-d695-54b4e3c02b0f",
        "colab": {
          "base_uri": "https://localhost:8080/",
          "height": 257
        }
      },
      "source": [
        "cites_listings['fullNote'].value_counts()"
      ],
      "execution_count": null,
      "outputs": [
        {
          "output_type": "execute_result",
          "data": {
            "text/plain": [
              "**II** [FAMILY listing Orchidaceae spp.] Included in Appendix II, except for the species included in Appendix I. Additionally, artificially propagated hybrids of the following genera are not subject to the provisions of the Convention, if conditions, as indicated under a) and b), are met: Cymbidium, Dendrobium, Phalaenopsis and Vanda: a) Specimens are readily recognizable as artificially propagated and do not show any signs of having been collected in the wild such as mechanical damage or strong dehydration resulting from collection, irregular growth and heterogeneous size and shape within a taxon and shipment, algae or other epiphyllous organisms adhering to leaves, or damage by insects or other pests; and b) i) when shipped in non-flowering state, the specimens must be traded in shipments consisting of individual containers (such as cartons, boxes, crates or individual shelves of CC-containers) each containing 20 or more plants of the same hybrid; the plants within each container must exhibit a high degree of uniformity and healthiness; and the shipment must be accompanied by documentation, such as an invoice, which clearly states the number of plants of each hybrid; or ii) when shipped in flowering state, with at least one fully open flower per specimen, no minimum number of specimens per shipment is required but specimens must be professionally processed for commercial retail sale, e.g. labelled with printed labels or packaged with printed packages indicating the name of the hybrid and the country of final processing. This should be clearly visible and allow easy verification. Plants not clearly qualifying for the exemption must be accompanied by appropriate CITES documents.    2320\n",
              "**II** [ORDER listing Scleractinia spp.] Excludes fossils.                                                                                                                                                                                                                                                                                                                                                                                                                                                                                                                                                                                                                                                                                                                                                                                                                                                                                                                                                                                                                                                                                                                                                                                                                                                                                                                                                                                                                                                                                                                                                                                                                                                                                                                      640\n",
              "**II** [GENUS listing Euphorbia spp.] Succulent species only except Euphorbia misera and the species included in Appendix I. Artificially propagated specimens of cultivars of Euphorbia trigona, artificially propagated specimens of crested, fanshaped or colour mutants of Euphorbia lactea, when grafted on artificially propagated root stock of Euphorbia neriifolia, and artificially propagated specimens of cultivars of Euphorbia ‘Milii’ when they are traded in shipments of 100 or more plants and readily recognizable as artificially propagated specimens, are not subject to the provisions of the Convention.                                                                                                                                                                                                                                                                                                                                                                                                                                                                                                                                                                                                                                                                                                                                                                                                                                                                                                                                                                                                                                                                                                                                                587\n",
              "**II** [GENUS listing Aloe spp.] Except the species included in Appendix I. Also excludes Aloe vera, also referenced as Aloe barbadensis which is not included in the Appendices.                                                                                                                                                                                                                                                                                                                                                                                                                                                                                                                                                                                                                                                                                                                                                                                                                                                                                                                                                                                                                                                                                                                                                                                                                                                                                                                                                                                                                                                                                                                                                                                               413\n",
              "**II** [GENUS listing Dalbergia spp.] Except for the species listed in Appendix I                                                                                                                                                                                                                                                                                                                                                                                                                                                                                                                                                                                                                                                                                                                                                                                                                                                                                                                                                                                                                                                                                                                                                                                                                                                                                                                                                                                                                                                                                                                                                                                                                                                                                               112\n",
              "                                                                                                                                                                                                                                                                                                                                                                                                                                                                                                                                                                                                                                                                                                                                                                                                                                                                                                                                                                                                                                                                                                                                                                                                                                                                                                                                                                                                                                                                                                                                                                                                                                                                                                                                                                               ... \n",
              "**I** Included in Appendix I. Seedling or tissue cultures obtained in vitro, in solid or liquid media, and transported in sterile containers are not subject to the provisions of the Convention only if the specimens meet the definition of ‘artificially propagated’ agreed by the Conference of the Parties in Resolution Conf. 11.11 (Rev. CoP15), i.e. plant specimens: a) grown under controlled conditions; and b) grown from seeds, cuttings, divisions, callus tissues or other plant tissues, spores or other propagules that either are exempt from the provisions of the Convention or have been derived from cultivated parental stock.                                                                                                                                                                                                                                                                                                                                                                                                                                                                                                                                                                                                                                                                                                                                                                                                                                                                                                                                                                                                                                                                                                                             1\n",
              "**I** Included in Appendix I. Includes the varieties ampanihyensis, robinsonii and spirosticha.                                                                                                                                                                                                                                                                                                                                                                                                                                                                                                                                                                                                                                                                                                                                                                                                                                                                                                                                                                                                                                                                                                                                                                                                                                                                                                                                                                                                                                                                                                                                                                                                                                                                                   1\n",
              "**I** [GENUS listing Berardius spp.] Included in Berardius spp.                                                                                                                                                                                                                                                                                                                                                                                                                                                                                                                                                                                                                                                                                                                                                                                                                                                                                                                                                                                                                                                                                                                                                                                                                                                                                                                                                                                                                                                                                                                                                                                                                                                                                                                   1\n",
              "**I** Included in Appendix I. Includes the varieties antsingiensis, bemarahensis and multiflora.                                                                                                                                                                                                                                                                                                                                                                                                                                                                                                                                                                                                                                                                                                                                                                                                                                                                                                                                                                                                                                                                                                                                                                                                                                                                                                                                                                                                                                                                                                                                                                                                                                                                                  1\n",
              "**II** [GENUS listing Uromastyx spp.] Included in Uromastyx spp.                                                                                                                                                                                                                                                                                                                                                                                                                                                                                                                                                                                                                                                                                                                                                                                                                                                                                                                                                                                                                                                                                                                                                                                                                                                                                                                                                                                                                                                                                                                                                                                                                                                                                                                  1\n",
              "Name: fullNote, Length: 97, dtype: int64"
            ]
          },
          "metadata": {
            "tags": []
          },
          "execution_count": 15
        }
      ]
    },
    {
      "cell_type": "code",
      "metadata": {
        "id": "AvobLJ0gLhcl",
        "outputId": "966d33fc-829d-4317-cd86-69a10fe18049",
        "colab": {
          "base_uri": "https://localhost:8080/",
          "height": 146
        }
      },
      "source": [
        "cites_listings[ cites_listings.All_DistributionISOCodes.isin( crb_countries) & \n",
        "                cites_listings.Listing.isin( ['II'])].All_DistributionISOCodes.value_counts()"
      ],
      "execution_count": null,
      "outputs": [
        {
          "output_type": "execute_result",
          "data": {
            "text/plain": [
              "CD    60\n",
              "CM    47\n",
              "GA    21\n",
              "CF     9\n",
              "CG     8\n",
              "GQ     3\n",
              "Name: All_DistributionISOCodes, dtype: int64"
            ]
          },
          "metadata": {
            "tags": []
          },
          "execution_count": 24
        }
      ]
    },
    {
      "cell_type": "code",
      "metadata": {
        "id": "pvLaXoyYLs4W",
        "outputId": "46de1b45-dd47-48df-bd43-a42a20864a39",
        "colab": {
          "base_uri": "https://localhost:8080/",
          "height": 520
        }
      },
      "source": [
        "import seaborn as sns\n",
        "\n",
        "tempX = cites_listings[ cites_listings.All_DistributionISOCodes.isin( crb_countries)]\n",
        "tempY = cites_listings[ cites_listings.Listing.isin( ['II'])]\n",
        "\n",
        "x = 'All_DistributionISOCodes'\n",
        "y = 'Listing'\n",
        "data = cites_listings\n",
        "\n",
        "#sns.countplot( x= cites_listings.All_DistributionISOCodes.isin( crb_countries).value_counts(), \n",
        "#               hue= cites_listings.Listing);\n",
        "\n",
        "sns.pairplot( cites_listings, hue= 'Listing', height= 6);"
      ],
      "execution_count": null,
      "outputs": [
        {
          "output_type": "stream",
          "text": [
            "/usr/local/lib/python3.6/dist-packages/seaborn/distributions.py:288: UserWarning: Data must have variance to compute a kernel density estimate.\n",
            "  warnings.warn(msg, UserWarning)\n"
          ],
          "name": "stderr"
        },
        {
          "output_type": "display_data",
          "data": {
            "image/png": "[encoded data removed]",
            "text/plain": [
              "<Figure size 485.75x432 with 2 Axes>"
            ]
          },
          "metadata": {
            "tags": []
          }
        }
      ]
    },
    {
      "cell_type": "code",
      "metadata": {
        "id": "GbBXHXSIkc4s",
        "outputId": "1f240b13-7551-41b2-cebc-e229aa0b36b5",
        "colab": {
          "base_uri": "https://localhost:8080/",
          "height": 355
        }
      },
      "source": [
        "tempX.sample(3)"
      ],
      "execution_count": null,
      "outputs": [
        {
          "output_type": "execute_result",
          "data": {
            "text/html": [
              "<div>\n",
              "<style scoped>\n",
              "    .dataframe tbody tr th:only-of-type {\n",
              "        vertical-align: middle;\n",
              "    }\n",
              "\n",
              "    .dataframe tbody tr th {\n",
              "        vertical-align: top;\n",
              "    }\n",
              "\n",
              "    .dataframe thead th {\n",
              "        text-align: right;\n",
              "    }\n",
              "</style>\n",
              "<table border=\"1\" class=\"dataframe\">\n",
              "  <thead>\n",
              "    <tr style=\"text-align: right;\">\n",
              "      <th></th>\n",
              "      <th>Id</th>\n",
              "      <th>Kingdom</th>\n",
              "      <th>Phylum</th>\n",
              "      <th>Class</th>\n",
              "      <th>Order</th>\n",
              "      <th>Family</th>\n",
              "      <th>Genus</th>\n",
              "      <th>Species</th>\n",
              "      <th>Subspecies</th>\n",
              "      <th>Scientific Name</th>\n",
              "      <th>Author</th>\n",
              "      <th>Rank</th>\n",
              "      <th>Listing</th>\n",
              "      <th>Party</th>\n",
              "      <th>Listed under</th>\n",
              "      <th>Full note</th>\n",
              "      <th># Full note</th>\n",
              "      <th>All_DistributionFullNames</th>\n",
              "      <th>All_DistributionISOCodes</th>\n",
              "      <th>NativeDistributionFullNames</th>\n",
              "      <th>Introduced_Distribution</th>\n",
              "      <th>Introduced(?)_Distribution</th>\n",
              "      <th>Reintroduced_Distribution</th>\n",
              "      <th>Extinct_Distribution</th>\n",
              "      <th>Extinct(?)_Distribution</th>\n",
              "      <th>Distribution_Uncertain</th>\n",
              "    </tr>\n",
              "  </thead>\n",
              "  <tbody>\n",
              "    <tr>\n",
              "      <th>4396</th>\n",
              "      <td>80822</td>\n",
              "      <td>Plantae</td>\n",
              "      <td>NaN</td>\n",
              "      <td>NaN</td>\n",
              "      <td>Orchidales</td>\n",
              "      <td>Orchidaceae</td>\n",
              "      <td>Eulophia</td>\n",
              "      <td>sylviae</td>\n",
              "      <td>NaN</td>\n",
              "      <td>Eulophia sylviae</td>\n",
              "      <td>Geerinck, 1990</td>\n",
              "      <td>SPECIES</td>\n",
              "      <td>II</td>\n",
              "      <td>NaN</td>\n",
              "      <td>Orchidaceae spp.</td>\n",
              "      <td>**II** [FAMILY listing Orchidaceae spp.] Inclu...</td>\n",
              "      <td>**II** #4 All parts and derivatives, except: a...</td>\n",
              "      <td>Democratic Republic of the Congo</td>\n",
              "      <td>CD</td>\n",
              "      <td>Democratic Republic of the Congo</td>\n",
              "      <td>NaN</td>\n",
              "      <td>NaN</td>\n",
              "      <td>NaN</td>\n",
              "      <td>NaN</td>\n",
              "      <td>NaN</td>\n",
              "      <td>NaN</td>\n",
              "    </tr>\n",
              "    <tr>\n",
              "      <th>1862</th>\n",
              "      <td>26063</td>\n",
              "      <td>Plantae</td>\n",
              "      <td>NaN</td>\n",
              "      <td>NaN</td>\n",
              "      <td>Cyatheales</td>\n",
              "      <td>Cyatheaceae</td>\n",
              "      <td>Alsophila</td>\n",
              "      <td>loubetiana</td>\n",
              "      <td>NaN</td>\n",
              "      <td>Alsophila loubetiana</td>\n",
              "      <td>L.Linden 1900</td>\n",
              "      <td>SPECIES</td>\n",
              "      <td>II</td>\n",
              "      <td>NaN</td>\n",
              "      <td>Alsophila spp.</td>\n",
              "      <td>**II** [GENUS listing Alsophila spp.] Listed u...</td>\n",
              "      <td>**II** #4 All parts and derivatives, except:\\n...</td>\n",
              "      <td>Congo</td>\n",
              "      <td>CG</td>\n",
              "      <td>Congo</td>\n",
              "      <td>NaN</td>\n",
              "      <td>NaN</td>\n",
              "      <td>NaN</td>\n",
              "      <td>NaN</td>\n",
              "      <td>NaN</td>\n",
              "      <td>NaN</td>\n",
              "    </tr>\n",
              "    <tr>\n",
              "      <th>3654</th>\n",
              "      <td>29197</td>\n",
              "      <td>Plantae</td>\n",
              "      <td>NaN</td>\n",
              "      <td>NaN</td>\n",
              "      <td>Orchidales</td>\n",
              "      <td>Orchidaceae</td>\n",
              "      <td>Bulbophyllum</td>\n",
              "      <td>hirsutissimum</td>\n",
              "      <td>NaN</td>\n",
              "      <td>Bulbophyllum hirsutissimum</td>\n",
              "      <td>Kraenzl.</td>\n",
              "      <td>SPECIES</td>\n",
              "      <td>II</td>\n",
              "      <td>NaN</td>\n",
              "      <td>Orchidaceae spp.</td>\n",
              "      <td>**II** [FAMILY listing Orchidaceae spp.] Inclu...</td>\n",
              "      <td>**II** #4 All parts and derivatives, except: a...</td>\n",
              "      <td>Cameroon</td>\n",
              "      <td>CM</td>\n",
              "      <td>Cameroon</td>\n",
              "      <td>NaN</td>\n",
              "      <td>NaN</td>\n",
              "      <td>NaN</td>\n",
              "      <td>NaN</td>\n",
              "      <td>NaN</td>\n",
              "      <td>NaN</td>\n",
              "    </tr>\n",
              "  </tbody>\n",
              "</table>\n",
              "</div>"
            ],
            "text/plain": [
              "         Id  Kingdom  ... Extinct(?)_Distribution Distribution_Uncertain\n",
              "4396  80822  Plantae  ...                     NaN                    NaN\n",
              "1862  26063  Plantae  ...                     NaN                    NaN\n",
              "3654  29197  Plantae  ...                     NaN                    NaN\n",
              "\n",
              "[3 rows x 26 columns]"
            ]
          },
          "metadata": {
            "tags": []
          },
          "execution_count": 98
        }
      ]
    },
    {
      "cell_type": "code",
      "metadata": {
        "id": "xKvj4LihpYfK",
        "outputId": "c76976dc-d68e-4b4a-8b42-dd2f2baf2795",
        "colab": {
          "base_uri": "https://localhost:8080/",
          "height": 391
        }
      },
      "source": [
        "tempX[ cites_listings.Listing.isin( ['I'])].sample(3)"
      ],
      "execution_count": null,
      "outputs": [
        {
          "output_type": "stream",
          "text": [
            "/usr/local/lib/python3.6/dist-packages/ipykernel_launcher.py:1: UserWarning: Boolean Series key will be reindexed to match DataFrame index.\n",
            "  \"\"\"Entry point for launching an IPython kernel.\n"
          ],
          "name": "stderr"
        },
        {
          "output_type": "execute_result",
          "data": {
            "text/html": [
              "<div>\n",
              "<style scoped>\n",
              "    .dataframe tbody tr th:only-of-type {\n",
              "        vertical-align: middle;\n",
              "    }\n",
              "\n",
              "    .dataframe tbody tr th {\n",
              "        vertical-align: top;\n",
              "    }\n",
              "\n",
              "    .dataframe thead th {\n",
              "        text-align: right;\n",
              "    }\n",
              "</style>\n",
              "<table border=\"1\" class=\"dataframe\">\n",
              "  <thead>\n",
              "    <tr style=\"text-align: right;\">\n",
              "      <th></th>\n",
              "      <th>Id</th>\n",
              "      <th>Kingdom</th>\n",
              "      <th>Phylum</th>\n",
              "      <th>Class</th>\n",
              "      <th>Order</th>\n",
              "      <th>Family</th>\n",
              "      <th>Genus</th>\n",
              "      <th>Species</th>\n",
              "      <th>Subspecies</th>\n",
              "      <th>Scientific Name</th>\n",
              "      <th>Author</th>\n",
              "      <th>Rank</th>\n",
              "      <th>Listing</th>\n",
              "      <th>Party</th>\n",
              "      <th>Listed under</th>\n",
              "      <th>Full note</th>\n",
              "      <th># Full note</th>\n",
              "      <th>All_DistributionFullNames</th>\n",
              "      <th>All_DistributionISOCodes</th>\n",
              "      <th>NativeDistributionFullNames</th>\n",
              "      <th>Introduced_Distribution</th>\n",
              "      <th>Introduced(?)_Distribution</th>\n",
              "      <th>Reintroduced_Distribution</th>\n",
              "      <th>Extinct_Distribution</th>\n",
              "      <th>Extinct(?)_Distribution</th>\n",
              "      <th>Distribution_Uncertain</th>\n",
              "    </tr>\n",
              "  </thead>\n",
              "  <tbody>\n",
              "    <tr>\n",
              "      <th>5567</th>\n",
              "      <td>25013</td>\n",
              "      <td>Plantae</td>\n",
              "      <td>NaN</td>\n",
              "      <td>NaN</td>\n",
              "      <td>Cycadales</td>\n",
              "      <td>Zamiaceae</td>\n",
              "      <td>Encephalartos</td>\n",
              "      <td>schaijesii</td>\n",
              "      <td>NaN</td>\n",
              "      <td>Encephalartos schaijesii</td>\n",
              "      <td>Malaisse, Sclavo &amp; Crosiers</td>\n",
              "      <td>SPECIES</td>\n",
              "      <td>I</td>\n",
              "      <td>NaN</td>\n",
              "      <td>Encephalartos spp.</td>\n",
              "      <td>NaN</td>\n",
              "      <td>NaN</td>\n",
              "      <td>Democratic Republic of the Congo</td>\n",
              "      <td>CD</td>\n",
              "      <td>Democratic Republic of the Congo</td>\n",
              "      <td>NaN</td>\n",
              "      <td>NaN</td>\n",
              "      <td>NaN</td>\n",
              "      <td>NaN</td>\n",
              "      <td>NaN</td>\n",
              "      <td>NaN</td>\n",
              "    </tr>\n",
              "    <tr>\n",
              "      <th>5554</th>\n",
              "      <td>23600</td>\n",
              "      <td>Plantae</td>\n",
              "      <td>NaN</td>\n",
              "      <td>NaN</td>\n",
              "      <td>Cycadales</td>\n",
              "      <td>Zamiaceae</td>\n",
              "      <td>Encephalartos</td>\n",
              "      <td>marunguensis</td>\n",
              "      <td>NaN</td>\n",
              "      <td>Encephalartos marunguensis</td>\n",
              "      <td>Devred</td>\n",
              "      <td>SPECIES</td>\n",
              "      <td>I</td>\n",
              "      <td>NaN</td>\n",
              "      <td>Encephalartos spp.</td>\n",
              "      <td>NaN</td>\n",
              "      <td>NaN</td>\n",
              "      <td>Democratic Republic of the Congo</td>\n",
              "      <td>CD</td>\n",
              "      <td>Democratic Republic of the Congo</td>\n",
              "      <td>NaN</td>\n",
              "      <td>NaN</td>\n",
              "      <td>NaN</td>\n",
              "      <td>NaN</td>\n",
              "      <td>NaN</td>\n",
              "      <td>NaN</td>\n",
              "    </tr>\n",
              "    <tr>\n",
              "      <th>246</th>\n",
              "      <td>8333</td>\n",
              "      <td>Animalia</td>\n",
              "      <td>Chordata</td>\n",
              "      <td>Mammalia</td>\n",
              "      <td>Primates</td>\n",
              "      <td>Hominidae</td>\n",
              "      <td>Pan</td>\n",
              "      <td>paniscus</td>\n",
              "      <td>NaN</td>\n",
              "      <td>Pan paniscus</td>\n",
              "      <td>Schwartz, 1929</td>\n",
              "      <td>SPECIES</td>\n",
              "      <td>I</td>\n",
              "      <td>NaN</td>\n",
              "      <td>Pan spp.</td>\n",
              "      <td>**I** [GENUS listing Pan spp.] Included in Pan...</td>\n",
              "      <td>NaN</td>\n",
              "      <td>Democratic Republic of the Congo</td>\n",
              "      <td>CD</td>\n",
              "      <td>Democratic Republic of the Congo</td>\n",
              "      <td>NaN</td>\n",
              "      <td>NaN</td>\n",
              "      <td>NaN</td>\n",
              "      <td>NaN</td>\n",
              "      <td>NaN</td>\n",
              "      <td>NaN</td>\n",
              "    </tr>\n",
              "  </tbody>\n",
              "</table>\n",
              "</div>"
            ],
            "text/plain": [
              "         Id   Kingdom  ... Extinct(?)_Distribution Distribution_Uncertain\n",
              "5567  25013   Plantae  ...                     NaN                    NaN\n",
              "5554  23600   Plantae  ...                     NaN                    NaN\n",
              "246    8333  Animalia  ...                     NaN                    NaN\n",
              "\n",
              "[3 rows x 26 columns]"
            ]
          },
          "metadata": {
            "tags": []
          },
          "execution_count": 99
        }
      ]
    },
    {
      "cell_type": "code",
      "metadata": {
        "id": "gl711qaCwCdc",
        "outputId": "90adc417-48a1-4f95-e15f-11bc87d365a1",
        "colab": {
          "base_uri": "https://localhost:8080/",
          "height": 288
        }
      },
      "source": [
        "cites_listings[ cites_listings[ \"Scientific Name\"].isin( demoList_NEW)]"
      ],
      "execution_count": null,
      "outputs": [
        {
          "output_type": "execute_result",
          "data": {
            "text/html": [
              "<div>\n",
              "<style scoped>\n",
              "    .dataframe tbody tr th:only-of-type {\n",
              "        vertical-align: middle;\n",
              "    }\n",
              "\n",
              "    .dataframe tbody tr th {\n",
              "        vertical-align: top;\n",
              "    }\n",
              "\n",
              "    .dataframe thead th {\n",
              "        text-align: right;\n",
              "    }\n",
              "</style>\n",
              "<table border=\"1\" class=\"dataframe\">\n",
              "  <thead>\n",
              "    <tr style=\"text-align: right;\">\n",
              "      <th></th>\n",
              "      <th>Id</th>\n",
              "      <th>Kingdom</th>\n",
              "      <th>Phylum</th>\n",
              "      <th>Class</th>\n",
              "      <th>Order</th>\n",
              "      <th>Family</th>\n",
              "      <th>Genus</th>\n",
              "      <th>Species</th>\n",
              "      <th>Subspecies</th>\n",
              "      <th>Scientific Name</th>\n",
              "      <th>Author</th>\n",
              "      <th>Rank</th>\n",
              "      <th>Listing</th>\n",
              "      <th>Party</th>\n",
              "      <th>Listed under</th>\n",
              "      <th>Full note</th>\n",
              "      <th># Full note</th>\n",
              "      <th>All_DistributionFullNames</th>\n",
              "      <th>All_DistributionISOCodes</th>\n",
              "      <th>NativeDistributionFullNames</th>\n",
              "      <th>Introduced_Distribution</th>\n",
              "      <th>Introduced(?)_Distribution</th>\n",
              "      <th>Reintroduced_Distribution</th>\n",
              "      <th>Extinct_Distribution</th>\n",
              "      <th>Extinct(?)_Distribution</th>\n",
              "      <th>Distribution_Uncertain</th>\n",
              "    </tr>\n",
              "  </thead>\n",
              "  <tbody>\n",
              "    <tr>\n",
              "      <th>246</th>\n",
              "      <td>8333</td>\n",
              "      <td>Animalia</td>\n",
              "      <td>Chordata</td>\n",
              "      <td>Mammalia</td>\n",
              "      <td>Primates</td>\n",
              "      <td>Hominidae</td>\n",
              "      <td>Pan</td>\n",
              "      <td>paniscus</td>\n",
              "      <td>NaN</td>\n",
              "      <td>Pan paniscus</td>\n",
              "      <td>Schwartz, 1929</td>\n",
              "      <td>SPECIES</td>\n",
              "      <td>I</td>\n",
              "      <td>NaN</td>\n",
              "      <td>Pan spp.</td>\n",
              "      <td>**I** [GENUS listing Pan spp.] Included in Pan...</td>\n",
              "      <td>NaN</td>\n",
              "      <td>Democratic Republic of the Congo</td>\n",
              "      <td>CD</td>\n",
              "      <td>Democratic Republic of the Congo</td>\n",
              "      <td>NaN</td>\n",
              "      <td>NaN</td>\n",
              "      <td>NaN</td>\n",
              "      <td>NaN</td>\n",
              "      <td>NaN</td>\n",
              "      <td>NaN</td>\n",
              "    </tr>\n",
              "    <tr>\n",
              "      <th>289</th>\n",
              "      <td>9369</td>\n",
              "      <td>Animalia</td>\n",
              "      <td>Chordata</td>\n",
              "      <td>Mammalia</td>\n",
              "      <td>Primates</td>\n",
              "      <td>Lorisidae</td>\n",
              "      <td>Pseudopotto</td>\n",
              "      <td>martini</td>\n",
              "      <td>NaN</td>\n",
              "      <td>Pseudopotto martini</td>\n",
              "      <td>Schwartz, 1996</td>\n",
              "      <td>SPECIES</td>\n",
              "      <td>II</td>\n",
              "      <td>NaN</td>\n",
              "      <td>Primates spp.</td>\n",
              "      <td>NaN</td>\n",
              "      <td>NaN</td>\n",
              "      <td>Cameroon</td>\n",
              "      <td>CM</td>\n",
              "      <td>NaN</td>\n",
              "      <td>NaN</td>\n",
              "      <td>NaN</td>\n",
              "      <td>NaN</td>\n",
              "      <td>NaN</td>\n",
              "      <td>NaN</td>\n",
              "      <td>Cameroon</td>\n",
              "    </tr>\n",
              "  </tbody>\n",
              "</table>\n",
              "</div>"
            ],
            "text/plain": [
              "       Id   Kingdom  ... Extinct(?)_Distribution Distribution_Uncertain\n",
              "246  8333  Animalia  ...                     NaN                    NaN\n",
              "289  9369  Animalia  ...                     NaN               Cameroon\n",
              "\n",
              "[2 rows x 26 columns]"
            ]
          },
          "metadata": {
            "tags": []
          },
          "execution_count": 75
        }
      ]
    },
    {
      "cell_type": "code",
      "metadata": {
        "id": "b0oa02aW227b",
        "outputId": "a3913feb-dc88-4635-92f8-80ef02771261",
        "colab": {
          "base_uri": "https://localhost:8080/",
          "height": 35
        }
      },
      "source": [
        "cites_listings.shape"
      ],
      "execution_count": null,
      "outputs": [
        {
          "output_type": "execute_result",
          "data": {
            "text/plain": [
              "(5581, 26)"
            ]
          },
          "metadata": {
            "tags": []
          },
          "execution_count": 89
        }
      ]
    }
  ]
}