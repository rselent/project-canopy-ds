{
  "nbformat": 4,
  "nbformat_minor": 0,
  "metadata": {
    "colab": {
      "name": "canopyDatabase.ipynb",
      "provenance": [],
      "collapsed_sections": [
        "TrFeVl_bL30B",
        "9r5TbEHNQNNm",
        "clf_Mii-TM7W",
        "jQG3MSZPUI7Y",
        "_QDhuBHk1G1-",
        "2Pb_VtC03QAt",
        "BCSYPl712njH",
        "yuq_HUn-VpxT",
        "G0_4K99rVw8B",
        "64Hm10dL2tY6",
        "a59xmEjY2yWC",
        "qJ20zCqy24Sv",
        "RX7q3-Yz27I4",
        "1ak-2-ts2_rX",
        "UhWbwid21gJa",
        "w7HtPg5y6p44",
        "0r_DFnVRW247",
        "0GgHfLLN5QtD",
        "61uivUgv5m-e",
        "7w0Bfk585i6K",
        "yBVG50Mm5irB",
        "phu03OuT5igV",
        "ypFRUYUR5h-R",
        "SPCXhJ5_Z0Xu",
        "Le77WDrt4zmA",
        "QuAOGBh_4HMz",
        "Q0CmV2QhGQfo",
        "jnaypSjtQuRQ",
        "dDgxkh24cIle"
      ],
      "machine_shape": "hm",
      "authorship_tag": "ABX9TyO4O3nxYqZ8mPxTIuLnQX68",
      "include_colab_link": true
    },
    "kernelspec": {
      "name": "python3",
      "display_name": "Python 3"
    }
  },
  "cells": [
    {
      "cell_type": "markdown",
      "metadata": {
        "id": "view-in-github",
        "colab_type": "text"
      },
      "source": [
        "<a href=\"https://colab.research.google.com/github/rselent/project-canopy-ds/blob/master/notebooks/canopyCreateDatabase.ipynb\" target=\"_parent\"><img src=\"https://colab.research.google.com/assets/colab-badge.svg\" alt=\"Open In Colab\"/></a>"
      ]
    },
    {
      "cell_type": "markdown",
      "metadata": {
        "id": "xoB_itPwL8ZY"
      },
      "source": [
        "# .ENV SUPPORT\n",
        "\n",
        "#### (\\*\\*\\*RUN ME FIRST IF USING COLAB***)"
      ]
    },
    {
      "cell_type": "code",
      "metadata": {
        "id": "jyVZ_wWWGGRz",
        "outputId": "913d02c8-b709-41da-de7b-ac1329b0e69a",
        "colab": {
          "base_uri": "https://localhost:8080/",
          "height": 35
        }
      },
      "source": [
        "!pip install colab-env -qU"
      ],
      "execution_count": null,
      "outputs": [
        {
          "output_type": "stream",
          "text": [
            "  Building wheel for colab-env (setup.py) ... \u001b[?25l\u001b[?25hdone\n"
          ],
          "name": "stdout"
        }
      ]
    },
    {
      "cell_type": "code",
      "metadata": {
        "id": "m5_4Eh4_ByJA",
        "outputId": "1f588f84-eff5-4988-e130-814e0ba3dfda",
        "colab": {
          "base_uri": "https://localhost:8080/",
          "height": 129
        }
      },
      "source": [
        "import colab_env"
      ],
      "execution_count": null,
      "outputs": [
        {
          "output_type": "stream",
          "text": [
            "Go to this URL in a browser: https://accounts.google.com/o/oauth2/auth?client_id=947318989803-6bn6qk8qdgf4n4g3pfee6491hc0brc4i.apps.googleusercontent.com&redirect_uri=urn%3aietf%3awg%3aoauth%3a2.0%3aoob&response_type=code&scope=email%20https%3a%2f%2fwww.googleapis.com%2fauth%2fdocs.test%20https%3a%2f%2fwww.googleapis.com%2fauth%2fdrive%20https%3a%2f%2fwww.googleapis.com%2fauth%2fdrive.photos.readonly%20https%3a%2f%2fwww.googleapis.com%2fauth%2fpeopleapi.readonly\n",
            "\n",
            "Enter your authorization code:\n",
            "··········\n",
            "Mounted at /content/gdrive\n"
          ],
          "name": "stdout"
        }
      ]
    },
    {
      "cell_type": "code",
      "metadata": {
        "id": "84rlgOnqHG13"
      },
      "source": [
        "## USE COLAB_ENV TO CREATE/LOAD LOCAL FILE 'VARS.ENV'\n",
        "## (token was saved to file using this library/method)\n",
        "\n",
        "## CREATES vars.env in root directory of google Drive\n",
        "\n",
        " from colab_env import envvar_handler\n",
        "# help( envvar_handler.add_env)\n",
        "# help( envvar_handler.envload)"
      ],
      "execution_count": null,
      "outputs": []
    },
    {
      "cell_type": "markdown",
      "metadata": {
        "id": "RHLSeeGkQmX4"
      },
      "source": [
        "# BUILDING DATABASE:"
      ]
    },
    {
      "cell_type": "markdown",
      "metadata": {
        "id": "VZFMC2SsVu_g"
      },
      "source": [
        "#### Setup and Imports:"
      ]
    },
    {
      "cell_type": "code",
      "metadata": {
        "id": "twwD6wLF-3HR"
      },
      "source": [
        "%%capture\n",
        "github_link = 'https://raw.githubusercontent.com/Lambda-School-Labs/project-canopy-ds/master/data/source_data/iucn/'\n",
        "github_link_cites = 'https://raw.githubusercontent.com/Lambda-School-Labs/project-canopy-ds/master/data/source_data/cites/'\n",
        "\n",
        "!wget -P datasets/ 'https://raw.githubusercontent.com/Lambda-School-Labs/project-canopy-ds/master/data/clean_data/assessments.csv'\n",
        "!wget -P datasets/ 'https://raw.githubusercontent.com/Lambda-School-Labs/project-canopy-ds/master/data/clean_data/common_names.csv'\n",
        "!wget -P datasets/ 'https://raw.githubusercontent.com/Lambda-School-Labs/project-canopy-ds/master/data/clean_data/taxonomy.csv'\n",
        "!wget -P datasets/ 'https://raw.githubusercontent.com/Lambda-School-Labs/project-canopy-ds/master/data/clean_data/conservation_needed.csv'\n",
        "!wget -P datasets/ 'https://raw.githubusercontent.com/Lambda-School-Labs/project-canopy-ds/master/data/clean_data/countries.csv'\n",
        "!wget -P datasets/ 'https://raw.githubusercontent.com/Lambda-School-Labs/project-canopy-ds/master/data/clean_data/habitats.csv'\n",
        "!wget -P datasets/ 'https://raw.githubusercontent.com/Lambda-School-Labs/project-canopy-ds/master/data/clean_data/research_needed.csv'\n",
        "!wget -P datasets/ 'https://raw.githubusercontent.com/Lambda-School-Labs/project-canopy-ds/master/data/clean_data/threats.csv'\n",
        "!wget -P datasets/ 'https://raw.githubusercontent.com/Lambda-School-Labs/project-canopy-ds/master/data/clean_data/usetrade.csv'\n",
        "!wget -P datasets/ 'https://raw.githubusercontent.com/Lambda-School-Labs/project-canopy-ds/master/data/clean_data/cites_listings.csv'\n"
      ],
      "execution_count": null,
      "outputs": []
    },
    {
      "cell_type": "code",
      "metadata": {
        "id": "so9UDIyO6dyQ"
      },
      "source": [
        "%%capture\n",
        "!pip install --upgrade flask_sqlalchemy"
      ],
      "execution_count": null,
      "outputs": []
    },
    {
      "cell_type": "code",
      "metadata": {
        "id": "niHA6SfszBp6"
      },
      "source": [
        "\n",
        "import os\n",
        "import flask_sqlalchemy\n",
        "import sqlalchemy\n",
        "import psycopg2\n",
        "import pandas as pd\n",
        "import numpy as np\n",
        "\n",
        "from flask import Flask\n",
        "from flask_sqlalchemy import SQLAlchemy\n",
        "from sqlalchemy import create_engine\n"
      ],
      "execution_count": null,
      "outputs": []
    },
    {
      "cell_type": "code",
      "metadata": {
        "id": "3lgpTTcsl6Dx"
      },
      "source": [
        "\n",
        "# ALL VARIABLE CREDENTIALS SET TO PULL FROM ENV FILE\n",
        "AWS_CANOPY_USER = os.getenv( \"AWS_CANOPY_USER\")\n",
        "AWS_CANOPY_PW = os.getenv( \"AWS_CANOPY_PW\")\n",
        "AWS_CANOPY_HOST = os.getenv( \"AWS_CANOPY_HOST\")\n",
        "AWS_CANOPY_PORT = os.getenv( \"AWS_CANOPY_PORT\")\n",
        "AWS_CANOPY_DBNAME = os.getenv( \"AWS_CANOPY_DBNAME\")\n",
        "\n",
        "# instantiating above credentials in SQLA postgres URI format\n",
        "URL = 'postgresql://{}:{}@{}:{}/{}'.format( AWS_CANOPY_USER, \n",
        "                                            AWS_CANOPY_PW, \n",
        "                                            AWS_CANOPY_HOST, \n",
        "                                            AWS_CANOPY_PORT, \n",
        "                                            AWS_CANOPY_DBNAME\n",
        ")\n",
        "\n",
        "app = Flask( __name__)\n",
        "app.config[ 'SQLALCHEMY_DATABASE_URI'] = URL\n",
        "app.config[ 'SQLALCHEMY_TRACK_MODIFICATIONS'] = False\n",
        "\n",
        "DB = SQLAlchemy( app)\n",
        "engine = DB.create_engine( URL, {})\n",
        "curse = engine.connect()"
      ],
      "execution_count": null,
      "outputs": []
    },
    {
      "cell_type": "markdown",
      "metadata": {
        "id": "qF67ujWaVf5Z"
      },
      "source": [
        "#### Database Schema:"
      ]
    },
    {
      "cell_type": "code",
      "metadata": {
        "id": "8FwpPYkvsuX7"
      },
      "source": [
        "# putting each table declaration into its own cell, to aid potential troubleshooting\n",
        "\n",
        "class Assessments( DB.Model):\n",
        "    assessmentId = DB.Column( DB.Numeric( 12, 0), nullable= False)\n",
        "    internalTaxonId = DB.Column( DB.Numeric( 12, 0), nullable= False)\n",
        "    scientificName = DB.Column( DB.String(), nullable= False, primary_key= True)\n",
        "    redlistCategory = DB.Column( DB.String(), nullable= False)\n",
        "    redlistCriteria = DB.Column( DB.String())\n",
        "    yearPublished = DB.Column( DB.Numeric( 4, 0), nullable= False)\n",
        "    assessmentDate = DB.Column( DB.String(), nullable= False)\n",
        "    criteriaVersion = DB.Column( DB.Numeric( 4, 0), nullable= False)\n",
        "    language = DB.Column( DB.String())\n",
        "    rationale = DB.Column( DB.String())\n",
        "    habitat = DB.Column( DB.String())\n",
        "    threats = DB.Column( DB.String())\n",
        "    population = DB.Column( DB.String())\n",
        "    populationTrend = DB.Column( DB.String())\n",
        "    range = DB.Column( DB.String())\n",
        "    useTrade = DB.Column( DB.String())\n",
        "    systems = DB.Column( DB.String())\n",
        "    conservationActions = DB.Column( DB.String())\n",
        "    realm = DB.Column( DB.String())\n",
        "    yearLastSeen = DB.Column( DB.String())\n",
        "    possiblyExtinct = DB.Column( DB.Boolean())\n",
        "    possiblyExtinctInTheWild = DB.Column( DB.Boolean())\n",
        "    scopes = DB.Column( DB.String())\n",
        "\n",
        "    def __repr__( self):\n",
        "        return '<Assessment for {}>'.format( self.scientificName)"
      ],
      "execution_count": null,
      "outputs": []
    },
    {
      "cell_type": "code",
      "metadata": {
        "id": "tBddCQD8iv9a"
      },
      "source": [
        "\n",
        "class CommonNames( DB.Model):\n",
        "#    __tablename__ = 'commonNames'          # not sure if this is wise just yet\n",
        "                                            # (maybe in a later update/release)\n",
        "    index = DB.Column( DB.Numeric, primary_key= True)\n",
        "    internalTaxonId = DB.Column( DB.Numeric( 12, 0), nullable= False)\n",
        "    scientificName = DB.Column( DB.String(), \n",
        "                                #DB.ForeignKey( 'assessments.scientificName'),          # foreign key assignment rolled back in all tables\n",
        "                                nullable= False                                         # due to irregular data (species that exist in one table\n",
        "    )                                                                                   # don't necessarily exist in another, it seems -- violates\n",
        "    name = DB.Column( DB.String(), nullable= False)                                     # database laws or some such?)\n",
        "    language = DB.Column( DB.String(), nullable= False)\n",
        "    main = DB.Column( DB.Boolean, nullable= False)\n",
        "\n",
        "    def __repr__( self):\n",
        "        return '<Common names for {}>'.format( self.scientificName)"
      ],
      "execution_count": null,
      "outputs": []
    },
    {
      "cell_type": "code",
      "metadata": {
        "id": "wwTjNESsiv5Y"
      },
      "source": [
        "\n",
        "class Taxonomy( DB.Model):\n",
        "    internalTaxonId = DB.Column( DB.Numeric( 12, 0), nullable= False)\n",
        "    scientificName = DB.Column( DB.String(), \n",
        "                                #DB.ForeignKey( 'assessments.scientificName'), \n",
        "                                nullable= False, primary_key= True\n",
        "    )\n",
        "    kingdomName = DB.Column( DB.String(), nullable= False)\n",
        "    phylumName = DB.Column( DB.String(), nullable= False)\n",
        "    orderName = DB.Column( DB.String(), nullable= False)\n",
        "    className = DB.Column( DB.String(), nullable= False)\n",
        "    familyName = DB.Column( DB.String(), nullable= False)\n",
        "    genusName = DB.Column( DB.String(), nullable= False)\n",
        "    speciesName = DB.Column( DB.String(), nullable= False)\n",
        "    infraType = DB.Column( DB.String())\n",
        "    infraName = DB.Column( DB.String())\n",
        "    infraAuthority = DB.Column( DB.String())\n",
        "    subpopulationName = DB.Column( DB.String())\n",
        "    authority = DB.Column( DB.String())\n",
        "    taxonomicNotes = DB.Column( DB.String())\n",
        "\n",
        "    def __repr__( self):\n",
        "        return '<Taxonomy for {}>'.format( self.scientificName)"
      ],
      "execution_count": null,
      "outputs": []
    },
    {
      "cell_type": "code",
      "metadata": {
        "id": "NFMgW6vdiv1f"
      },
      "source": [
        "\n",
        "class ConservationNeeded( DB.Model):\n",
        "    index = DB.Column( DB.Numeric, primary_key= True)\n",
        "    assessmentId = DB.Column( DB.Numeric( 12, 0), nullable= False)\n",
        "    internalTaxonId = DB.Column( DB.Numeric( 12, 0), nullable= False)\n",
        "    scientificName = DB.Column( DB.String(), \n",
        "                                #DB.ForeignKey( 'assessments.scientificName'), \n",
        "                                nullable= False\n",
        "    )\n",
        "    code = DB.Column( DB.String(), nullable= False)\n",
        "    name = DB.Column( DB.String(), nullable= False)\n",
        "    note = DB.Column( DB.String())\n",
        "\n",
        "    def __repr__( self):\n",
        "        return '<Conservation needed for {}>'.format( self.scientificName)"
      ],
      "execution_count": null,
      "outputs": []
    },
    {
      "cell_type": "code",
      "metadata": {
        "id": "0CTUZvMEivxc"
      },
      "source": [
        "\n",
        "class Countries( DB.Model):\n",
        "    index = DB.Column( DB.Numeric, primary_key= True)\n",
        "    assessmentId = DB.Column( DB.Numeric( 12, 0), nullable= False)\n",
        "    internalTaxonId = DB.Column( DB.Numeric( 12, 0), nullable= False)\n",
        "    scientificName = DB.Column( DB.String(), \n",
        "                                #DB.ForeignKey( 'assessments.scientificName'), \n",
        "                                nullable= False\n",
        "    )\n",
        "    code = DB.Column( DB.String(), nullable= False)\n",
        "    name = DB.Column( DB.String(), nullable= False)\n",
        "    presence = DB.Column( DB.String())\n",
        "    origin = DB.Column( DB.String())\n",
        "    seasonality = DB.Column( DB.String())\n",
        "    formerlyBred = DB.Column( DB.String())\n",
        "\n",
        "    def __repr__( self):\n",
        "        return '<Countries that {} can be found in>'.format( self.scientificName)"
      ],
      "execution_count": null,
      "outputs": []
    },
    {
      "cell_type": "code",
      "metadata": {
        "id": "a0KGz8z7ivrA"
      },
      "source": [
        "\n",
        "class Habitats( DB.Model):\n",
        "    index = DB.Column( DB.Numeric, primary_key= True)\n",
        "    assessmentId = DB.Column( DB.Numeric( 12, 0), nullable= False)\n",
        "    internalTaxonId = DB.Column( DB.Numeric( 12, 0), nullable= False)\n",
        "    scientificName = DB.Column( DB.String(), \n",
        "                                #DB.ForeignKey( 'assessments.scientificName'), \n",
        "                                nullable= False\n",
        "    )\n",
        "    code = DB.Column( DB.String(), nullable= False)\n",
        "    name = DB.Column( DB.String(), nullable= False)\n",
        "    majorImportance = DB.Column( DB.String())\n",
        "    season = DB.Column( DB.String())\n",
        "    suitability = DB.Column( DB.String())\n",
        "\n",
        "    def __repr__( self):\n",
        "        return '<Habitats that {} can be found in>'.format( self.scientificName)"
      ],
      "execution_count": null,
      "outputs": []
    },
    {
      "cell_type": "code",
      "metadata": {
        "id": "7cZlCIlcjOyl"
      },
      "source": [
        "## NOT USING PLANTS (yet? keeping just in case)\n",
        "\n",
        "'''\n",
        "class Plants( DB.Model):\n",
        "    index = DB.Column( DB.Numeric, primary_key= True)\n",
        "    assessmentId = DB.Column( DB.Numeric( 12, 0), nullable= False)\n",
        "    internalTaxonId = DB.Column( DB.Numeric( 12, 0), nullable= False)\n",
        "    scientificName = DB.Column( DB.String(), \n",
        "                                DB.ForeignKey( 'assessments.scientificName'), \n",
        "                                nullable= False\n",
        "    )\n",
        "    code = DB.Column( DB.String())\n",
        "    name = DB.Column( DB.String())\n",
        "\n",
        "    def __repr__( self):\n",
        "        return '<Plant {}'.format( self.scientificName)\n",
        "'''\n"
      ],
      "execution_count": null,
      "outputs": []
    },
    {
      "cell_type": "code",
      "metadata": {
        "id": "HEV0vccAjOf9"
      },
      "source": [
        "\n",
        "class ResearchNeeded( DB.Model):\n",
        "    index = DB.Column( DB.Numeric, primary_key= True)\n",
        "    assessmentId = DB.Column( DB.Numeric( 12, 0), nullable= False)\n",
        "    internalTaxonId = DB.Column( DB.Numeric( 12, 0), nullable= False)\n",
        "    scientificName = DB.Column( DB.String(), \n",
        "                                #DB.ForeignKey( 'assessments.scientificName'), \n",
        "                                nullable= False\n",
        "    )\n",
        "    code = DB.Column( DB.String(), nullable= False)\n",
        "    name = DB.Column( DB.String(), nullable= False)\n",
        "    note = DB.Column( DB.String())\n",
        "\n",
        "    def __repr__( self):\n",
        "        return '<Research still needed for {}>'.format( self.scientificName)"
      ],
      "execution_count": null,
      "outputs": []
    },
    {
      "cell_type": "code",
      "metadata": {
        "id": "BYJp874EjOUG"
      },
      "source": [
        "\n",
        "class Threats( DB.Model):\n",
        "    index = DB.Column( DB.Numeric, primary_key= True)\n",
        "    assessmentId = DB.Column( DB.Numeric( 12, 0), nullable= False)\n",
        "    internalTaxonId = DB.Column( DB.Numeric( 12, 0), nullable= False)\n",
        "    scientificName = DB.Column( DB.String(), \n",
        "                                #DB.ForeignKey( 'assessments.scientificName'), \n",
        "                                nullable= False\n",
        "    )\n",
        "    code = DB.Column( DB.String(), nullable= False)\n",
        "    name = DB.Column( DB.String(), nullable= False)\n",
        "    stressCode = DB.Column( DB.String())\n",
        "    stressName = DB.Column( DB.String())\n",
        "    ancestry = DB.Column( DB.String())\n",
        "    ias = DB.Column( DB.String())\n",
        "    internationalTrade = DB.Column( DB.String())\n",
        "    scope = DB.Column( DB.String())\n",
        "    severity = DB.Column( DB.String())\n",
        "    text = DB.Column( DB.String())\n",
        "    timing = DB.Column( DB.String())\n",
        "    virus = DB.Column( DB.String())\n",
        "\n",
        "    def __repr__( self):\n",
        "        return '<Threats to {}>'.format( self.scientificName)"
      ],
      "execution_count": null,
      "outputs": []
    },
    {
      "cell_type": "code",
      "metadata": {
        "id": "uts07-EdjOIj"
      },
      "source": [
        "\n",
        "class UseTrade( DB.Model):\n",
        "    index = DB.Column( DB.Numeric, primary_key= True)\n",
        "    assessmentId = DB.Column( DB.Numeric( 12, 0), nullable= False)\n",
        "    internalTaxonId = DB.Column( DB.Numeric( 12, 0), nullable= False)\n",
        "    scientificName = DB.Column( DB.String(), \n",
        "                                #DB.ForeignKey( 'assessments.scientificName'), \n",
        "                                nullable= False\n",
        "    )\n",
        "    code = DB.Column( DB.String(), nullable= False)\n",
        "    name = DB.Column( DB.String(), nullable= False)\n",
        "    international = DB.Column( DB.String())\n",
        "    national = DB.Column( DB.String())\n",
        "    other = DB.Column( DB.String())\n",
        "    subsistence = DB.Column( DB.String())\n",
        "\n",
        "    def __repr__( self):\n",
        "        return '<Trade uses for {}>'.format( self.scientificName)"
      ],
      "execution_count": null,
      "outputs": []
    },
    {
      "cell_type": "code",
      "metadata": {
        "id": "f8qg3WZcRFJq"
      },
      "source": [
        "\n",
        "class CitesIndex( DB.Model):\n",
        "    index = DB.Column( DB.Numeric, primary_key= True)\n",
        "    speciesId = DB.Column( DB.Numeric( 12, 0), nullable= False)\n",
        "    kingdomName = DB.Column( DB.String())\n",
        "    phylumName = DB.Column( DB.String())\n",
        "    orderName = DB.Column( DB.String())\n",
        "    className = DB.Column( DB.String())\n",
        "    familyName = DB.Column( DB.String())\n",
        "    genusName = DB.Column( DB.String())\n",
        "    speciesName = DB.Column( DB.String())\n",
        "    subspeciesName = DB.Column( DB.String())\n",
        "    scientificName = DB.Column( DB.String(), \n",
        "                                #DB.ForeignKey( 'assessments.scientificName'), \n",
        "                                nullable= False\n",
        "    )\n",
        "    author = DB.Column( DB.String())\n",
        "    rank = DB.Column( DB.String())\n",
        "    listing = DB.Column( DB.String(), nullable= False)\n",
        "    party = DB.Column( DB.String())\n",
        "    listedUnder = DB.Column( DB.String())\n",
        "    fullNote = DB.Column( DB.String())\n",
        "    full_note = DB.Column( DB.String())\n",
        "    countries_distributionFullNames = DB.Column( DB.String())\n",
        "    countries_distributionISOCodes = DB.Column( DB.String())\n",
        "    nativeDistributionFullNames = DB.Column( DB.String())\n",
        "    introducedDistribution = DB.Column( DB.String())\n",
        "    introducedDistribution_questionmark = DB.Column( DB.String())\n",
        "    reintroduced_Distribution = DB.Column( DB.String())\n",
        "    extinctDistribution = DB.Column( DB.String())\n",
        "    extinctDistribution_questionmark = DB.Column( DB.String())\n",
        "    distribution_Uncertain = DB.Column( DB.String())\n",
        "\n",
        "    def __repr__( self):\n",
        "        return '<CITES listing for {}>'.format( self.scientificName)"
      ],
      "execution_count": null,
      "outputs": []
    },
    {
      "cell_type": "markdown",
      "metadata": {
        "id": "Rga-fVGDVo4h"
      },
      "source": [
        "#### Working and Building:\n",
        "\n",
        "(NOTE: section NOT designed to be run sequentially)"
      ]
    },
    {
      "cell_type": "code",
      "metadata": {
        "id": "TCNuIQERC-vR",
        "outputId": "486d2ef5-5e8a-402c-eed8-9c3f1d398f99",
        "colab": {
          "base_uri": "https://localhost:8080/",
          "height": 201
        }
      },
      "source": [
        "# display tables currently in metadata (being worked on / changes to be committed)\n",
        "\n",
        "for t in DB.metadata.sorted_tables:\n",
        "    print( t.name)\n"
      ],
      "execution_count": null,
      "outputs": [
        {
          "output_type": "stream",
          "text": [
            "assessments\n",
            "cites_index\n",
            "common_names\n",
            "conservation_needed\n",
            "countries\n",
            "habitats\n",
            "research_needed\n",
            "taxonomy\n",
            "threats\n",
            "use_trade\n"
          ],
          "name": "stdout"
        }
      ]
    },
    {
      "cell_type": "code",
      "metadata": {
        "id": "L_6SRhagFG7N"
      },
      "source": [
        "# clear metadata cache / queue\n",
        "\n",
        "DB.metadata.clear()"
      ],
      "execution_count": null,
      "outputs": []
    },
    {
      "cell_type": "code",
      "metadata": {
        "id": "pdxwdvSBIRdu"
      },
      "source": [
        "# drop all tables currently listed in metadata\n",
        "\n",
        "DB.drop_all()"
      ],
      "execution_count": null,
      "outputs": []
    },
    {
      "cell_type": "code",
      "metadata": {
        "id": "n-RMPT9CKBxZ"
      },
      "source": [
        "# create all tables currently listed in metadata\n",
        "\n",
        "DB.create_all()"
      ],
      "execution_count": null,
      "outputs": []
    },
    {
      "cell_type": "code",
      "metadata": {
        "id": "54nrt9o7ujhF"
      },
      "source": [
        "# close all sessions / connections to db\n",
        "\n",
        "sqlalchemy.orm.session.close_all_sessions()"
      ],
      "execution_count": null,
      "outputs": []
    },
    {
      "cell_type": "code",
      "metadata": {
        "id": "jeyfVlfBf-zO"
      },
      "source": [
        "# inspect a given table\n",
        "\n",
        "engine.execute( 'SELECT * FROM taxonomy').fetchall()\n"
      ],
      "execution_count": null,
      "outputs": []
    },
    {
      "cell_type": "code",
      "metadata": {
        "id": "Bg2y6a4FF-al",
        "outputId": "8ad36a77-6785-42f1-fa04-b1da6a630eb7",
        "colab": {
          "base_uri": "https://localhost:8080/",
          "height": 201
        }
      },
      "source": [
        "# show all tables that exist in db\n",
        "\n",
        "engine.execute( \"SELECT table_name FROM information_schema.tables WHERE table_schema = 'public' AND table_type = 'BASE TABLE'\").fetchall()\n"
      ],
      "execution_count": null,
      "outputs": [
        {
          "output_type": "execute_result",
          "data": {
            "text/plain": [
              "[('threats',),\n",
              " ('habitats',),\n",
              " ('research_needed',),\n",
              " ('use_trade',),\n",
              " ('cites_index',),\n",
              " ('assessments',),\n",
              " ('common_names',),\n",
              " ('taxonomy',),\n",
              " ('conservation_needed',),\n",
              " ('countries',)]"
            ]
          },
          "metadata": {
            "tags": []
          },
          "execution_count": 80
        }
      ]
    },
    {
      "cell_type": "code",
      "metadata": {
        "id": "D21VblUMIcQQ",
        "outputId": "d6fb5f35-dbea-4354-dbeb-b690ef29b449",
        "colab": {
          "base_uri": "https://localhost:8080/",
          "height": 35
        }
      },
      "source": [
        "# show all dbs that exist in...space?\n",
        "\n",
        "engine.execute( 'SELECT datname FROM pg_database WHERE datistemplate = false').fetchall()\n"
      ],
      "execution_count": null,
      "outputs": [
        {
          "output_type": "execute_result",
          "data": {
            "text/plain": [
              "[('rdsadmin',), ('postgres',), ('project_canopy_test',)]"
            ]
          },
          "metadata": {
            "tags": []
          },
          "execution_count": 79
        }
      ]
    },
    {
      "cell_type": "code",
      "metadata": {
        "id": "pOOFzlDmecTw"
      },
      "source": [
        "# csv imports, with compatible (post-cleaning) NaN handling\n",
        "\n",
        "assessments = pd.read_csv( 'datasets/assessments.csv', low_memory= False, na_filter= False)\n",
        "commonNames = pd.read_csv( 'datasets/common_names.csv', low_memory= False, na_filter= False)\n",
        "taxonomy = pd.read_csv( 'datasets/taxonomy.csv', low_memory= False, na_filter= False)\n",
        "consNeeded = pd.read_csv( 'datasets/conservation_needed.csv', low_memory= False, na_filter= False)\n",
        "countries = pd.read_csv( 'datasets/countries.csv', low_memory= False, na_filter= False)\n",
        "habitats = pd.read_csv( 'datasets/habitats.csv', low_memory= False, na_filter= False)\n",
        "research = pd.read_csv( 'datasets/research_needed.csv', low_memory= False, na_filter= False)\n",
        "threats = pd.read_csv( 'datasets/threats.csv', low_memory= False, na_filter= False)\n",
        "useTrade = pd.read_csv( 'datasets/usetrade.csv', low_memory= False, na_filter= False)\n",
        "citesIndex = pd.read_csv( 'datasets/cites_listings.csv', low_memory= False, na_filter= False)\n"
      ],
      "execution_count": null,
      "outputs": []
    },
    {
      "cell_type": "code",
      "metadata": {
        "id": "6pgApiUF9D3Z",
        "outputId": "a76eec36-24c6-4368-dfa6-e24bc282cc99",
        "colab": {
          "base_uri": "https://localhost:8080/",
          "height": 311
        }
      },
      "source": [
        "habitats.code.value_counts()\n"
      ],
      "execution_count": null,
      "outputs": [
        {
          "output_type": "execute_result",
          "data": {
            "text/plain": [
              "1.6     3117\n",
              "5.1     2611\n",
              "5.7     1510\n",
              "5.8     1397\n",
              "5.5     1291\n",
              "5.2     1243\n",
              "1.9     1242\n",
              "5.4     1238\n",
              "1.5      764\n",
              "5.6      626\n",
              "14.6     396\n",
              "1.8      365\n",
              "1.7      192\n",
              "5.3      169\n",
              "5.9      156\n",
              "Name: code, dtype: int64"
            ]
          },
          "metadata": {
            "tags": []
          },
          "execution_count": 10
        }
      ]
    },
    {
      "cell_type": "code",
      "metadata": {
        "id": "Mmy6z4mDgmP2"
      },
      "source": [
        "# list for local-ish batch uploading to db (below)\n",
        "# 'file' seems to be an existing (protected?) object name, so.. fiiles ¯\\_(ツ)_/¯\n",
        "\n",
        "fiiles = ['datasets/assessments.csv',\n",
        "          'datasets/taxonomy.csv',\n",
        "          'datasets/common_names.csv',\n",
        "          'datasets/conservation_needed.csv',\n",
        "          'datasets/countries.csv',\n",
        "          'datasets/habitats.csv',\n",
        "          'datasets/research_needed.csv',\n",
        "          'datasets/threats.csv',\n",
        "          'datasets/usetrade.csv',\n",
        "          'datasets/cites_listings.csv',\n",
        "]"
      ],
      "execution_count": null,
      "outputs": []
    },
    {
      "cell_type": "code",
      "metadata": {
        "id": "yWOCkkbaGMT9"
      },
      "source": [
        "# raw connection allows easier access to DBAPI, use of copy_expert and SQL commands\n",
        "\n",
        "engineRaw = DB.create_engine( URL, {}).raw_connection()     # via psycopg, instead of sqla\n",
        "curseRaw = engineRaw.cursor()\n",
        "\n",
        "#curseRaw.connection.close()"
      ],
      "execution_count": null,
      "outputs": []
    },
    {
      "cell_type": "code",
      "metadata": {
        "id": "spLbKTil7oBp"
      },
      "source": [
        "# batch upload from list\n",
        "\n",
        "for fiile in fiiles:\n",
        "    base = os.path.basename( fiile)\n",
        "    tableName = os.path.splitext( base)[0]\n",
        "    with open( str( fiile), 'r') as f:\n",
        "        cmd = 'COPY ' + tableName + ' FROM STDIN WITH (FORMAT CSV, HEADER);'\n",
        "        curseRaw.copy_expert( cmd, f)\n",
        "    engineRaw.commit()\n",
        "    print( '{} complete!'.format( tableName))\n"
      ],
      "execution_count": null,
      "outputs": []
    },
    {
      "cell_type": "code",
      "metadata": {
        "id": "rJU5Si1EvQkG"
      },
      "source": [
        "# file-by-file upload (can functionize?)\n",
        "\n",
        "sourceFile = 'datasets/taxonomy.csv'\n",
        "tableDest = 'taxonomy'\n",
        "\n",
        "with open( sourceFile, 'r') as f:\n",
        "    cmd = 'COPY ' + tableDest + ' FROM STDIN WITH (FORMAT CSV, HEADER);'\n",
        "    curseRaw.copy_expert( cmd, f)\n",
        "    engineRaw.commit()"
      ],
      "execution_count": null,
      "outputs": []
    },
    {
      "cell_type": "code",
      "metadata": {
        "id": "iNjelN6fkcia"
      },
      "source": [
        "## PROBLEM TABLES ##\n",
        "## list of tables that threw errors on upload attempt, source of error\n",
        "\n",
        "'''\n",
        "common_names --\\\n",
        "countries       \\ \n",
        "research_needed   -->   change pri key to additional unique index value, fill index column\n",
        "habitats        /\n",
        "threats        /        ## done ##\n",
        "use_trade   --/\n",
        "'''\n"
      ],
      "execution_count": null,
      "outputs": []
    },
    {
      "cell_type": "code",
      "metadata": {
        "id": "jkL7PxYU0uUj"
      },
      "source": [
        "# fix for above: write existing (clean) tables to new CSVs -- by default, to_csv\n",
        "# wants to create / pre-pend an (unnamed) index column, so just forced the name\n",
        "\n",
        "commonNames.to_csv( 'common_names_new.csv', index_label= 'index')\n",
        "consNeeded.to_csv( 'conservation_needed_new.csv', index_label= 'index')\n",
        "countries.to_csv( 'countries_new.csv', index_label= 'index')\n",
        "habitats.to_csv( 'habitats_new.csv', index_label= 'index')\n",
        "research.to_csv( 'research_needed_new.csv', index_label= 'index')\n",
        "threats.to_csv( 'threats_new.csv', index_label= 'index')\n",
        "useTrade.to_csv( 'usetrade_new.csv', index_label= 'index')\n",
        "citesIndex.to_csv( 'citesIndex_new.csv', index_label= 'index')\n"
      ],
      "execution_count": null,
      "outputs": []
    },
    {
      "cell_type": "code",
      "metadata": {
        "id": "3pZtCTHL4Zgj"
      },
      "source": [
        "# fix for above (part 2): after new CSVs are created, need to re-instantiate them\n",
        "# with CORRECT NaN HANDLING THIS TIME\n",
        "# na_filter= False is a little heavy-handed, but so much time was spent cleaning these tables,\n",
        "# the probability of it causing problems is low ( !!_FOR NOW_!! )\n",
        "\n",
        "commonNames_new = pd.read_csv( 'common_names_new.csv', low_memory= False, na_filter= False)\n",
        "consNeeded_new = pd.read_csv( 'conservation_needed_new.csv', low_memory= False, na_filter= False)\n",
        "countries_new = pd.read_csv( 'countries_new.csv', low_memory= False, na_filter= False)\n",
        "habitats_new = pd.read_csv( 'habitats_new.csv', low_memory= False, na_filter= False)\n",
        "research_new = pd.read_csv( 'research_needed_new.csv', low_memory= False, na_filter= False)\n",
        "threats_new = pd.read_csv( 'threats_new.csv', low_memory= False, na_filter= False)\n",
        "useTrade_new = pd.read_csv( 'usetrade_new.csv', low_memory= False, na_filter= False)\n",
        "citesIndex_new = pd.read_csv( 'citesIndex_new.csv', low_memory= False, na_filter= False)\n"
      ],
      "execution_count": null,
      "outputs": []
    }
  ]
}